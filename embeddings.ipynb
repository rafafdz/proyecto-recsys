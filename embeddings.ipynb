{
 "cells": [
  {
   "cell_type": "markdown",
   "metadata": {},
   "source": [
    "#  Librerías"
   ]
  },
  {
   "cell_type": "markdown",
   "metadata": {},
   "source": [
    "### Librerías pesadas\n",
    "Para ejecutar solo una vez"
   ]
  },
  {
   "cell_type": "code",
   "execution_count": 1,
   "metadata": {},
   "outputs": [],
   "source": [
    "import torch\n",
    "import pandas as pd\n",
    "import numpy as np"
   ]
  },
  {
   "cell_type": "markdown",
   "metadata": {},
   "source": [
    "### Librerías livianas\n",
    "Para ejecutar múltiples veces"
   ]
  },
  {
   "cell_type": "code",
   "execution_count": null,
   "metadata": {},
   "outputs": [],
   "source": []
  },
  {
   "cell_type": "markdown",
   "metadata": {},
   "source": [
    "# Configuración General\n",
    "\n",
    "Variables relacionadas al procesamiento de datos y del modelo en sí"
   ]
  },
  {
   "cell_type": "markdown",
   "metadata": {},
   "source": [
    "### Variables de Preprocesamiento"
   ]
  },
  {
   "cell_type": "code",
   "execution_count": 2,
   "metadata": {},
   "outputs": [],
   "source": [
    "\n",
    "# Porcentaje para usar solo una fracción del dataset de usuario.\n",
    "# si al eliminar usuarios quedan viajes o POI sin visitas, estos también\n",
    "# serán eliminados\n",
    "USER_FRAC = 0.2"
   ]
  },
  {
   "cell_type": "code",
   "execution_count": 3,
   "metadata": {},
   "outputs": [],
   "source": [
    "MIN_POI_VISITS = 5\n",
    "\n",
    "MAX_SEQUENCES_PER_USER = 200\n",
    "SEQUENCE_LENGTH = 10\n"
   ]
  },
  {
   "cell_type": "markdown",
   "metadata": {},
   "source": [
    "# Gowalla Dataset"
   ]
  },
  {
   "cell_type": "code",
   "execution_count": 4,
   "metadata": {},
   "outputs": [
    {
     "name": "stdout",
     "output_type": "stream",
     "text": [
      "Already Downloaded\n"
     ]
    }
   ],
   "source": [
    "! ./download-gowalla.sh"
   ]
  },
  {
   "cell_type": "markdown",
   "metadata": {},
   "source": [
    "### Cargar Datos"
   ]
  },
  {
   "cell_type": "code",
   "execution_count": 5,
   "metadata": {},
   "outputs": [],
   "source": [
    "users    = pd.read_csv('download/gowalla/gowalla_userinfo.csv')\n",
    "friends  = pd.read_csv('download/gowalla/gowalla_friendship.csv')\n",
    "checkins = pd.read_csv('download/gowalla/gowalla_checkins.csv')\n",
    "pois_1   = pd.read_csv('download/gowalla/gowalla_spots_subset1.csv', encoding='iso-8859-1')\n",
    "pois_2   = pd.read_csv('download/gowalla/gowalla_spots_subset2.csv', encoding='iso-8859-1')\n",
    "pois     = pd.concat((pois_1, pois_2), ignore_index=True)\n"
   ]
  },
  {
   "cell_type": "markdown",
   "metadata": {},
   "source": [
    "# Preprocesamiento"
   ]
  },
  {
   "cell_type": "markdown",
   "metadata": {},
   "source": [
    "### Usuarios"
   ]
  },
  {
   "cell_type": "markdown",
   "metadata": {},
   "source": [
    "Revisamos la distrubución de checkins de usuarios"
   ]
  },
  {
   "cell_type": "code",
   "execution_count": 6,
   "metadata": {},
   "outputs": [
    {
     "data": {
      "text/html": [
       "<div>\n",
       "<style scoped>\n",
       "    .dataframe tbody tr th:only-of-type {\n",
       "        vertical-align: middle;\n",
       "    }\n",
       "\n",
       "    .dataframe tbody tr th {\n",
       "        vertical-align: top;\n",
       "    }\n",
       "\n",
       "    .dataframe thead th {\n",
       "        text-align: right;\n",
       "    }\n",
       "</style>\n",
       "<table border=\"1\" class=\"dataframe\">\n",
       "  <thead>\n",
       "    <tr style=\"text-align: right;\">\n",
       "      <th></th>\n",
       "      <th>id</th>\n",
       "      <th>bookmarked_spots_count</th>\n",
       "      <th>challenge_pin_count</th>\n",
       "      <th>country_pin_count</th>\n",
       "      <th>highlights_count</th>\n",
       "      <th>items_count</th>\n",
       "      <th>photos_count</th>\n",
       "      <th>pins_count</th>\n",
       "      <th>province_pin_count</th>\n",
       "      <th>region_pin_count</th>\n",
       "      <th>state_pin_count</th>\n",
       "      <th>trips_count</th>\n",
       "      <th>friends_count</th>\n",
       "      <th>stamps_count</th>\n",
       "      <th>checkin_num</th>\n",
       "      <th>places_num</th>\n",
       "    </tr>\n",
       "  </thead>\n",
       "  <tbody>\n",
       "    <tr>\n",
       "      <th>186414</th>\n",
       "      <td>948570</td>\n",
       "      <td>0</td>\n",
       "      <td>7</td>\n",
       "      <td>2</td>\n",
       "      <td>0</td>\n",
       "      <td>8</td>\n",
       "      <td>10</td>\n",
       "      <td>9</td>\n",
       "      <td>0</td>\n",
       "      <td>2</td>\n",
       "      <td>0</td>\n",
       "      <td>0</td>\n",
       "      <td>24</td>\n",
       "      <td>30</td>\n",
       "      <td>52</td>\n",
       "      <td>30</td>\n",
       "    </tr>\n",
       "    <tr>\n",
       "      <th>34975</th>\n",
       "      <td>76531</td>\n",
       "      <td>0</td>\n",
       "      <td>1</td>\n",
       "      <td>0</td>\n",
       "      <td>0</td>\n",
       "      <td>5</td>\n",
       "      <td>0</td>\n",
       "      <td>1</td>\n",
       "      <td>0</td>\n",
       "      <td>0</td>\n",
       "      <td>0</td>\n",
       "      <td>0</td>\n",
       "      <td>1</td>\n",
       "      <td>0</td>\n",
       "      <td>0</td>\n",
       "      <td>0</td>\n",
       "    </tr>\n",
       "    <tr>\n",
       "      <th>111471</th>\n",
       "      <td>242313</td>\n",
       "      <td>0</td>\n",
       "      <td>7</td>\n",
       "      <td>1</td>\n",
       "      <td>0</td>\n",
       "      <td>10</td>\n",
       "      <td>0</td>\n",
       "      <td>14</td>\n",
       "      <td>0</td>\n",
       "      <td>7</td>\n",
       "      <td>6</td>\n",
       "      <td>0</td>\n",
       "      <td>14</td>\n",
       "      <td>41</td>\n",
       "      <td>50</td>\n",
       "      <td>41</td>\n",
       "    </tr>\n",
       "    <tr>\n",
       "      <th>82903</th>\n",
       "      <td>172995</td>\n",
       "      <td>0</td>\n",
       "      <td>3</td>\n",
       "      <td>1</td>\n",
       "      <td>0</td>\n",
       "      <td>2</td>\n",
       "      <td>0</td>\n",
       "      <td>4</td>\n",
       "      <td>0</td>\n",
       "      <td>1</td>\n",
       "      <td>0</td>\n",
       "      <td>0</td>\n",
       "      <td>5</td>\n",
       "      <td>10</td>\n",
       "      <td>17</td>\n",
       "      <td>10</td>\n",
       "    </tr>\n",
       "    <tr>\n",
       "      <th>380039</th>\n",
       "      <td>2567257</td>\n",
       "      <td>0</td>\n",
       "      <td>8</td>\n",
       "      <td>1</td>\n",
       "      <td>0</td>\n",
       "      <td>4</td>\n",
       "      <td>5</td>\n",
       "      <td>12</td>\n",
       "      <td>0</td>\n",
       "      <td>4</td>\n",
       "      <td>3</td>\n",
       "      <td>0</td>\n",
       "      <td>3</td>\n",
       "      <td>22</td>\n",
       "      <td>30</td>\n",
       "      <td>23</td>\n",
       "    </tr>\n",
       "  </tbody>\n",
       "</table>\n",
       "</div>"
      ],
      "text/plain": [
       "             id  bookmarked_spots_count  challenge_pin_count  \\\n",
       "186414   948570                       0                    7   \n",
       "34975     76531                       0                    1   \n",
       "111471   242313                       0                    7   \n",
       "82903    172995                       0                    3   \n",
       "380039  2567257                       0                    8   \n",
       "\n",
       "        country_pin_count  highlights_count  items_count  photos_count  \\\n",
       "186414                  2                 0            8            10   \n",
       "34975                   0                 0            5             0   \n",
       "111471                  1                 0           10             0   \n",
       "82903                   1                 0            2             0   \n",
       "380039                  1                 0            4             5   \n",
       "\n",
       "        pins_count  province_pin_count  region_pin_count  state_pin_count  \\\n",
       "186414           9                   0                 2                0   \n",
       "34975            1                   0                 0                0   \n",
       "111471          14                   0                 7                6   \n",
       "82903            4                   0                 1                0   \n",
       "380039          12                   0                 4                3   \n",
       "\n",
       "        trips_count  friends_count  stamps_count  checkin_num  places_num  \n",
       "186414            0             24            30           52          30  \n",
       "34975             0              1             0            0           0  \n",
       "111471            0             14            41           50          41  \n",
       "82903             0              5            10           17          10  \n",
       "380039            0              3            22           30          23  "
      ]
     },
     "execution_count": 6,
     "metadata": {},
     "output_type": "execute_result"
    }
   ],
   "source": [
    "users.sample(5)"
   ]
  },
  {
   "cell_type": "code",
   "execution_count": 7,
   "metadata": {},
   "outputs": [
    {
     "data": {
      "text/plain": [
       "count    407533.000000\n",
       "mean         88.341212\n",
       "std         435.982581\n",
       "min           0.000000\n",
       "25%           1.000000\n",
       "50%          10.000000\n",
       "75%          52.000000\n",
       "max       46981.000000\n",
       "Name: checkin_num, dtype: float64"
      ]
     },
     "execution_count": 7,
     "metadata": {},
     "output_type": "execute_result"
    }
   ],
   "source": [
    "users.checkin_num.describe()"
   ]
  },
  {
   "cell_type": "markdown",
   "metadata": {},
   "source": [
    "nos quedamos con un porcentaje de los usuarios y los filtramos los usuarios segun los checkins que tengan"
   ]
  },
  {
   "cell_type": "code",
   "execution_count": 8,
   "metadata": {},
   "outputs": [
    {
     "name": "stdout",
     "output_type": "stream",
     "text": [
      "Current users 407533\n",
      "Reduced users 40874\n"
     ]
    }
   ],
   "source": [
    "print('Current users', len(users))\n",
    "users = users.sample(frac=USER_FRAC)\n",
    "users = users[users.checkin_num >= SEQUENCE_LENGTH]\n",
    "users = users[['id']]\n",
    "print('Reduced users', len(users))"
   ]
  },
  {
   "cell_type": "code",
   "execution_count": 9,
   "metadata": {},
   "outputs": [
    {
     "data": {
      "text/html": [
       "<div>\n",
       "<style scoped>\n",
       "    .dataframe tbody tr th:only-of-type {\n",
       "        vertical-align: middle;\n",
       "    }\n",
       "\n",
       "    .dataframe tbody tr th {\n",
       "        vertical-align: top;\n",
       "    }\n",
       "\n",
       "    .dataframe thead th {\n",
       "        text-align: right;\n",
       "    }\n",
       "</style>\n",
       "<table border=\"1\" class=\"dataframe\">\n",
       "  <thead>\n",
       "    <tr style=\"text-align: right;\">\n",
       "      <th></th>\n",
       "      <th>userid</th>\n",
       "      <th>placeid</th>\n",
       "      <th>datetime</th>\n",
       "    </tr>\n",
       "  </thead>\n",
       "  <tbody>\n",
       "    <tr>\n",
       "      <th>4223526</th>\n",
       "      <td>69996</td>\n",
       "      <td>269432</td>\n",
       "      <td>2011-06-01T19:10:19Z</td>\n",
       "    </tr>\n",
       "    <tr>\n",
       "      <th>4223527</th>\n",
       "      <td>69996</td>\n",
       "      <td>61280</td>\n",
       "      <td>2011-05-31T20:35:45Z</td>\n",
       "    </tr>\n",
       "    <tr>\n",
       "      <th>4223528</th>\n",
       "      <td>69996</td>\n",
       "      <td>49812</td>\n",
       "      <td>2011-05-30T23:29:12Z</td>\n",
       "    </tr>\n",
       "    <tr>\n",
       "      <th>4223529</th>\n",
       "      <td>69996</td>\n",
       "      <td>205779</td>\n",
       "      <td>2011-05-30T23:28:53Z</td>\n",
       "    </tr>\n",
       "    <tr>\n",
       "      <th>4223530</th>\n",
       "      <td>69996</td>\n",
       "      <td>6511613</td>\n",
       "      <td>2011-05-30T23:28:25Z</td>\n",
       "    </tr>\n",
       "    <tr>\n",
       "      <th>...</th>\n",
       "      <td>...</td>\n",
       "      <td>...</td>\n",
       "      <td>...</td>\n",
       "    </tr>\n",
       "    <tr>\n",
       "      <th>4224301</th>\n",
       "      <td>69996</td>\n",
       "      <td>282847</td>\n",
       "      <td>2009-12-28T12:48:22Z</td>\n",
       "    </tr>\n",
       "    <tr>\n",
       "      <th>4224302</th>\n",
       "      <td>69996</td>\n",
       "      <td>117306</td>\n",
       "      <td>2009-12-28T12:45:56Z</td>\n",
       "    </tr>\n",
       "    <tr>\n",
       "      <th>4224303</th>\n",
       "      <td>69996</td>\n",
       "      <td>150947</td>\n",
       "      <td>2009-12-27T22:37:39Z</td>\n",
       "    </tr>\n",
       "    <tr>\n",
       "      <th>4224304</th>\n",
       "      <td>69996</td>\n",
       "      <td>261322</td>\n",
       "      <td>2009-12-27T22:27:05Z</td>\n",
       "    </tr>\n",
       "    <tr>\n",
       "      <th>4224305</th>\n",
       "      <td>69996</td>\n",
       "      <td>168761</td>\n",
       "      <td>2009-12-27T22:17:31Z</td>\n",
       "    </tr>\n",
       "  </tbody>\n",
       "</table>\n",
       "<p>780 rows × 3 columns</p>\n",
       "</div>"
      ],
      "text/plain": [
       "         userid  placeid              datetime\n",
       "4223526   69996   269432  2011-06-01T19:10:19Z\n",
       "4223527   69996    61280  2011-05-31T20:35:45Z\n",
       "4223528   69996    49812  2011-05-30T23:29:12Z\n",
       "4223529   69996   205779  2011-05-30T23:28:53Z\n",
       "4223530   69996  6511613  2011-05-30T23:28:25Z\n",
       "...         ...      ...                   ...\n",
       "4224301   69996   282847  2009-12-28T12:48:22Z\n",
       "4224302   69996   117306  2009-12-28T12:45:56Z\n",
       "4224303   69996   150947  2009-12-27T22:37:39Z\n",
       "4224304   69996   261322  2009-12-27T22:27:05Z\n",
       "4224305   69996   168761  2009-12-27T22:17:31Z\n",
       "\n",
       "[780 rows x 3 columns]"
      ]
     },
     "execution_count": 9,
     "metadata": {},
     "output_type": "execute_result"
    }
   ],
   "source": [
    "checkins[checkins.userid ==  69996]"
   ]
  },
  {
   "cell_type": "markdown",
   "metadata": {},
   "source": [
    "### Amigos"
   ]
  },
  {
   "cell_type": "code",
   "execution_count": 10,
   "metadata": {},
   "outputs": [
    {
     "data": {
      "text/html": [
       "<div>\n",
       "<style scoped>\n",
       "    .dataframe tbody tr th:only-of-type {\n",
       "        vertical-align: middle;\n",
       "    }\n",
       "\n",
       "    .dataframe tbody tr th {\n",
       "        vertical-align: top;\n",
       "    }\n",
       "\n",
       "    .dataframe thead th {\n",
       "        text-align: right;\n",
       "    }\n",
       "</style>\n",
       "<table border=\"1\" class=\"dataframe\">\n",
       "  <thead>\n",
       "    <tr style=\"text-align: right;\">\n",
       "      <th></th>\n",
       "      <th>userid1</th>\n",
       "      <th>userid2</th>\n",
       "    </tr>\n",
       "  </thead>\n",
       "  <tbody>\n",
       "    <tr>\n",
       "      <th>262841</th>\n",
       "      <td>11610</td>\n",
       "      <td>250986</td>\n",
       "    </tr>\n",
       "    <tr>\n",
       "      <th>549920</th>\n",
       "      <td>27125</td>\n",
       "      <td>291754</td>\n",
       "    </tr>\n",
       "    <tr>\n",
       "      <th>2054561</th>\n",
       "      <td>195756</td>\n",
       "      <td>113228</td>\n",
       "    </tr>\n",
       "    <tr>\n",
       "      <th>938616</th>\n",
       "      <td>67105</td>\n",
       "      <td>67138</td>\n",
       "    </tr>\n",
       "    <tr>\n",
       "      <th>739466</th>\n",
       "      <td>49428</td>\n",
       "      <td>1934</td>\n",
       "    </tr>\n",
       "  </tbody>\n",
       "</table>\n",
       "</div>"
      ],
      "text/plain": [
       "         userid1  userid2\n",
       "262841     11610   250986\n",
       "549920     27125   291754\n",
       "2054561   195756   113228\n",
       "938616     67105    67138\n",
       "739466     49428     1934"
      ]
     },
     "execution_count": 10,
     "metadata": {},
     "output_type": "execute_result"
    }
   ],
   "source": [
    "friends.sample(5)"
   ]
  },
  {
   "cell_type": "markdown",
   "metadata": {},
   "source": [
    "### Checkins"
   ]
  },
  {
   "cell_type": "code",
   "execution_count": 11,
   "metadata": {},
   "outputs": [
    {
     "data": {
      "text/html": [
       "<div>\n",
       "<style scoped>\n",
       "    .dataframe tbody tr th:only-of-type {\n",
       "        vertical-align: middle;\n",
       "    }\n",
       "\n",
       "    .dataframe tbody tr th {\n",
       "        vertical-align: top;\n",
       "    }\n",
       "\n",
       "    .dataframe thead th {\n",
       "        text-align: right;\n",
       "    }\n",
       "</style>\n",
       "<table border=\"1\" class=\"dataframe\">\n",
       "  <thead>\n",
       "    <tr style=\"text-align: right;\">\n",
       "      <th></th>\n",
       "      <th>userid</th>\n",
       "      <th>placeid</th>\n",
       "      <th>datetime</th>\n",
       "    </tr>\n",
       "  </thead>\n",
       "  <tbody>\n",
       "    <tr>\n",
       "      <th>13717398</th>\n",
       "      <td>194444</td>\n",
       "      <td>792340</td>\n",
       "      <td>2010-08-30T13:39:17Z</td>\n",
       "    </tr>\n",
       "    <tr>\n",
       "      <th>3222342</th>\n",
       "      <td>104900</td>\n",
       "      <td>267123</td>\n",
       "      <td>2010-02-03T23:39:40Z</td>\n",
       "    </tr>\n",
       "    <tr>\n",
       "      <th>12164383</th>\n",
       "      <td>56034</td>\n",
       "      <td>64821</td>\n",
       "      <td>2011-02-06T14:25:54Z</td>\n",
       "    </tr>\n",
       "    <tr>\n",
       "      <th>18120944</th>\n",
       "      <td>2082171</td>\n",
       "      <td>454291</td>\n",
       "      <td>2011-03-27T16:09:40Z</td>\n",
       "    </tr>\n",
       "    <tr>\n",
       "      <th>31477178</th>\n",
       "      <td>371762</td>\n",
       "      <td>384990</td>\n",
       "      <td>2011-02-07T02:05:19Z</td>\n",
       "    </tr>\n",
       "  </tbody>\n",
       "</table>\n",
       "</div>"
      ],
      "text/plain": [
       "           userid  placeid              datetime\n",
       "13717398   194444   792340  2010-08-30T13:39:17Z\n",
       "3222342    104900   267123  2010-02-03T23:39:40Z\n",
       "12164383    56034    64821  2011-02-06T14:25:54Z\n",
       "18120944  2082171   454291  2011-03-27T16:09:40Z\n",
       "31477178   371762   384990  2011-02-07T02:05:19Z"
      ]
     },
     "execution_count": 11,
     "metadata": {},
     "output_type": "execute_result"
    }
   ],
   "source": [
    "checkins.sample(5)"
   ]
  },
  {
   "cell_type": "markdown",
   "metadata": {},
   "source": [
    "Eliminamos los checkins de los usuarios no sampleados"
   ]
  },
  {
   "cell_type": "code",
   "execution_count": 12,
   "metadata": {},
   "outputs": [
    {
     "name": "stdout",
     "output_type": "stream",
     "text": [
      "Current checkins 36001959\n",
      "Reduced checkins 7146627\n"
     ]
    }
   ],
   "source": [
    "print('Current checkins', len(checkins))\n",
    "checkins = pd.merge(checkins, users, how='inner', left_on='userid', right_on='id', copy=False)[checkins.columns]\n",
    "checkins = checkins.reset_index(drop=True)\n",
    "print('Reduced checkins', len(checkins))"
   ]
  },
  {
   "cell_type": "markdown",
   "metadata": {},
   "source": [
    "### POIS"
   ]
  },
  {
   "cell_type": "code",
   "execution_count": 13,
   "metadata": {},
   "outputs": [
    {
     "data": {
      "text/html": [
       "<div>\n",
       "<style scoped>\n",
       "    .dataframe tbody tr th:only-of-type {\n",
       "        vertical-align: middle;\n",
       "    }\n",
       "\n",
       "    .dataframe tbody tr th {\n",
       "        vertical-align: top;\n",
       "    }\n",
       "\n",
       "    .dataframe thead th {\n",
       "        text-align: right;\n",
       "    }\n",
       "</style>\n",
       "<table border=\"1\" class=\"dataframe\">\n",
       "  <thead>\n",
       "    <tr style=\"text-align: right;\">\n",
       "      <th></th>\n",
       "      <th>id</th>\n",
       "      <th>created_at</th>\n",
       "      <th>lng</th>\n",
       "      <th>lat</th>\n",
       "      <th>photos_count</th>\n",
       "      <th>checkins_count</th>\n",
       "      <th>users_count</th>\n",
       "      <th>radius_meters</th>\n",
       "      <th>highlights_count</th>\n",
       "      <th>items_count</th>\n",
       "      <th>max_items_count</th>\n",
       "      <th>spot_categories</th>\n",
       "      <th>name</th>\n",
       "      <th>city_state</th>\n",
       "      <th>Unnamed: 5</th>\n",
       "      <th>Unnamed: 6</th>\n",
       "    </tr>\n",
       "  </thead>\n",
       "  <tbody>\n",
       "    <tr>\n",
       "      <th>2552903</th>\n",
       "      <td>7324828</td>\n",
       "      <td>2011-05-03T08:04:46Z</td>\n",
       "      <td>17.874774</td>\n",
       "      <td>59.577125</td>\n",
       "      <td>0.0</td>\n",
       "      <td>1.0</td>\n",
       "      <td>1.0</td>\n",
       "      <td>100.0</td>\n",
       "      <td>0.0</td>\n",
       "      <td>0.0</td>\n",
       "      <td>10.0</td>\n",
       "      <td>[{'url': '/categories/170', 'name': 'Warehouse...</td>\n",
       "      <td>NaN</td>\n",
       "      <td>NaN</td>\n",
       "      <td>NaN</td>\n",
       "      <td>NaN</td>\n",
       "    </tr>\n",
       "    <tr>\n",
       "      <th>931988</th>\n",
       "      <td>1056931</td>\n",
       "      <td>2010-05-03T04:02:41Z</td>\n",
       "      <td>114.151622</td>\n",
       "      <td>22.286545</td>\n",
       "      <td>0.0</td>\n",
       "      <td>8.0</td>\n",
       "      <td>7.0</td>\n",
       "      <td>75.0</td>\n",
       "      <td>0.0</td>\n",
       "      <td>0.0</td>\n",
       "      <td>10.0</td>\n",
       "      <td>[{'url': '/categories/106', 'name': 'Grocery'}]</td>\n",
       "      <td>NaN</td>\n",
       "      <td>NaN</td>\n",
       "      <td>NaN</td>\n",
       "      <td>NaN</td>\n",
       "    </tr>\n",
       "    <tr>\n",
       "      <th>2322948</th>\n",
       "      <td>7024989</td>\n",
       "      <td>2011-03-05T19:56:39Z</td>\n",
       "      <td>-111.918709</td>\n",
       "      <td>33.372716</td>\n",
       "      <td>1.0</td>\n",
       "      <td>2.0</td>\n",
       "      <td>2.0</td>\n",
       "      <td>150.0</td>\n",
       "      <td>0.0</td>\n",
       "      <td>0.0</td>\n",
       "      <td>10.0</td>\n",
       "      <td>[{'url': '/categories/38', 'name': 'City Park'}]</td>\n",
       "      <td>NaN</td>\n",
       "      <td>NaN</td>\n",
       "      <td>NaN</td>\n",
       "      <td>NaN</td>\n",
       "    </tr>\n",
       "    <tr>\n",
       "      <th>2338818</th>\n",
       "      <td>7045468</td>\n",
       "      <td>2011-03-09T20:18:03Z</td>\n",
       "      <td>-84.674167</td>\n",
       "      <td>45.027508</td>\n",
       "      <td>0.0</td>\n",
       "      <td>2.0</td>\n",
       "      <td>1.0</td>\n",
       "      <td>75.0</td>\n",
       "      <td>0.0</td>\n",
       "      <td>0.0</td>\n",
       "      <td>10.0</td>\n",
       "      <td>[{'url': '/categories/239', 'name': 'Accessori...</td>\n",
       "      <td>NaN</td>\n",
       "      <td>NaN</td>\n",
       "      <td>NaN</td>\n",
       "      <td>NaN</td>\n",
       "    </tr>\n",
       "    <tr>\n",
       "      <th>872715</th>\n",
       "      <td>988962</td>\n",
       "      <td>2010-04-22T05:07:08Z</td>\n",
       "      <td>-93.431999</td>\n",
       "      <td>37.286460</td>\n",
       "      <td>0.0</td>\n",
       "      <td>2.0</td>\n",
       "      <td>2.0</td>\n",
       "      <td>75.0</td>\n",
       "      <td>0.0</td>\n",
       "      <td>0.0</td>\n",
       "      <td>10.0</td>\n",
       "      <td>[{'url': '/categories/57', 'name': 'Other - Tr...</td>\n",
       "      <td>NaN</td>\n",
       "      <td>NaN</td>\n",
       "      <td>NaN</td>\n",
       "      <td>NaN</td>\n",
       "    </tr>\n",
       "  </tbody>\n",
       "</table>\n",
       "</div>"
      ],
      "text/plain": [
       "              id            created_at         lng        lat  photos_count  \\\n",
       "2552903  7324828  2011-05-03T08:04:46Z   17.874774  59.577125           0.0   \n",
       "931988   1056931  2010-05-03T04:02:41Z  114.151622  22.286545           0.0   \n",
       "2322948  7024989  2011-03-05T19:56:39Z -111.918709  33.372716           1.0   \n",
       "2338818  7045468  2011-03-09T20:18:03Z  -84.674167  45.027508           0.0   \n",
       "872715    988962  2010-04-22T05:07:08Z  -93.431999  37.286460           0.0   \n",
       "\n",
       "         checkins_count  users_count  radius_meters  highlights_count  \\\n",
       "2552903             1.0          1.0          100.0               0.0   \n",
       "931988              8.0          7.0           75.0               0.0   \n",
       "2322948             2.0          2.0          150.0               0.0   \n",
       "2338818             2.0          1.0           75.0               0.0   \n",
       "872715              2.0          2.0           75.0               0.0   \n",
       "\n",
       "         items_count  max_items_count  \\\n",
       "2552903          0.0             10.0   \n",
       "931988           0.0             10.0   \n",
       "2322948          0.0             10.0   \n",
       "2338818          0.0             10.0   \n",
       "872715           0.0             10.0   \n",
       "\n",
       "                                           spot_categories name city_state  \\\n",
       "2552903  [{'url': '/categories/170', 'name': 'Warehouse...  NaN        NaN   \n",
       "931988     [{'url': '/categories/106', 'name': 'Grocery'}]  NaN        NaN   \n",
       "2322948   [{'url': '/categories/38', 'name': 'City Park'}]  NaN        NaN   \n",
       "2338818  [{'url': '/categories/239', 'name': 'Accessori...  NaN        NaN   \n",
       "872715   [{'url': '/categories/57', 'name': 'Other - Tr...  NaN        NaN   \n",
       "\n",
       "        Unnamed: 5 Unnamed: 6  \n",
       "2552903        NaN        NaN  \n",
       "931988         NaN        NaN  \n",
       "2322948        NaN        NaN  \n",
       "2338818        NaN        NaN  \n",
       "872715         NaN        NaN  "
      ]
     },
     "execution_count": 13,
     "metadata": {},
     "output_type": "execute_result"
    }
   ],
   "source": [
    "pois.sample(5)"
   ]
  },
  {
   "cell_type": "markdown",
   "metadata": {},
   "source": [
    "Filtramos los pois si han sido visitadas pocas veces según los parámetros que definimos"
   ]
  },
  {
   "cell_type": "code",
   "execution_count": 14,
   "metadata": {},
   "outputs": [],
   "source": [
    "visited_pois = pd.merge(pois, checkins, left_on='id', right_on='placeid', how='inner', copy=False)"
   ]
  },
  {
   "cell_type": "code",
   "execution_count": 15,
   "metadata": {},
   "outputs": [],
   "source": [
    "visited_pois['visited_count'] = np.zeros(len(visited_pois))\n",
    "\n",
    "visited_pois = visited_pois[['id', 'visited_count']].groupby(by='id').count()\n",
    "visited_pois = visited_pois[visited_pois.visited_count >= MIN_POI_VISITS]\n",
    "\n",
    "pois = pd.merge(pois, visited_pois, on='id', how='inner', copy=False)"
   ]
  },
  {
   "cell_type": "markdown",
   "metadata": {},
   "source": [
    "Nos quedamos con sólo las columnas que nos importan"
   ]
  },
  {
   "cell_type": "code",
   "execution_count": 16,
   "metadata": {},
   "outputs": [
    {
     "data": {
      "text/html": [
       "<div>\n",
       "<style scoped>\n",
       "    .dataframe tbody tr th:only-of-type {\n",
       "        vertical-align: middle;\n",
       "    }\n",
       "\n",
       "    .dataframe tbody tr th {\n",
       "        vertical-align: top;\n",
       "    }\n",
       "\n",
       "    .dataframe thead th {\n",
       "        text-align: right;\n",
       "    }\n",
       "</style>\n",
       "<table border=\"1\" class=\"dataframe\">\n",
       "  <thead>\n",
       "    <tr style=\"text-align: right;\">\n",
       "      <th></th>\n",
       "      <th>id</th>\n",
       "      <th>lat</th>\n",
       "      <th>lng</th>\n",
       "      <th>visited_count</th>\n",
       "    </tr>\n",
       "  </thead>\n",
       "  <tbody>\n",
       "    <tr>\n",
       "      <th>0</th>\n",
       "      <td>8904</td>\n",
       "      <td>39.052318</td>\n",
       "      <td>-94.607499</td>\n",
       "      <td>8</td>\n",
       "    </tr>\n",
       "    <tr>\n",
       "      <th>1</th>\n",
       "      <td>8932</td>\n",
       "      <td>32.927662</td>\n",
       "      <td>-97.254356</td>\n",
       "      <td>7</td>\n",
       "    </tr>\n",
       "    <tr>\n",
       "      <th>2</th>\n",
       "      <td>8936</td>\n",
       "      <td>39.053318</td>\n",
       "      <td>-94.591995</td>\n",
       "      <td>16</td>\n",
       "    </tr>\n",
       "    <tr>\n",
       "      <th>3</th>\n",
       "      <td>8938</td>\n",
       "      <td>39.052824</td>\n",
       "      <td>-94.590311</td>\n",
       "      <td>84</td>\n",
       "    </tr>\n",
       "    <tr>\n",
       "      <th>4</th>\n",
       "      <td>8947</td>\n",
       "      <td>37.331880</td>\n",
       "      <td>-122.029631</td>\n",
       "      <td>820</td>\n",
       "    </tr>\n",
       "    <tr>\n",
       "      <th>...</th>\n",
       "      <td>...</td>\n",
       "      <td>...</td>\n",
       "      <td>...</td>\n",
       "      <td>...</td>\n",
       "    </tr>\n",
       "    <tr>\n",
       "      <th>325647</th>\n",
       "      <td>7520940</td>\n",
       "      <td>40.099642</td>\n",
       "      <td>-8.505145</td>\n",
       "      <td>5</td>\n",
       "    </tr>\n",
       "    <tr>\n",
       "      <th>325648</th>\n",
       "      <td>7523299</td>\n",
       "      <td>51.484481</td>\n",
       "      <td>-0.312275</td>\n",
       "      <td>5</td>\n",
       "    </tr>\n",
       "    <tr>\n",
       "      <th>325649</th>\n",
       "      <td>7527671</td>\n",
       "      <td>27.390431</td>\n",
       "      <td>-82.511700</td>\n",
       "      <td>5</td>\n",
       "    </tr>\n",
       "    <tr>\n",
       "      <th>325650</th>\n",
       "      <td>7605188</td>\n",
       "      <td>37.366290</td>\n",
       "      <td>-122.080366</td>\n",
       "      <td>9</td>\n",
       "    </tr>\n",
       "    <tr>\n",
       "      <th>325651</th>\n",
       "      <td>7625249</td>\n",
       "      <td>37.280729</td>\n",
       "      <td>-121.982853</td>\n",
       "      <td>31</td>\n",
       "    </tr>\n",
       "  </tbody>\n",
       "</table>\n",
       "<p>325652 rows × 4 columns</p>\n",
       "</div>"
      ],
      "text/plain": [
       "             id        lat         lng  visited_count\n",
       "0          8904  39.052318  -94.607499              8\n",
       "1          8932  32.927662  -97.254356              7\n",
       "2          8936  39.053318  -94.591995             16\n",
       "3          8938  39.052824  -94.590311             84\n",
       "4          8947  37.331880 -122.029631            820\n",
       "...         ...        ...         ...            ...\n",
       "325647  7520940  40.099642   -8.505145              5\n",
       "325648  7523299  51.484481   -0.312275              5\n",
       "325649  7527671  27.390431  -82.511700              5\n",
       "325650  7605188  37.366290 -122.080366              9\n",
       "325651  7625249  37.280729 -121.982853             31\n",
       "\n",
       "[325652 rows x 4 columns]"
      ]
     },
     "execution_count": 16,
     "metadata": {},
     "output_type": "execute_result"
    }
   ],
   "source": [
    "pois = pois[['id', 'lat', 'lng', 'visited_count']]\n",
    "pois "
   ]
  },
  {
   "cell_type": "markdown",
   "metadata": {},
   "source": [
    "Ahora eliminamos los checkins de pois que ya no existen"
   ]
  },
  {
   "cell_type": "code",
   "execution_count": 17,
   "metadata": {},
   "outputs": [
    {
     "name": "stdout",
     "output_type": "stream",
     "text": [
      "Current checkins 7146627\n",
      "Reduced checkins 5154379\n"
     ]
    }
   ],
   "source": [
    "print('Current checkins', len(checkins))\n",
    "checkins = pd.merge(pois, checkins, left_on='id', right_on='placeid', how='inner', copy=False)[checkins.columns]\n",
    "checkins = checkins.reset_index(drop=True)\n",
    "print('Reduced checkins', len(checkins))"
   ]
  },
  {
   "cell_type": "markdown",
   "metadata": {},
   "source": [
    "Finalmente eliminamos nuevamente a los usuarios que se quedaron sin suficientes checkins"
   ]
  },
  {
   "cell_type": "code",
   "execution_count": 18,
   "metadata": {},
   "outputs": [
    {
     "name": "stdout",
     "output_type": "stream",
     "text": [
      "Current users 40874\n",
      "Reduced users 40648\n"
     ]
    }
   ],
   "source": [
    "print('Current users', len(users))\n",
    "users = pd.merge(checkins, users, how='inner', left_on='userid', right_on='id', copy=False)[users.columns].drop_duplicates()\n",
    "print('Reduced users', len(users))"
   ]
  },
  {
   "cell_type": "markdown",
   "metadata": {},
   "source": [
    "### Asignamos ids unicos desde 0 a todas las tablas"
   ]
  },
  {
   "cell_type": "code",
   "execution_count": 19,
   "metadata": {},
   "outputs": [],
   "source": [
    "users = users.reset_index(drop=True)\n",
    "users['user_sid'] = users.index\n",
    "\n",
    "pois = pois.reset_index(drop=True)\n",
    "pois['place_sid'] = pois.index"
   ]
  },
  {
   "cell_type": "markdown",
   "metadata": {},
   "source": [
    "### Agregar Datos\n",
    "\n",
    "Crearemos un dataset unificado que usaremos para entrenar el modelo de los embeddings"
   ]
  },
  {
   "cell_type": "code",
   "execution_count": 20,
   "metadata": {},
   "outputs": [
    {
     "data": {
      "text/html": [
       "<div>\n",
       "<style scoped>\n",
       "    .dataframe tbody tr th:only-of-type {\n",
       "        vertical-align: middle;\n",
       "    }\n",
       "\n",
       "    .dataframe tbody tr th {\n",
       "        vertical-align: top;\n",
       "    }\n",
       "\n",
       "    .dataframe thead th {\n",
       "        text-align: right;\n",
       "    }\n",
       "</style>\n",
       "<table border=\"1\" class=\"dataframe\">\n",
       "  <thead>\n",
       "    <tr style=\"text-align: right;\">\n",
       "      <th></th>\n",
       "      <th>id</th>\n",
       "      <th>lat</th>\n",
       "      <th>lng</th>\n",
       "      <th>visited_count</th>\n",
       "      <th>place_sid</th>\n",
       "    </tr>\n",
       "  </thead>\n",
       "  <tbody>\n",
       "    <tr>\n",
       "      <th>0</th>\n",
       "      <td>8904</td>\n",
       "      <td>39.052318</td>\n",
       "      <td>-94.607499</td>\n",
       "      <td>8</td>\n",
       "      <td>0</td>\n",
       "    </tr>\n",
       "    <tr>\n",
       "      <th>1</th>\n",
       "      <td>8932</td>\n",
       "      <td>32.927662</td>\n",
       "      <td>-97.254356</td>\n",
       "      <td>7</td>\n",
       "      <td>1</td>\n",
       "    </tr>\n",
       "    <tr>\n",
       "      <th>2</th>\n",
       "      <td>8936</td>\n",
       "      <td>39.053318</td>\n",
       "      <td>-94.591995</td>\n",
       "      <td>16</td>\n",
       "      <td>2</td>\n",
       "    </tr>\n",
       "    <tr>\n",
       "      <th>3</th>\n",
       "      <td>8938</td>\n",
       "      <td>39.052824</td>\n",
       "      <td>-94.590311</td>\n",
       "      <td>84</td>\n",
       "      <td>3</td>\n",
       "    </tr>\n",
       "    <tr>\n",
       "      <th>4</th>\n",
       "      <td>8947</td>\n",
       "      <td>37.331880</td>\n",
       "      <td>-122.029631</td>\n",
       "      <td>820</td>\n",
       "      <td>4</td>\n",
       "    </tr>\n",
       "  </tbody>\n",
       "</table>\n",
       "</div>"
      ],
      "text/plain": [
       "     id        lat         lng  visited_count  place_sid\n",
       "0  8904  39.052318  -94.607499              8          0\n",
       "1  8932  32.927662  -97.254356              7          1\n",
       "2  8936  39.053318  -94.591995             16          2\n",
       "3  8938  39.052824  -94.590311             84          3\n",
       "4  8947  37.331880 -122.029631            820          4"
      ]
     },
     "execution_count": 20,
     "metadata": {},
     "output_type": "execute_result"
    }
   ],
   "source": [
    "pois.head()"
   ]
  },
  {
   "cell_type": "code",
   "execution_count": 21,
   "metadata": {},
   "outputs": [
    {
     "data": {
      "text/html": [
       "<div>\n",
       "<style scoped>\n",
       "    .dataframe tbody tr th:only-of-type {\n",
       "        vertical-align: middle;\n",
       "    }\n",
       "\n",
       "    .dataframe tbody tr th {\n",
       "        vertical-align: top;\n",
       "    }\n",
       "\n",
       "    .dataframe thead th {\n",
       "        text-align: right;\n",
       "    }\n",
       "</style>\n",
       "<table border=\"1\" class=\"dataframe\">\n",
       "  <thead>\n",
       "    <tr style=\"text-align: right;\">\n",
       "      <th></th>\n",
       "      <th>id</th>\n",
       "      <th>user_sid</th>\n",
       "    </tr>\n",
       "  </thead>\n",
       "  <tbody>\n",
       "    <tr>\n",
       "      <th>0</th>\n",
       "      <td>26</td>\n",
       "      <td>0</td>\n",
       "    </tr>\n",
       "    <tr>\n",
       "      <th>1</th>\n",
       "      <td>665</td>\n",
       "      <td>1</td>\n",
       "    </tr>\n",
       "    <tr>\n",
       "      <th>2</th>\n",
       "      <td>246</td>\n",
       "      <td>2</td>\n",
       "    </tr>\n",
       "    <tr>\n",
       "      <th>3</th>\n",
       "      <td>366614</td>\n",
       "      <td>3</td>\n",
       "    </tr>\n",
       "    <tr>\n",
       "      <th>4</th>\n",
       "      <td>108</td>\n",
       "      <td>4</td>\n",
       "    </tr>\n",
       "  </tbody>\n",
       "</table>\n",
       "</div>"
      ],
      "text/plain": [
       "       id  user_sid\n",
       "0      26         0\n",
       "1     665         1\n",
       "2     246         2\n",
       "3  366614         3\n",
       "4     108         4"
      ]
     },
     "execution_count": 21,
     "metadata": {},
     "output_type": "execute_result"
    }
   ],
   "source": [
    "users.head()"
   ]
  },
  {
   "cell_type": "code",
   "execution_count": 22,
   "metadata": {},
   "outputs": [
    {
     "data": {
      "text/html": [
       "<div>\n",
       "<style scoped>\n",
       "    .dataframe tbody tr th:only-of-type {\n",
       "        vertical-align: middle;\n",
       "    }\n",
       "\n",
       "    .dataframe tbody tr th {\n",
       "        vertical-align: top;\n",
       "    }\n",
       "\n",
       "    .dataframe thead th {\n",
       "        text-align: right;\n",
       "    }\n",
       "</style>\n",
       "<table border=\"1\" class=\"dataframe\">\n",
       "  <thead>\n",
       "    <tr style=\"text-align: right;\">\n",
       "      <th></th>\n",
       "      <th>userid</th>\n",
       "      <th>placeid</th>\n",
       "      <th>datetime</th>\n",
       "    </tr>\n",
       "  </thead>\n",
       "  <tbody>\n",
       "    <tr>\n",
       "      <th>0</th>\n",
       "      <td>26</td>\n",
       "      <td>8904</td>\n",
       "      <td>2009-05-07T15:31:44Z</td>\n",
       "    </tr>\n",
       "    <tr>\n",
       "      <th>1</th>\n",
       "      <td>665</td>\n",
       "      <td>8904</td>\n",
       "      <td>2009-07-30T01:53:10Z</td>\n",
       "    </tr>\n",
       "    <tr>\n",
       "      <th>2</th>\n",
       "      <td>665</td>\n",
       "      <td>8904</td>\n",
       "      <td>2009-07-11T22:24:49Z</td>\n",
       "    </tr>\n",
       "    <tr>\n",
       "      <th>3</th>\n",
       "      <td>246</td>\n",
       "      <td>8904</td>\n",
       "      <td>2009-11-01T18:46:07Z</td>\n",
       "    </tr>\n",
       "    <tr>\n",
       "      <th>4</th>\n",
       "      <td>246</td>\n",
       "      <td>8904</td>\n",
       "      <td>2009-10-20T02:38:25Z</td>\n",
       "    </tr>\n",
       "  </tbody>\n",
       "</table>\n",
       "</div>"
      ],
      "text/plain": [
       "   userid  placeid              datetime\n",
       "0      26     8904  2009-05-07T15:31:44Z\n",
       "1     665     8904  2009-07-30T01:53:10Z\n",
       "2     665     8904  2009-07-11T22:24:49Z\n",
       "3     246     8904  2009-11-01T18:46:07Z\n",
       "4     246     8904  2009-10-20T02:38:25Z"
      ]
     },
     "execution_count": 22,
     "metadata": {},
     "output_type": "execute_result"
    }
   ],
   "source": [
    "checkins.head()"
   ]
  },
  {
   "cell_type": "code",
   "execution_count": 27,
   "metadata": {},
   "outputs": [],
   "source": [
    "users_checkins = pd.merge(users, checkins, left_on='id', right_on='userid', copy=False).drop('id', axis=1)\n",
    "users_checkins = pd.merge(users_checkins, pois[['id', 'place_sid']], left_on='placeid', right_on='id', copy=False)\n",
    "users_checkins['date'] = pd.to_datetime(users_checkins['datetime'])\n",
    "users_checkins = users_checkins.drop('datetime', axis=1)\n",
    "users_checkins.sort_values(by=['user_sid', 'date'], inplace=True)"
   ]
  },
  {
   "cell_type": "code",
   "execution_count": 28,
   "metadata": {},
   "outputs": [
    {
     "data": {
      "text/html": [
       "<div>\n",
       "<style scoped>\n",
       "    .dataframe tbody tr th:only-of-type {\n",
       "        vertical-align: middle;\n",
       "    }\n",
       "\n",
       "    .dataframe tbody tr th {\n",
       "        vertical-align: top;\n",
       "    }\n",
       "\n",
       "    .dataframe thead th {\n",
       "        text-align: right;\n",
       "    }\n",
       "</style>\n",
       "<table border=\"1\" class=\"dataframe\">\n",
       "  <thead>\n",
       "    <tr style=\"text-align: right;\">\n",
       "      <th></th>\n",
       "      <th>user_sid</th>\n",
       "      <th>place_sid</th>\n",
       "    </tr>\n",
       "  </thead>\n",
       "  <tbody>\n",
       "    <tr>\n",
       "      <th>3154</th>\n",
       "      <td>0</td>\n",
       "      <td>188</td>\n",
       "    </tr>\n",
       "    <tr>\n",
       "      <th>3153</th>\n",
       "      <td>0</td>\n",
       "      <td>188</td>\n",
       "    </tr>\n",
       "    <tr>\n",
       "      <th>3152</th>\n",
       "      <td>0</td>\n",
       "      <td>188</td>\n",
       "    </tr>\n",
       "    <tr>\n",
       "      <th>3197</th>\n",
       "      <td>0</td>\n",
       "      <td>189</td>\n",
       "    </tr>\n",
       "    <tr>\n",
       "      <th>3196</th>\n",
       "      <td>0</td>\n",
       "      <td>189</td>\n",
       "    </tr>\n",
       "    <tr>\n",
       "      <th>3205</th>\n",
       "      <td>0</td>\n",
       "      <td>190</td>\n",
       "    </tr>\n",
       "    <tr>\n",
       "      <th>3204</th>\n",
       "      <td>0</td>\n",
       "      <td>190</td>\n",
       "    </tr>\n",
       "    <tr>\n",
       "      <th>3203</th>\n",
       "      <td>0</td>\n",
       "      <td>190</td>\n",
       "    </tr>\n",
       "    <tr>\n",
       "      <th>3213</th>\n",
       "      <td>0</td>\n",
       "      <td>193</td>\n",
       "    </tr>\n",
       "    <tr>\n",
       "      <th>3212</th>\n",
       "      <td>0</td>\n",
       "      <td>193</td>\n",
       "    </tr>\n",
       "    <tr>\n",
       "      <th>3220</th>\n",
       "      <td>0</td>\n",
       "      <td>194</td>\n",
       "    </tr>\n",
       "    <tr>\n",
       "      <th>3219</th>\n",
       "      <td>0</td>\n",
       "      <td>194</td>\n",
       "    </tr>\n",
       "    <tr>\n",
       "      <th>3227</th>\n",
       "      <td>0</td>\n",
       "      <td>197</td>\n",
       "    </tr>\n",
       "    <tr>\n",
       "      <th>3226</th>\n",
       "      <td>0</td>\n",
       "      <td>197</td>\n",
       "    </tr>\n",
       "    <tr>\n",
       "      <th>3315</th>\n",
       "      <td>0</td>\n",
       "      <td>199</td>\n",
       "    </tr>\n",
       "    <tr>\n",
       "      <th>3314</th>\n",
       "      <td>0</td>\n",
       "      <td>199</td>\n",
       "    </tr>\n",
       "    <tr>\n",
       "      <th>1599</th>\n",
       "      <td>0</td>\n",
       "      <td>32</td>\n",
       "    </tr>\n",
       "    <tr>\n",
       "      <th>1010</th>\n",
       "      <td>0</td>\n",
       "      <td>14</td>\n",
       "    </tr>\n",
       "    <tr>\n",
       "      <th>1598</th>\n",
       "      <td>0</td>\n",
       "      <td>32</td>\n",
       "    </tr>\n",
       "    <tr>\n",
       "      <th>12011</th>\n",
       "      <td>0</td>\n",
       "      <td>1060</td>\n",
       "    </tr>\n",
       "  </tbody>\n",
       "</table>\n",
       "</div>"
      ],
      "text/plain": [
       "       user_sid  place_sid\n",
       "3154          0        188\n",
       "3153          0        188\n",
       "3152          0        188\n",
       "3197          0        189\n",
       "3196          0        189\n",
       "3205          0        190\n",
       "3204          0        190\n",
       "3203          0        190\n",
       "3213          0        193\n",
       "3212          0        193\n",
       "3220          0        194\n",
       "3219          0        194\n",
       "3227          0        197\n",
       "3226          0        197\n",
       "3315          0        199\n",
       "3314          0        199\n",
       "1599          0         32\n",
       "1010          0         14\n",
       "1598          0         32\n",
       "12011         0       1060"
      ]
     },
     "execution_count": 28,
     "metadata": {},
     "output_type": "execute_result"
    }
   ],
   "source": [
    "users_checkins[['user_sid', 'place_sid']].head(20)"
   ]
  },
  {
   "cell_type": "code",
   "execution_count": 25,
   "metadata": {},
   "outputs": [
    {
     "data": {
      "text/html": [
       "<div>\n",
       "<style scoped>\n",
       "    .dataframe tbody tr th:only-of-type {\n",
       "        vertical-align: middle;\n",
       "    }\n",
       "\n",
       "    .dataframe tbody tr th {\n",
       "        vertical-align: top;\n",
       "    }\n",
       "\n",
       "    .dataframe thead th {\n",
       "        text-align: right;\n",
       "    }\n",
       "</style>\n",
       "<table border=\"1\" class=\"dataframe\">\n",
       "  <thead>\n",
       "    <tr style=\"text-align: right;\">\n",
       "      <th></th>\n",
       "      <th>user_sid</th>\n",
       "      <th>place_sid</th>\n",
       "    </tr>\n",
       "  </thead>\n",
       "  <tbody>\n",
       "    <tr>\n",
       "      <th>5154318</th>\n",
       "      <td>40646</td>\n",
       "      <td>325583</td>\n",
       "    </tr>\n",
       "    <tr>\n",
       "      <th>5154259</th>\n",
       "      <td>40646</td>\n",
       "      <td>325582</td>\n",
       "    </tr>\n",
       "    <tr>\n",
       "      <th>5154258</th>\n",
       "      <td>40646</td>\n",
       "      <td>325582</td>\n",
       "    </tr>\n",
       "    <tr>\n",
       "      <th>5154257</th>\n",
       "      <td>40646</td>\n",
       "      <td>325582</td>\n",
       "    </tr>\n",
       "    <tr>\n",
       "      <th>5154366</th>\n",
       "      <td>40646</td>\n",
       "      <td>325589</td>\n",
       "    </tr>\n",
       "    <tr>\n",
       "      <th>5154317</th>\n",
       "      <td>40646</td>\n",
       "      <td>325583</td>\n",
       "    </tr>\n",
       "    <tr>\n",
       "      <th>5154256</th>\n",
       "      <td>40646</td>\n",
       "      <td>325582</td>\n",
       "    </tr>\n",
       "    <tr>\n",
       "      <th>5154316</th>\n",
       "      <td>40646</td>\n",
       "      <td>325583</td>\n",
       "    </tr>\n",
       "    <tr>\n",
       "      <th>5154255</th>\n",
       "      <td>40646</td>\n",
       "      <td>325582</td>\n",
       "    </tr>\n",
       "    <tr>\n",
       "      <th>5154315</th>\n",
       "      <td>40646</td>\n",
       "      <td>325583</td>\n",
       "    </tr>\n",
       "    <tr>\n",
       "      <th>5154254</th>\n",
       "      <td>40646</td>\n",
       "      <td>325582</td>\n",
       "    </tr>\n",
       "    <tr>\n",
       "      <th>5154314</th>\n",
       "      <td>40646</td>\n",
       "      <td>325583</td>\n",
       "    </tr>\n",
       "    <tr>\n",
       "      <th>5154253</th>\n",
       "      <td>40646</td>\n",
       "      <td>325582</td>\n",
       "    </tr>\n",
       "    <tr>\n",
       "      <th>5154378</th>\n",
       "      <td>40647</td>\n",
       "      <td>325642</td>\n",
       "    </tr>\n",
       "    <tr>\n",
       "      <th>5154377</th>\n",
       "      <td>40647</td>\n",
       "      <td>325642</td>\n",
       "    </tr>\n",
       "    <tr>\n",
       "      <th>5154376</th>\n",
       "      <td>40647</td>\n",
       "      <td>325642</td>\n",
       "    </tr>\n",
       "    <tr>\n",
       "      <th>5154375</th>\n",
       "      <td>40647</td>\n",
       "      <td>325642</td>\n",
       "    </tr>\n",
       "    <tr>\n",
       "      <th>5154374</th>\n",
       "      <td>40647</td>\n",
       "      <td>325642</td>\n",
       "    </tr>\n",
       "    <tr>\n",
       "      <th>5154373</th>\n",
       "      <td>40647</td>\n",
       "      <td>325642</td>\n",
       "    </tr>\n",
       "    <tr>\n",
       "      <th>5154372</th>\n",
       "      <td>40647</td>\n",
       "      <td>325642</td>\n",
       "    </tr>\n",
       "  </tbody>\n",
       "</table>\n",
       "</div>"
      ],
      "text/plain": [
       "         user_sid  place_sid\n",
       "5154318     40646     325583\n",
       "5154259     40646     325582\n",
       "5154258     40646     325582\n",
       "5154257     40646     325582\n",
       "5154366     40646     325589\n",
       "5154317     40646     325583\n",
       "5154256     40646     325582\n",
       "5154316     40646     325583\n",
       "5154255     40646     325582\n",
       "5154315     40646     325583\n",
       "5154254     40646     325582\n",
       "5154314     40646     325583\n",
       "5154253     40646     325582\n",
       "5154378     40647     325642\n",
       "5154377     40647     325642\n",
       "5154376     40647     325642\n",
       "5154375     40647     325642\n",
       "5154374     40647     325642\n",
       "5154373     40647     325642\n",
       "5154372     40647     325642"
      ]
     },
     "execution_count": 25,
     "metadata": {},
     "output_type": "execute_result"
    }
   ],
   "source": [
    "users_checkins[['user_sid', 'place_sid']].tail(20)"
   ]
  },
  {
   "cell_type": "markdown",
   "metadata": {},
   "source": [
    "Podemos ver que hay un problema: Muchas veces se repiten los POI consecutivos de un usuario, sin embargo eso no aporta mucha información al embedding, por lo que los eliminaremos en el siguiente paso"
   ]
  },
  {
   "cell_type": "code",
   "execution_count": 30,
   "metadata": {},
   "outputs": [],
   "source": [
    "users_checkins['last_place_sid'] = users_checkins['place_sid'].shift(1)\n",
    "user_checkins = users_checkins[users_checkins.place_sid != users_checkins.last_place_sid]\n",
    "user_checkins = user_checkins.drop('last_place_sid', axis=1)"
   ]
  },
  {
   "cell_type": "code",
   "execution_count": 31,
   "metadata": {},
   "outputs": [
    {
     "data": {
      "text/html": [
       "<div>\n",
       "<style scoped>\n",
       "    .dataframe tbody tr th:only-of-type {\n",
       "        vertical-align: middle;\n",
       "    }\n",
       "\n",
       "    .dataframe tbody tr th {\n",
       "        vertical-align: top;\n",
       "    }\n",
       "\n",
       "    .dataframe thead th {\n",
       "        text-align: right;\n",
       "    }\n",
       "</style>\n",
       "<table border=\"1\" class=\"dataframe\">\n",
       "  <thead>\n",
       "    <tr style=\"text-align: right;\">\n",
       "      <th></th>\n",
       "      <th>user_sid</th>\n",
       "      <th>userid</th>\n",
       "      <th>placeid</th>\n",
       "      <th>id</th>\n",
       "      <th>place_sid</th>\n",
       "      <th>date</th>\n",
       "    </tr>\n",
       "  </thead>\n",
       "  <tbody>\n",
       "    <tr>\n",
       "      <th>5154315</th>\n",
       "      <td>40646</td>\n",
       "      <td>2615815</td>\n",
       "      <td>7361973</td>\n",
       "      <td>7361973</td>\n",
       "      <td>325583</td>\n",
       "      <td>2011-07-02 11:38:43+00:00</td>\n",
       "    </tr>\n",
       "    <tr>\n",
       "      <th>5154254</th>\n",
       "      <td>40646</td>\n",
       "      <td>2615815</td>\n",
       "      <td>7361926</td>\n",
       "      <td>7361926</td>\n",
       "      <td>325582</td>\n",
       "      <td>2011-07-03 02:46:12+00:00</td>\n",
       "    </tr>\n",
       "    <tr>\n",
       "      <th>5154314</th>\n",
       "      <td>40646</td>\n",
       "      <td>2615815</td>\n",
       "      <td>7361973</td>\n",
       "      <td>7361973</td>\n",
       "      <td>325583</td>\n",
       "      <td>2011-07-03 10:53:14+00:00</td>\n",
       "    </tr>\n",
       "    <tr>\n",
       "      <th>5154253</th>\n",
       "      <td>40646</td>\n",
       "      <td>2615815</td>\n",
       "      <td>7361926</td>\n",
       "      <td>7361926</td>\n",
       "      <td>325582</td>\n",
       "      <td>2011-07-03 23:47:06+00:00</td>\n",
       "    </tr>\n",
       "    <tr>\n",
       "      <th>5154378</th>\n",
       "      <td>40647</td>\n",
       "      <td>2599407</td>\n",
       "      <td>7502407</td>\n",
       "      <td>7502407</td>\n",
       "      <td>325642</td>\n",
       "      <td>2011-06-13 12:33:52+00:00</td>\n",
       "    </tr>\n",
       "  </tbody>\n",
       "</table>\n",
       "</div>"
      ],
      "text/plain": [
       "         user_sid   userid  placeid       id  place_sid  \\\n",
       "5154315     40646  2615815  7361973  7361973     325583   \n",
       "5154254     40646  2615815  7361926  7361926     325582   \n",
       "5154314     40646  2615815  7361973  7361973     325583   \n",
       "5154253     40646  2615815  7361926  7361926     325582   \n",
       "5154378     40647  2599407  7502407  7502407     325642   \n",
       "\n",
       "                             date  \n",
       "5154315 2011-07-02 11:38:43+00:00  \n",
       "5154254 2011-07-03 02:46:12+00:00  \n",
       "5154314 2011-07-03 10:53:14+00:00  \n",
       "5154253 2011-07-03 23:47:06+00:00  \n",
       "5154378 2011-06-13 12:33:52+00:00  "
      ]
     },
     "execution_count": 31,
     "metadata": {},
     "output_type": "execute_result"
    }
   ],
   "source": [
    "user_checkins.tail()"
   ]
  },
  {
   "cell_type": "code",
   "execution_count": 32,
   "metadata": {},
   "outputs": [],
   "source": [
    "from collections import defaultdict"
   ]
  },
  {
   "cell_type": "code",
   "execution_count": 33,
   "metadata": {},
   "outputs": [],
   "source": [
    "user_poi_seq = defaultdict(lambda: [])\n",
    "user_date_seq = defaultdict(lambda: [])"
   ]
  },
  {
   "cell_type": "code",
   "execution_count": 34,
   "metadata": {},
   "outputs": [],
   "source": [
    "for user_sid, place_sid, date in zip(users_checkins['user_sid'], users_checkins['place_sid'], users_checkins['date']):\n",
    "    user_poi_seq[user_sid].append(place_sid)\n",
    "    user_date_seq[user_sid].append(date)"
   ]
  },
  {
   "cell_type": "markdown",
   "metadata": {},
   "source": [
    "Generamos secuencias de puntos de interes visitados por usuarios de un largo predefinido para entrenar el modelo de embeddings"
   ]
  },
  {
   "cell_type": "code",
   "execution_count": 36,
   "metadata": {},
   "outputs": [],
   "source": [
    "from random import sample\n",
    "\n",
    "poi_sequence_dataset = []\n",
    "\n",
    "for user_sid, sequence in user_poi_seq.items():\n",
    "    if len(sequence) < SEQUENCE_LENGTH: continue\n",
    "\n",
    "    candidate_indexes = list(range(0, len(sequence) - SEQUENCE_LENGTH, SEQUENCE_LENGTH))\n",
    "\n",
    "    n_sequences = min(len(candidate_indexes), MAX_SEQUENCES_PER_USER)\n",
    "    start_indexes = sample(candidate_indexes, n_sequences)\n",
    "\n",
    "    for idx in start_indexes:\n",
    "        new_seq = sequence[idx:idx + SEQUENCE_LENGTH]\n",
    "        poi_sequence_dataset.append(new_seq) \n",
    "    "
   ]
  },
  {
   "cell_type": "code",
   "execution_count": 44,
   "metadata": {},
   "outputs": [],
   "source": [
    "def split_list(input, frac=0.5):\n",
    "    split_index = int(len(input) * frac)\n",
    "    return input[:split_index], input[split_index:]"
   ]
  },
  {
   "cell_type": "markdown",
   "metadata": {},
   "source": [
    "## Split de Datos\n",
    "\n",
    "Realizamos separacion en train / test / split de 80 / 10 / 10"
   ]
  },
  {
   "cell_type": "code",
   "execution_count": 45,
   "metadata": {},
   "outputs": [],
   "source": [
    "train_poi_sequence, rest = split_list(poi_sequence_dataset, 0.8)\n",
    "test_poi_sequence, val_poi_sequence = split_list(rest)"
   ]
  },
  {
   "cell_type": "code",
   "execution_count": 46,
   "metadata": {},
   "outputs": [],
   "source": [
    "def split_history_target(sequences):\n",
    "    history = [ seq[:-1] for seq in sequences]\n",
    "    targets = [ seq[-1] for seq in sequences]\n",
    "    return history, targets"
   ]
  },
  {
   "cell_type": "code",
   "execution_count": 47,
   "metadata": {},
   "outputs": [],
   "source": [
    "train_seq_history, train_seq_target = split_history_target(train_poi_sequence)\n",
    "test_seq_history, test_seq_target = split_history_target(test_poi_sequence)\n",
    "val_seq_history, val_seq_target = split_history_target(val_poi_sequence)"
   ]
  },
  {
   "cell_type": "code",
   "execution_count": 53,
   "metadata": {},
   "outputs": [
    {
     "name": "stdout",
     "output_type": "stream",
     "text": [
      "Total pois incluidos en dataset: 324406\n",
      "Porcentaje de POIs que se usaran en el modelo 99.61738297323524\n"
     ]
    }
   ],
   "source": [
    "unique_pois = { poi for sequence in  poi_sequence_dataset  for poi in sequence }\n",
    "\n",
    "print(\"Total pois incluidos en dataset:\", len(unique_pois))\n",
    "print(\"Porcentaje de POIs que se usaran en el modelo\",  len(unique_pois) * 100 / len(pois))"
   ]
  },
  {
   "cell_type": "code",
   "execution_count": 55,
   "metadata": {},
   "outputs": [
    {
     "name": "stdout",
     "output_type": "stream",
     "text": [
      "Total Train 364602\n",
      "Total Test  45575\n",
      "Total Val   45576\n"
     ]
    }
   ],
   "source": [
    "print(\"Total Train\", len(train_seq_history))\n",
    "print(\"Total Test \", len(test_seq_history))\n",
    "print(\"Total Val  \", len(val_seq_history))"
   ]
  },
  {
   "cell_type": "markdown",
   "metadata": {},
   "source": [
    "Ya tenemos nuestros datos listos para entrenar!"
   ]
  },
  {
   "cell_type": "code",
   "execution_count": null,
   "metadata": {},
   "outputs": [],
   "source": []
  }
 ],
 "metadata": {
  "kernelspec": {
   "display_name": "venv",
   "language": "python",
   "name": "python3"
  },
  "language_info": {
   "codemirror_mode": {
    "name": "ipython",
    "version": 3
   },
   "file_extension": ".py",
   "mimetype": "text/x-python",
   "name": "python",
   "nbconvert_exporter": "python",
   "pygments_lexer": "ipython3",
   "version": "3.10.7"
  },
  "orig_nbformat": 4,
  "vscode": {
   "interpreter": {
    "hash": "5d0f3f363c2ee98fd619740d6785905f65271fae303a875a61ead58f40aa4677"
   }
  }
 },
 "nbformat": 4,
 "nbformat_minor": 2
}
