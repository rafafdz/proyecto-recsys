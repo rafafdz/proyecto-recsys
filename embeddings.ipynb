{
 "cells": [
  {
   "cell_type": "markdown",
   "metadata": {},
   "source": [
    "#  Librerías"
   ]
  },
  {
   "cell_type": "markdown",
   "metadata": {},
   "source": [
    "### Librerías pesadas\n",
    "Para ejecutar solo una vez"
   ]
  },
  {
   "cell_type": "code",
   "execution_count": 1,
   "metadata": {},
   "outputs": [
    {
     "name": "stderr",
     "output_type": "stream",
     "text": [
      "/mnt/shared/Documents/proyecto-recsys/venv/lib/python3.10/site-packages/tqdm/auto.py:22: TqdmWarning: IProgress not found. Please update jupyter and ipywidgets. See https://ipywidgets.readthedocs.io/en/stable/user_install.html\n",
      "  from .autonotebook import tqdm as notebook_tqdm\n"
     ]
    }
   ],
   "source": [
    "import math\n",
    "import torch\n",
    "import torch.optim as optim\n",
    "import torch.nn as nn\n",
    "import pandas as pd\n",
    "import numpy as np\n",
    "import tqdm"
   ]
  },
  {
   "cell_type": "markdown",
   "metadata": {},
   "source": [
    "### Librerías livianas\n",
    "Para ejecutar múltiples veces"
   ]
  },
  {
   "cell_type": "markdown",
   "metadata": {},
   "source": [
    "# Configuración General\n",
    "\n",
    "Variables relacionadas al procesamiento de datos y del modelo en sí"
   ]
  },
  {
   "cell_type": "markdown",
   "metadata": {},
   "source": [
    "### Variables de Preprocesamiento"
   ]
  },
  {
   "cell_type": "code",
   "execution_count": 2,
   "metadata": {},
   "outputs": [],
   "source": [
    "\n",
    "# Porcentaje para usar solo una fracción del dataset de usuario.\n",
    "# si al eliminar usuarios quedan viajes o POI sin visitas, estos también\n",
    "# serán eliminados\n",
    "USER_FRAC = 0.4\n",
    "MIN_POI_VISITS = 5\n",
    "MAX_SEQUENCES_PER_USER = 100\n",
    "SEQUENCE_LENGTH = 14"
   ]
  },
  {
   "cell_type": "code",
   "execution_count": 3,
   "metadata": {},
   "outputs": [],
   "source": [
    "BATCH_SIZE=64\n",
    "EPOCHS=100"
   ]
  },
  {
   "cell_type": "code",
   "execution_count": 4,
   "metadata": {},
   "outputs": [],
   "source": [
    "EMBEDDING_DIM = 100\n",
    "HIDDEN_DIM = 70"
   ]
  },
  {
   "cell_type": "markdown",
   "metadata": {},
   "source": [
    "# Gowalla Dataset"
   ]
  },
  {
   "cell_type": "code",
   "execution_count": 5,
   "metadata": {},
   "outputs": [
    {
     "name": "stdout",
     "output_type": "stream",
     "text": [
      "Already Downloaded\n"
     ]
    }
   ],
   "source": [
    "! ./download-gowalla.sh"
   ]
  },
  {
   "cell_type": "markdown",
   "metadata": {},
   "source": [
    "### Cargar Datos"
   ]
  },
  {
   "cell_type": "code",
   "execution_count": 6,
   "metadata": {},
   "outputs": [],
   "source": [
    "users    = pd.read_csv('download/gowalla/gowalla_userinfo.csv')\n",
    "friends  = pd.read_csv('download/gowalla/gowalla_friendship.csv')\n",
    "checkins = pd.read_csv('download/gowalla/gowalla_checkins.csv')\n",
    "pois_1   = pd.read_csv('download/gowalla/gowalla_spots_subset1.csv', encoding='iso-8859-1')\n",
    "pois_2   = pd.read_csv('download/gowalla/gowalla_spots_subset2.csv', encoding='iso-8859-1')\n",
    "pois     = pd.concat((pois_1, pois_2), ignore_index=True)\n"
   ]
  },
  {
   "cell_type": "markdown",
   "metadata": {},
   "source": [
    "# Preprocesamiento"
   ]
  },
  {
   "cell_type": "markdown",
   "metadata": {},
   "source": [
    "### Usuarios"
   ]
  },
  {
   "cell_type": "markdown",
   "metadata": {},
   "source": [
    "Revisamos la distrubución de checkins de usuarios"
   ]
  },
  {
   "cell_type": "code",
   "execution_count": 7,
   "metadata": {},
   "outputs": [
    {
     "data": {
      "text/html": [
       "<div>\n",
       "<style scoped>\n",
       "    .dataframe tbody tr th:only-of-type {\n",
       "        vertical-align: middle;\n",
       "    }\n",
       "\n",
       "    .dataframe tbody tr th {\n",
       "        vertical-align: top;\n",
       "    }\n",
       "\n",
       "    .dataframe thead th {\n",
       "        text-align: right;\n",
       "    }\n",
       "</style>\n",
       "<table border=\"1\" class=\"dataframe\">\n",
       "  <thead>\n",
       "    <tr style=\"text-align: right;\">\n",
       "      <th></th>\n",
       "      <th>id</th>\n",
       "      <th>bookmarked_spots_count</th>\n",
       "      <th>challenge_pin_count</th>\n",
       "      <th>country_pin_count</th>\n",
       "      <th>highlights_count</th>\n",
       "      <th>items_count</th>\n",
       "      <th>photos_count</th>\n",
       "      <th>pins_count</th>\n",
       "      <th>province_pin_count</th>\n",
       "      <th>region_pin_count</th>\n",
       "      <th>state_pin_count</th>\n",
       "      <th>trips_count</th>\n",
       "      <th>friends_count</th>\n",
       "      <th>stamps_count</th>\n",
       "      <th>checkin_num</th>\n",
       "      <th>places_num</th>\n",
       "    </tr>\n",
       "  </thead>\n",
       "  <tbody>\n",
       "    <tr>\n",
       "      <th>34656</th>\n",
       "      <td>75899</td>\n",
       "      <td>0</td>\n",
       "      <td>12</td>\n",
       "      <td>1</td>\n",
       "      <td>0</td>\n",
       "      <td>9</td>\n",
       "      <td>26</td>\n",
       "      <td>20</td>\n",
       "      <td>0</td>\n",
       "      <td>8</td>\n",
       "      <td>7</td>\n",
       "      <td>0</td>\n",
       "      <td>5</td>\n",
       "      <td>120</td>\n",
       "      <td>215</td>\n",
       "      <td>120</td>\n",
       "    </tr>\n",
       "    <tr>\n",
       "      <th>86661</th>\n",
       "      <td>182616</td>\n",
       "      <td>0</td>\n",
       "      <td>7</td>\n",
       "      <td>2</td>\n",
       "      <td>0</td>\n",
       "      <td>10</td>\n",
       "      <td>2</td>\n",
       "      <td>9</td>\n",
       "      <td>0</td>\n",
       "      <td>2</td>\n",
       "      <td>0</td>\n",
       "      <td>0</td>\n",
       "      <td>2</td>\n",
       "      <td>69</td>\n",
       "      <td>187</td>\n",
       "      <td>69</td>\n",
       "    </tr>\n",
       "    <tr>\n",
       "      <th>150114</th>\n",
       "      <td>346572</td>\n",
       "      <td>0</td>\n",
       "      <td>1</td>\n",
       "      <td>2</td>\n",
       "      <td>0</td>\n",
       "      <td>4</td>\n",
       "      <td>0</td>\n",
       "      <td>3</td>\n",
       "      <td>0</td>\n",
       "      <td>2</td>\n",
       "      <td>0</td>\n",
       "      <td>0</td>\n",
       "      <td>2</td>\n",
       "      <td>2</td>\n",
       "      <td>2</td>\n",
       "      <td>2</td>\n",
       "    </tr>\n",
       "    <tr>\n",
       "      <th>171904</th>\n",
       "      <td>499371</td>\n",
       "      <td>0</td>\n",
       "      <td>1</td>\n",
       "      <td>1</td>\n",
       "      <td>0</td>\n",
       "      <td>2</td>\n",
       "      <td>0</td>\n",
       "      <td>2</td>\n",
       "      <td>0</td>\n",
       "      <td>1</td>\n",
       "      <td>0</td>\n",
       "      <td>0</td>\n",
       "      <td>1</td>\n",
       "      <td>3</td>\n",
       "      <td>3</td>\n",
       "      <td>3</td>\n",
       "    </tr>\n",
       "    <tr>\n",
       "      <th>134279</th>\n",
       "      <td>304452</td>\n",
       "      <td>0</td>\n",
       "      <td>13</td>\n",
       "      <td>2</td>\n",
       "      <td>0</td>\n",
       "      <td>10</td>\n",
       "      <td>76</td>\n",
       "      <td>15</td>\n",
       "      <td>0</td>\n",
       "      <td>2</td>\n",
       "      <td>0</td>\n",
       "      <td>0</td>\n",
       "      <td>22</td>\n",
       "      <td>145</td>\n",
       "      <td>338</td>\n",
       "      <td>145</td>\n",
       "    </tr>\n",
       "  </tbody>\n",
       "</table>\n",
       "</div>"
      ],
      "text/plain": [
       "            id  bookmarked_spots_count  challenge_pin_count  \\\n",
       "34656    75899                       0                   12   \n",
       "86661   182616                       0                    7   \n",
       "150114  346572                       0                    1   \n",
       "171904  499371                       0                    1   \n",
       "134279  304452                       0                   13   \n",
       "\n",
       "        country_pin_count  highlights_count  items_count  photos_count  \\\n",
       "34656                   1                 0            9            26   \n",
       "86661                   2                 0           10             2   \n",
       "150114                  2                 0            4             0   \n",
       "171904                  1                 0            2             0   \n",
       "134279                  2                 0           10            76   \n",
       "\n",
       "        pins_count  province_pin_count  region_pin_count  state_pin_count  \\\n",
       "34656           20                   0                 8                7   \n",
       "86661            9                   0                 2                0   \n",
       "150114           3                   0                 2                0   \n",
       "171904           2                   0                 1                0   \n",
       "134279          15                   0                 2                0   \n",
       "\n",
       "        trips_count  friends_count  stamps_count  checkin_num  places_num  \n",
       "34656             0              5           120          215         120  \n",
       "86661             0              2            69          187          69  \n",
       "150114            0              2             2            2           2  \n",
       "171904            0              1             3            3           3  \n",
       "134279            0             22           145          338         145  "
      ]
     },
     "execution_count": 7,
     "metadata": {},
     "output_type": "execute_result"
    }
   ],
   "source": [
    "users.sample(5)"
   ]
  },
  {
   "cell_type": "code",
   "execution_count": 8,
   "metadata": {},
   "outputs": [
    {
     "data": {
      "text/plain": [
       "count    407533.000000\n",
       "mean         88.341212\n",
       "std         435.982581\n",
       "min           0.000000\n",
       "25%           1.000000\n",
       "50%          10.000000\n",
       "75%          52.000000\n",
       "max       46981.000000\n",
       "Name: checkin_num, dtype: float64"
      ]
     },
     "execution_count": 8,
     "metadata": {},
     "output_type": "execute_result"
    }
   ],
   "source": [
    "users.checkin_num.describe()"
   ]
  },
  {
   "cell_type": "markdown",
   "metadata": {},
   "source": [
    "nos quedamos con un porcentaje de los usuarios y los filtramos los usuarios segun los checkins que tengan"
   ]
  },
  {
   "cell_type": "code",
   "execution_count": 9,
   "metadata": {},
   "outputs": [
    {
     "name": "stdout",
     "output_type": "stream",
     "text": [
      "Current users 407533\n",
      "Reduced users 74054\n"
     ]
    }
   ],
   "source": [
    "print('Current users', len(users))\n",
    "users = users.sample(frac=USER_FRAC)\n",
    "users = users[users.checkin_num >= SEQUENCE_LENGTH]\n",
    "users = users[['id']]\n",
    "print('Reduced users', len(users))"
   ]
  },
  {
   "cell_type": "code",
   "execution_count": 10,
   "metadata": {},
   "outputs": [
    {
     "data": {
      "text/html": [
       "<div>\n",
       "<style scoped>\n",
       "    .dataframe tbody tr th:only-of-type {\n",
       "        vertical-align: middle;\n",
       "    }\n",
       "\n",
       "    .dataframe tbody tr th {\n",
       "        vertical-align: top;\n",
       "    }\n",
       "\n",
       "    .dataframe thead th {\n",
       "        text-align: right;\n",
       "    }\n",
       "</style>\n",
       "<table border=\"1\" class=\"dataframe\">\n",
       "  <thead>\n",
       "    <tr style=\"text-align: right;\">\n",
       "      <th></th>\n",
       "      <th>userid</th>\n",
       "      <th>placeid</th>\n",
       "      <th>datetime</th>\n",
       "    </tr>\n",
       "  </thead>\n",
       "  <tbody>\n",
       "    <tr>\n",
       "      <th>4223526</th>\n",
       "      <td>69996</td>\n",
       "      <td>269432</td>\n",
       "      <td>2011-06-01T19:10:19Z</td>\n",
       "    </tr>\n",
       "    <tr>\n",
       "      <th>4223527</th>\n",
       "      <td>69996</td>\n",
       "      <td>61280</td>\n",
       "      <td>2011-05-31T20:35:45Z</td>\n",
       "    </tr>\n",
       "    <tr>\n",
       "      <th>4223528</th>\n",
       "      <td>69996</td>\n",
       "      <td>49812</td>\n",
       "      <td>2011-05-30T23:29:12Z</td>\n",
       "    </tr>\n",
       "    <tr>\n",
       "      <th>4223529</th>\n",
       "      <td>69996</td>\n",
       "      <td>205779</td>\n",
       "      <td>2011-05-30T23:28:53Z</td>\n",
       "    </tr>\n",
       "    <tr>\n",
       "      <th>4223530</th>\n",
       "      <td>69996</td>\n",
       "      <td>6511613</td>\n",
       "      <td>2011-05-30T23:28:25Z</td>\n",
       "    </tr>\n",
       "    <tr>\n",
       "      <th>...</th>\n",
       "      <td>...</td>\n",
       "      <td>...</td>\n",
       "      <td>...</td>\n",
       "    </tr>\n",
       "    <tr>\n",
       "      <th>4224301</th>\n",
       "      <td>69996</td>\n",
       "      <td>282847</td>\n",
       "      <td>2009-12-28T12:48:22Z</td>\n",
       "    </tr>\n",
       "    <tr>\n",
       "      <th>4224302</th>\n",
       "      <td>69996</td>\n",
       "      <td>117306</td>\n",
       "      <td>2009-12-28T12:45:56Z</td>\n",
       "    </tr>\n",
       "    <tr>\n",
       "      <th>4224303</th>\n",
       "      <td>69996</td>\n",
       "      <td>150947</td>\n",
       "      <td>2009-12-27T22:37:39Z</td>\n",
       "    </tr>\n",
       "    <tr>\n",
       "      <th>4224304</th>\n",
       "      <td>69996</td>\n",
       "      <td>261322</td>\n",
       "      <td>2009-12-27T22:27:05Z</td>\n",
       "    </tr>\n",
       "    <tr>\n",
       "      <th>4224305</th>\n",
       "      <td>69996</td>\n",
       "      <td>168761</td>\n",
       "      <td>2009-12-27T22:17:31Z</td>\n",
       "    </tr>\n",
       "  </tbody>\n",
       "</table>\n",
       "<p>780 rows × 3 columns</p>\n",
       "</div>"
      ],
      "text/plain": [
       "         userid  placeid              datetime\n",
       "4223526   69996   269432  2011-06-01T19:10:19Z\n",
       "4223527   69996    61280  2011-05-31T20:35:45Z\n",
       "4223528   69996    49812  2011-05-30T23:29:12Z\n",
       "4223529   69996   205779  2011-05-30T23:28:53Z\n",
       "4223530   69996  6511613  2011-05-30T23:28:25Z\n",
       "...         ...      ...                   ...\n",
       "4224301   69996   282847  2009-12-28T12:48:22Z\n",
       "4224302   69996   117306  2009-12-28T12:45:56Z\n",
       "4224303   69996   150947  2009-12-27T22:37:39Z\n",
       "4224304   69996   261322  2009-12-27T22:27:05Z\n",
       "4224305   69996   168761  2009-12-27T22:17:31Z\n",
       "\n",
       "[780 rows x 3 columns]"
      ]
     },
     "execution_count": 10,
     "metadata": {},
     "output_type": "execute_result"
    }
   ],
   "source": [
    "checkins[checkins.userid ==  69996]"
   ]
  },
  {
   "cell_type": "markdown",
   "metadata": {},
   "source": [
    "### Amigos"
   ]
  },
  {
   "cell_type": "code",
   "execution_count": 11,
   "metadata": {},
   "outputs": [
    {
     "data": {
      "text/html": [
       "<div>\n",
       "<style scoped>\n",
       "    .dataframe tbody tr th:only-of-type {\n",
       "        vertical-align: middle;\n",
       "    }\n",
       "\n",
       "    .dataframe tbody tr th {\n",
       "        vertical-align: top;\n",
       "    }\n",
       "\n",
       "    .dataframe thead th {\n",
       "        text-align: right;\n",
       "    }\n",
       "</style>\n",
       "<table border=\"1\" class=\"dataframe\">\n",
       "  <thead>\n",
       "    <tr style=\"text-align: right;\">\n",
       "      <th></th>\n",
       "      <th>userid1</th>\n",
       "      <th>userid2</th>\n",
       "    </tr>\n",
       "  </thead>\n",
       "  <tbody>\n",
       "    <tr>\n",
       "      <th>3474735</th>\n",
       "      <td>1558665</td>\n",
       "      <td>552472</td>\n",
       "    </tr>\n",
       "    <tr>\n",
       "      <th>1511286</th>\n",
       "      <td>125822</td>\n",
       "      <td>190972</td>\n",
       "    </tr>\n",
       "    <tr>\n",
       "      <th>605786</th>\n",
       "      <td>31465</td>\n",
       "      <td>71697</td>\n",
       "    </tr>\n",
       "    <tr>\n",
       "      <th>35607</th>\n",
       "      <td>1184</td>\n",
       "      <td>16646</td>\n",
       "    </tr>\n",
       "    <tr>\n",
       "      <th>3311006</th>\n",
       "      <td>2545141</td>\n",
       "      <td>326250</td>\n",
       "    </tr>\n",
       "  </tbody>\n",
       "</table>\n",
       "</div>"
      ],
      "text/plain": [
       "         userid1  userid2\n",
       "3474735  1558665   552472\n",
       "1511286   125822   190972\n",
       "605786     31465    71697\n",
       "35607       1184    16646\n",
       "3311006  2545141   326250"
      ]
     },
     "execution_count": 11,
     "metadata": {},
     "output_type": "execute_result"
    }
   ],
   "source": [
    "friends.sample(5)"
   ]
  },
  {
   "cell_type": "markdown",
   "metadata": {},
   "source": [
    "### Checkins"
   ]
  },
  {
   "cell_type": "code",
   "execution_count": 12,
   "metadata": {},
   "outputs": [
    {
     "data": {
      "text/html": [
       "<div>\n",
       "<style scoped>\n",
       "    .dataframe tbody tr th:only-of-type {\n",
       "        vertical-align: middle;\n",
       "    }\n",
       "\n",
       "    .dataframe tbody tr th {\n",
       "        vertical-align: top;\n",
       "    }\n",
       "\n",
       "    .dataframe thead th {\n",
       "        text-align: right;\n",
       "    }\n",
       "</style>\n",
       "<table border=\"1\" class=\"dataframe\">\n",
       "  <thead>\n",
       "    <tr style=\"text-align: right;\">\n",
       "      <th></th>\n",
       "      <th>userid</th>\n",
       "      <th>placeid</th>\n",
       "      <th>datetime</th>\n",
       "    </tr>\n",
       "  </thead>\n",
       "  <tbody>\n",
       "    <tr>\n",
       "      <th>13138162</th>\n",
       "      <td>55634</td>\n",
       "      <td>245262</td>\n",
       "      <td>2009-12-21T11:33:23Z</td>\n",
       "    </tr>\n",
       "    <tr>\n",
       "      <th>2822518</th>\n",
       "      <td>8360</td>\n",
       "      <td>64310</td>\n",
       "      <td>2009-11-06T23:58:23Z</td>\n",
       "    </tr>\n",
       "    <tr>\n",
       "      <th>21454266</th>\n",
       "      <td>307075</td>\n",
       "      <td>380427</td>\n",
       "      <td>2010-06-13T17:37:05Z</td>\n",
       "    </tr>\n",
       "    <tr>\n",
       "      <th>22462055</th>\n",
       "      <td>349890</td>\n",
       "      <td>14554</td>\n",
       "      <td>2010-08-10T13:56:30Z</td>\n",
       "    </tr>\n",
       "    <tr>\n",
       "      <th>31106130</th>\n",
       "      <td>265211</td>\n",
       "      <td>1481524</td>\n",
       "      <td>2010-07-22T12:10:47Z</td>\n",
       "    </tr>\n",
       "  </tbody>\n",
       "</table>\n",
       "</div>"
      ],
      "text/plain": [
       "          userid  placeid              datetime\n",
       "13138162   55634   245262  2009-12-21T11:33:23Z\n",
       "2822518     8360    64310  2009-11-06T23:58:23Z\n",
       "21454266  307075   380427  2010-06-13T17:37:05Z\n",
       "22462055  349890    14554  2010-08-10T13:56:30Z\n",
       "31106130  265211  1481524  2010-07-22T12:10:47Z"
      ]
     },
     "execution_count": 12,
     "metadata": {},
     "output_type": "execute_result"
    }
   ],
   "source": [
    "checkins.sample(5)"
   ]
  },
  {
   "cell_type": "markdown",
   "metadata": {},
   "source": [
    "Eliminamos los checkins de los usuarios no sampleados"
   ]
  },
  {
   "cell_type": "code",
   "execution_count": 13,
   "metadata": {},
   "outputs": [
    {
     "name": "stdout",
     "output_type": "stream",
     "text": [
      "Current checkins 36001959\n",
      "Reduced checkins 14335594\n"
     ]
    }
   ],
   "source": [
    "print('Current checkins', len(checkins))\n",
    "checkins = pd.merge(checkins, users, how='inner', left_on='userid', right_on='id', copy=False)[checkins.columns]\n",
    "checkins = checkins.reset_index(drop=True)\n",
    "print('Reduced checkins', len(checkins))"
   ]
  },
  {
   "cell_type": "markdown",
   "metadata": {},
   "source": [
    "### POIS"
   ]
  },
  {
   "cell_type": "code",
   "execution_count": 14,
   "metadata": {},
   "outputs": [
    {
     "data": {
      "text/html": [
       "<div>\n",
       "<style scoped>\n",
       "    .dataframe tbody tr th:only-of-type {\n",
       "        vertical-align: middle;\n",
       "    }\n",
       "\n",
       "    .dataframe tbody tr th {\n",
       "        vertical-align: top;\n",
       "    }\n",
       "\n",
       "    .dataframe thead th {\n",
       "        text-align: right;\n",
       "    }\n",
       "</style>\n",
       "<table border=\"1\" class=\"dataframe\">\n",
       "  <thead>\n",
       "    <tr style=\"text-align: right;\">\n",
       "      <th></th>\n",
       "      <th>id</th>\n",
       "      <th>created_at</th>\n",
       "      <th>lng</th>\n",
       "      <th>lat</th>\n",
       "      <th>photos_count</th>\n",
       "      <th>checkins_count</th>\n",
       "      <th>users_count</th>\n",
       "      <th>radius_meters</th>\n",
       "      <th>highlights_count</th>\n",
       "      <th>items_count</th>\n",
       "      <th>max_items_count</th>\n",
       "      <th>spot_categories</th>\n",
       "      <th>name</th>\n",
       "      <th>city_state</th>\n",
       "      <th>Unnamed: 5</th>\n",
       "      <th>Unnamed: 6</th>\n",
       "    </tr>\n",
       "  </thead>\n",
       "  <tbody>\n",
       "    <tr>\n",
       "      <th>1623442</th>\n",
       "      <td>4454761</td>\n",
       "      <td>2010-09-26T03:03:38Z</td>\n",
       "      <td>-90.394769</td>\n",
       "      <td>38.780422</td>\n",
       "      <td>1.0</td>\n",
       "      <td>4.0</td>\n",
       "      <td>3.0</td>\n",
       "      <td>75.0</td>\n",
       "      <td>0.0</td>\n",
       "      <td>1.0</td>\n",
       "      <td>10.0</td>\n",
       "      <td>[{'url': '/categories/47', 'name': 'Modern Hot...</td>\n",
       "      <td>NaN</td>\n",
       "      <td>NaN</td>\n",
       "      <td>NaN</td>\n",
       "      <td>NaN</td>\n",
       "    </tr>\n",
       "    <tr>\n",
       "      <th>1957207</th>\n",
       "      <td>6565272</td>\n",
       "      <td>2010-12-10T13:00:23Z</td>\n",
       "      <td>132.464818</td>\n",
       "      <td>34.455441</td>\n",
       "      <td>0.0</td>\n",
       "      <td>7.0</td>\n",
       "      <td>1.0</td>\n",
       "      <td>75.0</td>\n",
       "      <td>0.0</td>\n",
       "      <td>0.0</td>\n",
       "      <td>10.0</td>\n",
       "      <td>[{'url': '/categories/106', 'name': 'Grocery'}]</td>\n",
       "      <td>NaN</td>\n",
       "      <td>NaN</td>\n",
       "      <td>NaN</td>\n",
       "      <td>NaN</td>\n",
       "    </tr>\n",
       "    <tr>\n",
       "      <th>1390156</th>\n",
       "      <td>1594631</td>\n",
       "      <td>2010-08-11T00:25:03Z</td>\n",
       "      <td>-86.750305</td>\n",
       "      <td>34.751688</td>\n",
       "      <td>0.0</td>\n",
       "      <td>2.0</td>\n",
       "      <td>2.0</td>\n",
       "      <td>75.0</td>\n",
       "      <td>0.0</td>\n",
       "      <td>0.0</td>\n",
       "      <td>10.0</td>\n",
       "      <td>[{'url': '/categories/154', 'name': 'Burgers'}]</td>\n",
       "      <td>NaN</td>\n",
       "      <td>NaN</td>\n",
       "      <td>NaN</td>\n",
       "      <td>NaN</td>\n",
       "    </tr>\n",
       "    <tr>\n",
       "      <th>116522</th>\n",
       "      <td>133706</td>\n",
       "      <td>2009-11-26T06:59:19Z</td>\n",
       "      <td>8.626318</td>\n",
       "      <td>52.322112</td>\n",
       "      <td>0.0</td>\n",
       "      <td>8.0</td>\n",
       "      <td>4.0</td>\n",
       "      <td>75.0</td>\n",
       "      <td>0.0</td>\n",
       "      <td>1.0</td>\n",
       "      <td>10.0</td>\n",
       "      <td>[{'url': '/categories/119', 'name': 'Gas &amp; Aut...</td>\n",
       "      <td>NaN</td>\n",
       "      <td>NaN</td>\n",
       "      <td>NaN</td>\n",
       "      <td>NaN</td>\n",
       "    </tr>\n",
       "    <tr>\n",
       "      <th>443971</th>\n",
       "      <td>495915</td>\n",
       "      <td>2010-02-02T20:02:02Z</td>\n",
       "      <td>-122.872520</td>\n",
       "      <td>38.608496</td>\n",
       "      <td>0.0</td>\n",
       "      <td>5.0</td>\n",
       "      <td>3.0</td>\n",
       "      <td>75.0</td>\n",
       "      <td>0.0</td>\n",
       "      <td>1.0</td>\n",
       "      <td>10.0</td>\n",
       "      <td>[{'url': '/categories/454', 'name': 'Subway'}]</td>\n",
       "      <td>NaN</td>\n",
       "      <td>NaN</td>\n",
       "      <td>NaN</td>\n",
       "      <td>NaN</td>\n",
       "    </tr>\n",
       "  </tbody>\n",
       "</table>\n",
       "</div>"
      ],
      "text/plain": [
       "              id            created_at         lng        lat  photos_count  \\\n",
       "1623442  4454761  2010-09-26T03:03:38Z  -90.394769  38.780422           1.0   \n",
       "1957207  6565272  2010-12-10T13:00:23Z  132.464818  34.455441           0.0   \n",
       "1390156  1594631  2010-08-11T00:25:03Z  -86.750305  34.751688           0.0   \n",
       "116522    133706  2009-11-26T06:59:19Z    8.626318  52.322112           0.0   \n",
       "443971    495915  2010-02-02T20:02:02Z -122.872520  38.608496           0.0   \n",
       "\n",
       "         checkins_count  users_count  radius_meters  highlights_count  \\\n",
       "1623442             4.0          3.0           75.0               0.0   \n",
       "1957207             7.0          1.0           75.0               0.0   \n",
       "1390156             2.0          2.0           75.0               0.0   \n",
       "116522              8.0          4.0           75.0               0.0   \n",
       "443971              5.0          3.0           75.0               0.0   \n",
       "\n",
       "         items_count  max_items_count  \\\n",
       "1623442          1.0             10.0   \n",
       "1957207          0.0             10.0   \n",
       "1390156          0.0             10.0   \n",
       "116522           1.0             10.0   \n",
       "443971           1.0             10.0   \n",
       "\n",
       "                                           spot_categories name city_state  \\\n",
       "1623442  [{'url': '/categories/47', 'name': 'Modern Hot...  NaN        NaN   \n",
       "1957207    [{'url': '/categories/106', 'name': 'Grocery'}]  NaN        NaN   \n",
       "1390156    [{'url': '/categories/154', 'name': 'Burgers'}]  NaN        NaN   \n",
       "116522   [{'url': '/categories/119', 'name': 'Gas & Aut...  NaN        NaN   \n",
       "443971      [{'url': '/categories/454', 'name': 'Subway'}]  NaN        NaN   \n",
       "\n",
       "        Unnamed: 5 Unnamed: 6  \n",
       "1623442        NaN        NaN  \n",
       "1957207        NaN        NaN  \n",
       "1390156        NaN        NaN  \n",
       "116522         NaN        NaN  \n",
       "443971         NaN        NaN  "
      ]
     },
     "execution_count": 14,
     "metadata": {},
     "output_type": "execute_result"
    }
   ],
   "source": [
    "pois.sample(5)"
   ]
  },
  {
   "cell_type": "markdown",
   "metadata": {},
   "source": [
    "Filtramos los pois si han sido visitadas pocas veces según los parámetros que definimos"
   ]
  },
  {
   "cell_type": "code",
   "execution_count": 15,
   "metadata": {},
   "outputs": [],
   "source": [
    "visited_pois = pd.merge(pois, checkins, left_on='id', right_on='placeid', how='inner', copy=False)"
   ]
  },
  {
   "cell_type": "code",
   "execution_count": 16,
   "metadata": {},
   "outputs": [],
   "source": [
    "visited_pois['visited_count'] = np.zeros(len(visited_pois))\n",
    "\n",
    "visited_pois = visited_pois[['id', 'visited_count']].groupby(by='id').count()\n",
    "visited_pois = visited_pois[visited_pois.visited_count >= MIN_POI_VISITS]\n",
    "\n",
    "pois = pd.merge(pois, visited_pois, on='id', how='inner', copy=False)"
   ]
  },
  {
   "cell_type": "markdown",
   "metadata": {},
   "source": [
    "Nos quedamos con sólo las columnas que nos importan"
   ]
  },
  {
   "cell_type": "code",
   "execution_count": 17,
   "metadata": {},
   "outputs": [
    {
     "data": {
      "text/html": [
       "<div>\n",
       "<style scoped>\n",
       "    .dataframe tbody tr th:only-of-type {\n",
       "        vertical-align: middle;\n",
       "    }\n",
       "\n",
       "    .dataframe tbody tr th {\n",
       "        vertical-align: top;\n",
       "    }\n",
       "\n",
       "    .dataframe thead th {\n",
       "        text-align: right;\n",
       "    }\n",
       "</style>\n",
       "<table border=\"1\" class=\"dataframe\">\n",
       "  <thead>\n",
       "    <tr style=\"text-align: right;\">\n",
       "      <th></th>\n",
       "      <th>id</th>\n",
       "      <th>lat</th>\n",
       "      <th>lng</th>\n",
       "      <th>visited_count</th>\n",
       "    </tr>\n",
       "  </thead>\n",
       "  <tbody>\n",
       "    <tr>\n",
       "      <th>0</th>\n",
       "      <td>8904</td>\n",
       "      <td>39.052318</td>\n",
       "      <td>-94.607499</td>\n",
       "      <td>88</td>\n",
       "    </tr>\n",
       "    <tr>\n",
       "      <th>1</th>\n",
       "      <td>8932</td>\n",
       "      <td>32.927662</td>\n",
       "      <td>-97.254356</td>\n",
       "      <td>28</td>\n",
       "    </tr>\n",
       "    <tr>\n",
       "      <th>2</th>\n",
       "      <td>8936</td>\n",
       "      <td>39.053318</td>\n",
       "      <td>-94.591995</td>\n",
       "      <td>17</td>\n",
       "    </tr>\n",
       "    <tr>\n",
       "      <th>3</th>\n",
       "      <td>8938</td>\n",
       "      <td>39.052824</td>\n",
       "      <td>-94.590311</td>\n",
       "      <td>130</td>\n",
       "    </tr>\n",
       "    <tr>\n",
       "      <th>4</th>\n",
       "      <td>8947</td>\n",
       "      <td>37.331880</td>\n",
       "      <td>-122.029631</td>\n",
       "      <td>1069</td>\n",
       "    </tr>\n",
       "    <tr>\n",
       "      <th>...</th>\n",
       "      <td>...</td>\n",
       "      <td>...</td>\n",
       "      <td>...</td>\n",
       "      <td>...</td>\n",
       "    </tr>\n",
       "    <tr>\n",
       "      <th>642599</th>\n",
       "      <td>7527671</td>\n",
       "      <td>27.390431</td>\n",
       "      <td>-82.511700</td>\n",
       "      <td>5</td>\n",
       "    </tr>\n",
       "    <tr>\n",
       "      <th>642600</th>\n",
       "      <td>7527865</td>\n",
       "      <td>30.335072</td>\n",
       "      <td>-87.134716</td>\n",
       "      <td>5</td>\n",
       "    </tr>\n",
       "    <tr>\n",
       "      <th>642601</th>\n",
       "      <td>7529658</td>\n",
       "      <td>35.403926</td>\n",
       "      <td>-97.727437</td>\n",
       "      <td>5</td>\n",
       "    </tr>\n",
       "    <tr>\n",
       "      <th>642602</th>\n",
       "      <td>7533476</td>\n",
       "      <td>35.847316</td>\n",
       "      <td>-78.805891</td>\n",
       "      <td>6</td>\n",
       "    </tr>\n",
       "    <tr>\n",
       "      <th>642603</th>\n",
       "      <td>7562624</td>\n",
       "      <td>25.874680</td>\n",
       "      <td>44.233218</td>\n",
       "      <td>7</td>\n",
       "    </tr>\n",
       "  </tbody>\n",
       "</table>\n",
       "<p>642604 rows × 4 columns</p>\n",
       "</div>"
      ],
      "text/plain": [
       "             id        lat         lng  visited_count\n",
       "0          8904  39.052318  -94.607499             88\n",
       "1          8932  32.927662  -97.254356             28\n",
       "2          8936  39.053318  -94.591995             17\n",
       "3          8938  39.052824  -94.590311            130\n",
       "4          8947  37.331880 -122.029631           1069\n",
       "...         ...        ...         ...            ...\n",
       "642599  7527671  27.390431  -82.511700              5\n",
       "642600  7527865  30.335072  -87.134716              5\n",
       "642601  7529658  35.403926  -97.727437              5\n",
       "642602  7533476  35.847316  -78.805891              6\n",
       "642603  7562624  25.874680   44.233218              7\n",
       "\n",
       "[642604 rows x 4 columns]"
      ]
     },
     "execution_count": 17,
     "metadata": {},
     "output_type": "execute_result"
    }
   ],
   "source": [
    "pois = pois[['id', 'lat', 'lng', 'visited_count']]\n",
    "pois "
   ]
  },
  {
   "cell_type": "markdown",
   "metadata": {},
   "source": [
    "Ahora eliminamos los checkins de pois que ya no existen"
   ]
  },
  {
   "cell_type": "code",
   "execution_count": 18,
   "metadata": {},
   "outputs": [
    {
     "name": "stdout",
     "output_type": "stream",
     "text": [
      "Current checkins 14335594\n",
      "Reduced checkins 11745848\n"
     ]
    }
   ],
   "source": [
    "print('Current checkins', len(checkins))\n",
    "checkins = pd.merge(pois, checkins, left_on='id', right_on='placeid', how='inner', copy=False)[checkins.columns]\n",
    "checkins = checkins.reset_index(drop=True)\n",
    "print('Reduced checkins', len(checkins))"
   ]
  },
  {
   "cell_type": "markdown",
   "metadata": {},
   "source": [
    "Finalmente eliminamos nuevamente a los usuarios que se quedaron sin suficientes checkins"
   ]
  },
  {
   "cell_type": "code",
   "execution_count": 19,
   "metadata": {},
   "outputs": [
    {
     "name": "stdout",
     "output_type": "stream",
     "text": [
      "Current users 74054\n",
      "Reduced users 73971\n"
     ]
    }
   ],
   "source": [
    "print('Current users', len(users))\n",
    "users = pd.merge(checkins, users, how='inner', left_on='userid', right_on='id', copy=False)[users.columns].drop_duplicates()\n",
    "print('Reduced users', len(users))"
   ]
  },
  {
   "cell_type": "markdown",
   "metadata": {},
   "source": [
    "### Reasignación de IDs"
   ]
  },
  {
   "cell_type": "code",
   "execution_count": 20,
   "metadata": {},
   "outputs": [],
   "source": [
    "users = users.reset_index(drop=True)\n",
    "users['user_sid'] = users.index\n",
    "\n",
    "pois = pois.reset_index(drop=True)\n",
    "pois['place_sid'] = pois.index"
   ]
  },
  {
   "cell_type": "markdown",
   "metadata": {},
   "source": [
    "### Agregar Datos\n",
    "\n",
    "Crearemos un dataset unificado que usaremos para entrenar el modelo de los embeddings"
   ]
  },
  {
   "cell_type": "code",
   "execution_count": 21,
   "metadata": {},
   "outputs": [
    {
     "data": {
      "text/html": [
       "<div>\n",
       "<style scoped>\n",
       "    .dataframe tbody tr th:only-of-type {\n",
       "        vertical-align: middle;\n",
       "    }\n",
       "\n",
       "    .dataframe tbody tr th {\n",
       "        vertical-align: top;\n",
       "    }\n",
       "\n",
       "    .dataframe thead th {\n",
       "        text-align: right;\n",
       "    }\n",
       "</style>\n",
       "<table border=\"1\" class=\"dataframe\">\n",
       "  <thead>\n",
       "    <tr style=\"text-align: right;\">\n",
       "      <th></th>\n",
       "      <th>id</th>\n",
       "      <th>lat</th>\n",
       "      <th>lng</th>\n",
       "      <th>visited_count</th>\n",
       "      <th>place_sid</th>\n",
       "    </tr>\n",
       "  </thead>\n",
       "  <tbody>\n",
       "    <tr>\n",
       "      <th>0</th>\n",
       "      <td>8904</td>\n",
       "      <td>39.052318</td>\n",
       "      <td>-94.607499</td>\n",
       "      <td>88</td>\n",
       "      <td>0</td>\n",
       "    </tr>\n",
       "    <tr>\n",
       "      <th>1</th>\n",
       "      <td>8932</td>\n",
       "      <td>32.927662</td>\n",
       "      <td>-97.254356</td>\n",
       "      <td>28</td>\n",
       "      <td>1</td>\n",
       "    </tr>\n",
       "    <tr>\n",
       "      <th>2</th>\n",
       "      <td>8936</td>\n",
       "      <td>39.053318</td>\n",
       "      <td>-94.591995</td>\n",
       "      <td>17</td>\n",
       "      <td>2</td>\n",
       "    </tr>\n",
       "    <tr>\n",
       "      <th>3</th>\n",
       "      <td>8938</td>\n",
       "      <td>39.052824</td>\n",
       "      <td>-94.590311</td>\n",
       "      <td>130</td>\n",
       "      <td>3</td>\n",
       "    </tr>\n",
       "    <tr>\n",
       "      <th>4</th>\n",
       "      <td>8947</td>\n",
       "      <td>37.331880</td>\n",
       "      <td>-122.029631</td>\n",
       "      <td>1069</td>\n",
       "      <td>4</td>\n",
       "    </tr>\n",
       "  </tbody>\n",
       "</table>\n",
       "</div>"
      ],
      "text/plain": [
       "     id        lat         lng  visited_count  place_sid\n",
       "0  8904  39.052318  -94.607499             88          0\n",
       "1  8932  32.927662  -97.254356             28          1\n",
       "2  8936  39.053318  -94.591995             17          2\n",
       "3  8938  39.052824  -94.590311            130          3\n",
       "4  8947  37.331880 -122.029631           1069          4"
      ]
     },
     "execution_count": 21,
     "metadata": {},
     "output_type": "execute_result"
    }
   ],
   "source": [
    "pois.head()"
   ]
  },
  {
   "cell_type": "code",
   "execution_count": 22,
   "metadata": {},
   "outputs": [
    {
     "data": {
      "text/html": [
       "<div>\n",
       "<style scoped>\n",
       "    .dataframe tbody tr th:only-of-type {\n",
       "        vertical-align: middle;\n",
       "    }\n",
       "\n",
       "    .dataframe tbody tr th {\n",
       "        vertical-align: top;\n",
       "    }\n",
       "\n",
       "    .dataframe thead th {\n",
       "        text-align: right;\n",
       "    }\n",
       "</style>\n",
       "<table border=\"1\" class=\"dataframe\">\n",
       "  <thead>\n",
       "    <tr style=\"text-align: right;\">\n",
       "      <th></th>\n",
       "      <th>id</th>\n",
       "      <th>user_sid</th>\n",
       "    </tr>\n",
       "  </thead>\n",
       "  <tbody>\n",
       "    <tr>\n",
       "      <th>0</th>\n",
       "      <td>1</td>\n",
       "      <td>0</td>\n",
       "    </tr>\n",
       "    <tr>\n",
       "      <th>1</th>\n",
       "      <td>151</td>\n",
       "      <td>1</td>\n",
       "    </tr>\n",
       "    <tr>\n",
       "      <th>2</th>\n",
       "      <td>159</td>\n",
       "      <td>2</td>\n",
       "    </tr>\n",
       "    <tr>\n",
       "      <th>3</th>\n",
       "      <td>181</td>\n",
       "      <td>3</td>\n",
       "    </tr>\n",
       "    <tr>\n",
       "      <th>4</th>\n",
       "      <td>50372</td>\n",
       "      <td>4</td>\n",
       "    </tr>\n",
       "  </tbody>\n",
       "</table>\n",
       "</div>"
      ],
      "text/plain": [
       "      id  user_sid\n",
       "0      1         0\n",
       "1    151         1\n",
       "2    159         2\n",
       "3    181         3\n",
       "4  50372         4"
      ]
     },
     "execution_count": 22,
     "metadata": {},
     "output_type": "execute_result"
    }
   ],
   "source": [
    "users.head()"
   ]
  },
  {
   "cell_type": "code",
   "execution_count": 23,
   "metadata": {},
   "outputs": [
    {
     "data": {
      "text/html": [
       "<div>\n",
       "<style scoped>\n",
       "    .dataframe tbody tr th:only-of-type {\n",
       "        vertical-align: middle;\n",
       "    }\n",
       "\n",
       "    .dataframe tbody tr th {\n",
       "        vertical-align: top;\n",
       "    }\n",
       "\n",
       "    .dataframe thead th {\n",
       "        text-align: right;\n",
       "    }\n",
       "</style>\n",
       "<table border=\"1\" class=\"dataframe\">\n",
       "  <thead>\n",
       "    <tr style=\"text-align: right;\">\n",
       "      <th></th>\n",
       "      <th>userid</th>\n",
       "      <th>placeid</th>\n",
       "      <th>datetime</th>\n",
       "    </tr>\n",
       "  </thead>\n",
       "  <tbody>\n",
       "    <tr>\n",
       "      <th>0</th>\n",
       "      <td>1</td>\n",
       "      <td>8904</td>\n",
       "      <td>2009-09-02T19:35:39Z</td>\n",
       "    </tr>\n",
       "    <tr>\n",
       "      <th>1</th>\n",
       "      <td>1</td>\n",
       "      <td>8904</td>\n",
       "      <td>2009-09-02T08:06:01Z</td>\n",
       "    </tr>\n",
       "    <tr>\n",
       "      <th>2</th>\n",
       "      <td>1</td>\n",
       "      <td>8904</td>\n",
       "      <td>2009-09-02T08:03:20Z</td>\n",
       "    </tr>\n",
       "    <tr>\n",
       "      <th>3</th>\n",
       "      <td>1</td>\n",
       "      <td>8904</td>\n",
       "      <td>2009-09-02T08:02:37Z</td>\n",
       "    </tr>\n",
       "    <tr>\n",
       "      <th>4</th>\n",
       "      <td>1</td>\n",
       "      <td>8904</td>\n",
       "      <td>2009-09-02T06:39:42Z</td>\n",
       "    </tr>\n",
       "  </tbody>\n",
       "</table>\n",
       "</div>"
      ],
      "text/plain": [
       "   userid  placeid              datetime\n",
       "0       1     8904  2009-09-02T19:35:39Z\n",
       "1       1     8904  2009-09-02T08:06:01Z\n",
       "2       1     8904  2009-09-02T08:03:20Z\n",
       "3       1     8904  2009-09-02T08:02:37Z\n",
       "4       1     8904  2009-09-02T06:39:42Z"
      ]
     },
     "execution_count": 23,
     "metadata": {},
     "output_type": "execute_result"
    }
   ],
   "source": [
    "checkins.head()"
   ]
  },
  {
   "cell_type": "code",
   "execution_count": 24,
   "metadata": {},
   "outputs": [],
   "source": [
    "users_checkins = pd.merge(users, checkins, left_on='id', right_on='userid', copy=False).drop('id', axis=1)\n",
    "users_checkins = pd.merge(users_checkins, pois[['id', 'place_sid']], left_on='placeid', right_on='id', copy=False)\n",
    "users_checkins['date'] = pd.to_datetime(users_checkins['datetime'])\n",
    "users_checkins = users_checkins.drop('datetime', axis=1)\n",
    "users_checkins.sort_values(by=['user_sid', 'date'], inplace=True)"
   ]
  },
  {
   "cell_type": "code",
   "execution_count": 25,
   "metadata": {},
   "outputs": [
    {
     "data": {
      "text/html": [
       "<div>\n",
       "<style scoped>\n",
       "    .dataframe tbody tr th:only-of-type {\n",
       "        vertical-align: middle;\n",
       "    }\n",
       "\n",
       "    .dataframe tbody tr th {\n",
       "        vertical-align: top;\n",
       "    }\n",
       "\n",
       "    .dataframe thead th {\n",
       "        text-align: right;\n",
       "    }\n",
       "</style>\n",
       "<table border=\"1\" class=\"dataframe\">\n",
       "  <thead>\n",
       "    <tr style=\"text-align: right;\">\n",
       "      <th></th>\n",
       "      <th>user_sid</th>\n",
       "      <th>place_sid</th>\n",
       "    </tr>\n",
       "  </thead>\n",
       "  <tbody>\n",
       "    <tr>\n",
       "      <th>71</th>\n",
       "      <td>0</td>\n",
       "      <td>0</td>\n",
       "    </tr>\n",
       "    <tr>\n",
       "      <th>3609</th>\n",
       "      <td>0</td>\n",
       "      <td>28</td>\n",
       "    </tr>\n",
       "    <tr>\n",
       "      <th>1738</th>\n",
       "      <td>0</td>\n",
       "      <td>10</td>\n",
       "    </tr>\n",
       "    <tr>\n",
       "      <th>3632</th>\n",
       "      <td>0</td>\n",
       "      <td>31</td>\n",
       "    </tr>\n",
       "    <tr>\n",
       "      <th>3631</th>\n",
       "      <td>0</td>\n",
       "      <td>31</td>\n",
       "    </tr>\n",
       "    <tr>\n",
       "      <th>70</th>\n",
       "      <td>0</td>\n",
       "      <td>0</td>\n",
       "    </tr>\n",
       "    <tr>\n",
       "      <th>69</th>\n",
       "      <td>0</td>\n",
       "      <td>0</td>\n",
       "    </tr>\n",
       "    <tr>\n",
       "      <th>3608</th>\n",
       "      <td>0</td>\n",
       "      <td>28</td>\n",
       "    </tr>\n",
       "    <tr>\n",
       "      <th>68</th>\n",
       "      <td>0</td>\n",
       "      <td>0</td>\n",
       "    </tr>\n",
       "    <tr>\n",
       "      <th>67</th>\n",
       "      <td>0</td>\n",
       "      <td>0</td>\n",
       "    </tr>\n",
       "    <tr>\n",
       "      <th>66</th>\n",
       "      <td>0</td>\n",
       "      <td>0</td>\n",
       "    </tr>\n",
       "    <tr>\n",
       "      <th>1892</th>\n",
       "      <td>0</td>\n",
       "      <td>14</td>\n",
       "    </tr>\n",
       "    <tr>\n",
       "      <th>3653</th>\n",
       "      <td>0</td>\n",
       "      <td>34</td>\n",
       "    </tr>\n",
       "    <tr>\n",
       "      <th>3665</th>\n",
       "      <td>0</td>\n",
       "      <td>35</td>\n",
       "    </tr>\n",
       "    <tr>\n",
       "      <th>3688</th>\n",
       "      <td>0</td>\n",
       "      <td>36</td>\n",
       "    </tr>\n",
       "    <tr>\n",
       "      <th>3725</th>\n",
       "      <td>0</td>\n",
       "      <td>37</td>\n",
       "    </tr>\n",
       "    <tr>\n",
       "      <th>3739</th>\n",
       "      <td>0</td>\n",
       "      <td>38</td>\n",
       "    </tr>\n",
       "    <tr>\n",
       "      <th>65</th>\n",
       "      <td>0</td>\n",
       "      <td>0</td>\n",
       "    </tr>\n",
       "    <tr>\n",
       "      <th>1737</th>\n",
       "      <td>0</td>\n",
       "      <td>10</td>\n",
       "    </tr>\n",
       "    <tr>\n",
       "      <th>64</th>\n",
       "      <td>0</td>\n",
       "      <td>0</td>\n",
       "    </tr>\n",
       "  </tbody>\n",
       "</table>\n",
       "</div>"
      ],
      "text/plain": [
       "      user_sid  place_sid\n",
       "71           0          0\n",
       "3609         0         28\n",
       "1738         0         10\n",
       "3632         0         31\n",
       "3631         0         31\n",
       "70           0          0\n",
       "69           0          0\n",
       "3608         0         28\n",
       "68           0          0\n",
       "67           0          0\n",
       "66           0          0\n",
       "1892         0         14\n",
       "3653         0         34\n",
       "3665         0         35\n",
       "3688         0         36\n",
       "3725         0         37\n",
       "3739         0         38\n",
       "65           0          0\n",
       "1737         0         10\n",
       "64           0          0"
      ]
     },
     "execution_count": 25,
     "metadata": {},
     "output_type": "execute_result"
    }
   ],
   "source": [
    "users_checkins[['user_sid', 'place_sid']].head(20)"
   ]
  },
  {
   "cell_type": "code",
   "execution_count": 26,
   "metadata": {},
   "outputs": [
    {
     "data": {
      "text/html": [
       "<div>\n",
       "<style scoped>\n",
       "    .dataframe tbody tr th:only-of-type {\n",
       "        vertical-align: middle;\n",
       "    }\n",
       "\n",
       "    .dataframe tbody tr th {\n",
       "        vertical-align: top;\n",
       "    }\n",
       "\n",
       "    .dataframe thead th {\n",
       "        text-align: right;\n",
       "    }\n",
       "</style>\n",
       "<table border=\"1\" class=\"dataframe\">\n",
       "  <thead>\n",
       "    <tr style=\"text-align: right;\">\n",
       "      <th></th>\n",
       "      <th>user_sid</th>\n",
       "      <th>place_sid</th>\n",
       "    </tr>\n",
       "  </thead>\n",
       "  <tbody>\n",
       "    <tr>\n",
       "      <th>11745833</th>\n",
       "      <td>73970</td>\n",
       "      <td>642451</td>\n",
       "    </tr>\n",
       "    <tr>\n",
       "      <th>11745891</th>\n",
       "      <td>73970</td>\n",
       "      <td>642452</td>\n",
       "    </tr>\n",
       "    <tr>\n",
       "      <th>11745832</th>\n",
       "      <td>73970</td>\n",
       "      <td>642451</td>\n",
       "    </tr>\n",
       "    <tr>\n",
       "      <th>11745890</th>\n",
       "      <td>73970</td>\n",
       "      <td>642452</td>\n",
       "    </tr>\n",
       "    <tr>\n",
       "      <th>11745831</th>\n",
       "      <td>73970</td>\n",
       "      <td>642451</td>\n",
       "    </tr>\n",
       "    <tr>\n",
       "      <th>11745889</th>\n",
       "      <td>73970</td>\n",
       "      <td>642452</td>\n",
       "    </tr>\n",
       "    <tr>\n",
       "      <th>11745830</th>\n",
       "      <td>73970</td>\n",
       "      <td>642451</td>\n",
       "    </tr>\n",
       "    <tr>\n",
       "      <th>11745888</th>\n",
       "      <td>73970</td>\n",
       "      <td>642452</td>\n",
       "    </tr>\n",
       "    <tr>\n",
       "      <th>11745829</th>\n",
       "      <td>73970</td>\n",
       "      <td>642451</td>\n",
       "    </tr>\n",
       "    <tr>\n",
       "      <th>11745828</th>\n",
       "      <td>73970</td>\n",
       "      <td>642451</td>\n",
       "    </tr>\n",
       "    <tr>\n",
       "      <th>11745827</th>\n",
       "      <td>73970</td>\n",
       "      <td>642451</td>\n",
       "    </tr>\n",
       "    <tr>\n",
       "      <th>11745936</th>\n",
       "      <td>73970</td>\n",
       "      <td>642460</td>\n",
       "    </tr>\n",
       "    <tr>\n",
       "      <th>11745887</th>\n",
       "      <td>73970</td>\n",
       "      <td>642452</td>\n",
       "    </tr>\n",
       "    <tr>\n",
       "      <th>11745826</th>\n",
       "      <td>73970</td>\n",
       "      <td>642451</td>\n",
       "    </tr>\n",
       "    <tr>\n",
       "      <th>11745886</th>\n",
       "      <td>73970</td>\n",
       "      <td>642452</td>\n",
       "    </tr>\n",
       "    <tr>\n",
       "      <th>11745825</th>\n",
       "      <td>73970</td>\n",
       "      <td>642451</td>\n",
       "    </tr>\n",
       "    <tr>\n",
       "      <th>11745885</th>\n",
       "      <td>73970</td>\n",
       "      <td>642452</td>\n",
       "    </tr>\n",
       "    <tr>\n",
       "      <th>11745824</th>\n",
       "      <td>73970</td>\n",
       "      <td>642451</td>\n",
       "    </tr>\n",
       "    <tr>\n",
       "      <th>11745884</th>\n",
       "      <td>73970</td>\n",
       "      <td>642452</td>\n",
       "    </tr>\n",
       "    <tr>\n",
       "      <th>11745823</th>\n",
       "      <td>73970</td>\n",
       "      <td>642451</td>\n",
       "    </tr>\n",
       "  </tbody>\n",
       "</table>\n",
       "</div>"
      ],
      "text/plain": [
       "          user_sid  place_sid\n",
       "11745833     73970     642451\n",
       "11745891     73970     642452\n",
       "11745832     73970     642451\n",
       "11745890     73970     642452\n",
       "11745831     73970     642451\n",
       "11745889     73970     642452\n",
       "11745830     73970     642451\n",
       "11745888     73970     642452\n",
       "11745829     73970     642451\n",
       "11745828     73970     642451\n",
       "11745827     73970     642451\n",
       "11745936     73970     642460\n",
       "11745887     73970     642452\n",
       "11745826     73970     642451\n",
       "11745886     73970     642452\n",
       "11745825     73970     642451\n",
       "11745885     73970     642452\n",
       "11745824     73970     642451\n",
       "11745884     73970     642452\n",
       "11745823     73970     642451"
      ]
     },
     "execution_count": 26,
     "metadata": {},
     "output_type": "execute_result"
    }
   ],
   "source": [
    "users_checkins[['user_sid', 'place_sid']].tail(20)"
   ]
  },
  {
   "cell_type": "markdown",
   "metadata": {},
   "source": [
    "Podemos ver que hay un problema: Muchas veces se repiten los POI consecutivos de un usuario, sin embargo eso no aporta mucha información al embedding, por lo que los eliminaremos en el siguiente paso"
   ]
  },
  {
   "cell_type": "code",
   "execution_count": 27,
   "metadata": {},
   "outputs": [],
   "source": [
    "users_checkins['last_place_sid'] = users_checkins['place_sid'].shift(1)\n",
    "user_checkins = users_checkins[users_checkins.place_sid != users_checkins.last_place_sid]\n",
    "user_checkins = user_checkins.drop('last_place_sid', axis=1)"
   ]
  },
  {
   "cell_type": "code",
   "execution_count": 28,
   "metadata": {},
   "outputs": [
    {
     "data": {
      "text/html": [
       "<div>\n",
       "<style scoped>\n",
       "    .dataframe tbody tr th:only-of-type {\n",
       "        vertical-align: middle;\n",
       "    }\n",
       "\n",
       "    .dataframe tbody tr th {\n",
       "        vertical-align: top;\n",
       "    }\n",
       "\n",
       "    .dataframe thead th {\n",
       "        text-align: right;\n",
       "    }\n",
       "</style>\n",
       "<table border=\"1\" class=\"dataframe\">\n",
       "  <thead>\n",
       "    <tr style=\"text-align: right;\">\n",
       "      <th></th>\n",
       "      <th>user_sid</th>\n",
       "      <th>userid</th>\n",
       "      <th>placeid</th>\n",
       "      <th>id</th>\n",
       "      <th>place_sid</th>\n",
       "      <th>date</th>\n",
       "    </tr>\n",
       "  </thead>\n",
       "  <tbody>\n",
       "    <tr>\n",
       "      <th>11745825</th>\n",
       "      <td>73970</td>\n",
       "      <td>2615815</td>\n",
       "      <td>7361926</td>\n",
       "      <td>7361926</td>\n",
       "      <td>642451</td>\n",
       "      <td>2011-07-02 02:33:01+00:00</td>\n",
       "    </tr>\n",
       "    <tr>\n",
       "      <th>11745885</th>\n",
       "      <td>73970</td>\n",
       "      <td>2615815</td>\n",
       "      <td>7361973</td>\n",
       "      <td>7361973</td>\n",
       "      <td>642452</td>\n",
       "      <td>2011-07-02 11:38:43+00:00</td>\n",
       "    </tr>\n",
       "    <tr>\n",
       "      <th>11745824</th>\n",
       "      <td>73970</td>\n",
       "      <td>2615815</td>\n",
       "      <td>7361926</td>\n",
       "      <td>7361926</td>\n",
       "      <td>642451</td>\n",
       "      <td>2011-07-03 02:46:12+00:00</td>\n",
       "    </tr>\n",
       "    <tr>\n",
       "      <th>11745884</th>\n",
       "      <td>73970</td>\n",
       "      <td>2615815</td>\n",
       "      <td>7361973</td>\n",
       "      <td>7361973</td>\n",
       "      <td>642452</td>\n",
       "      <td>2011-07-03 10:53:14+00:00</td>\n",
       "    </tr>\n",
       "    <tr>\n",
       "      <th>11745823</th>\n",
       "      <td>73970</td>\n",
       "      <td>2615815</td>\n",
       "      <td>7361926</td>\n",
       "      <td>7361926</td>\n",
       "      <td>642451</td>\n",
       "      <td>2011-07-03 23:47:06+00:00</td>\n",
       "    </tr>\n",
       "  </tbody>\n",
       "</table>\n",
       "</div>"
      ],
      "text/plain": [
       "          user_sid   userid  placeid       id  place_sid  \\\n",
       "11745825     73970  2615815  7361926  7361926     642451   \n",
       "11745885     73970  2615815  7361973  7361973     642452   \n",
       "11745824     73970  2615815  7361926  7361926     642451   \n",
       "11745884     73970  2615815  7361973  7361973     642452   \n",
       "11745823     73970  2615815  7361926  7361926     642451   \n",
       "\n",
       "                              date  \n",
       "11745825 2011-07-02 02:33:01+00:00  \n",
       "11745885 2011-07-02 11:38:43+00:00  \n",
       "11745824 2011-07-03 02:46:12+00:00  \n",
       "11745884 2011-07-03 10:53:14+00:00  \n",
       "11745823 2011-07-03 23:47:06+00:00  "
      ]
     },
     "execution_count": 28,
     "metadata": {},
     "output_type": "execute_result"
    }
   ],
   "source": [
    "user_checkins.tail()"
   ]
  },
  {
   "cell_type": "code",
   "execution_count": 29,
   "metadata": {},
   "outputs": [],
   "source": [
    "from collections import defaultdict"
   ]
  },
  {
   "cell_type": "code",
   "execution_count": 30,
   "metadata": {},
   "outputs": [],
   "source": [
    "user_poi_seq = defaultdict(lambda: [])\n",
    "user_date_seq = defaultdict(lambda: [])"
   ]
  },
  {
   "cell_type": "code",
   "execution_count": 31,
   "metadata": {},
   "outputs": [],
   "source": [
    "for user_sid, place_sid, date in zip(users_checkins['user_sid'], users_checkins['place_sid'], users_checkins['date']):\n",
    "    user_poi_seq[user_sid].append(place_sid)\n",
    "    user_date_seq[user_sid].append(date)"
   ]
  },
  {
   "cell_type": "markdown",
   "metadata": {},
   "source": [
    "Generamos secuencias de puntos de interes visitados por usuarios de un largo predefinido para entrenar el modelo de embeddings"
   ]
  },
  {
   "cell_type": "code",
   "execution_count": 32,
   "metadata": {},
   "outputs": [],
   "source": [
    "from random import sample\n",
    "\n",
    "poi_sequence_dataset = []\n",
    "\n",
    "for user_sid, sequence in user_poi_seq.items():\n",
    "    if len(sequence) < SEQUENCE_LENGTH: continue\n",
    "\n",
    "    candidate_indexes = list(range(0, len(sequence) - SEQUENCE_LENGTH, SEQUENCE_LENGTH))\n",
    "\n",
    "    n_sequences = min(len(candidate_indexes), MAX_SEQUENCES_PER_USER)\n",
    "    start_indexes = sample(candidate_indexes, n_sequences)\n",
    "\n",
    "    for idx in start_indexes:\n",
    "        new_seq = sequence[idx:idx + SEQUENCE_LENGTH]\n",
    "        poi_sequence_dataset.append(new_seq) \n",
    "    "
   ]
  },
  {
   "cell_type": "code",
   "execution_count": 33,
   "metadata": {},
   "outputs": [],
   "source": [
    "def split_list(input, frac=0.5):\n",
    "    split_index = int(len(input) * frac)\n",
    "    return input[:split_index], input[split_index:]"
   ]
  },
  {
   "cell_type": "markdown",
   "metadata": {},
   "source": [
    "## Split de Datos\n",
    "\n",
    "Realizamos separacion en train / test / split de 80 / 10 / 10"
   ]
  },
  {
   "cell_type": "code",
   "execution_count": 34,
   "metadata": {},
   "outputs": [],
   "source": [
    "train_poi_sequence, rest = split_list(poi_sequence_dataset, 0.8)\n",
    "test_poi_sequence, val_poi_sequence = split_list(rest)"
   ]
  },
  {
   "cell_type": "code",
   "execution_count": 35,
   "metadata": {},
   "outputs": [],
   "source": [
    "def split_history_target(sequences):\n",
    "    history = [ seq[:-1] for seq in sequences]\n",
    "    targets = [ seq[-1] for seq in sequences]\n",
    "    return history, targets"
   ]
  },
  {
   "cell_type": "code",
   "execution_count": 36,
   "metadata": {},
   "outputs": [],
   "source": [
    "train_seq_history, train_seq_target = split_history_target(train_poi_sequence)\n",
    "test_seq_history, test_seq_target = split_history_target(test_poi_sequence)\n",
    "val_seq_history, val_seq_target = split_history_target(val_poi_sequence)"
   ]
  },
  {
   "cell_type": "code",
   "execution_count": 37,
   "metadata": {},
   "outputs": [
    {
     "name": "stdout",
     "output_type": "stream",
     "text": [
      "Total pois incluidos en dataset: 637525\n",
      "Porcentaje de POIs que se usaran en el modelo 99.2096221000803\n"
     ]
    }
   ],
   "source": [
    "unique_pois = { poi for sequence in  poi_sequence_dataset  for poi in sequence }\n",
    "\n",
    "print(\"Total pois incluidos en dataset:\", len(unique_pois))\n",
    "print(\"Porcentaje de POIs que se usaran en el modelo\",  len(unique_pois) * 100 / len(pois))"
   ]
  },
  {
   "cell_type": "code",
   "execution_count": 38,
   "metadata": {},
   "outputs": [
    {
     "name": "stdout",
     "output_type": "stream",
     "text": [
      "Total Train 538191\n",
      "Total Test  67274\n",
      "Total Val   67274\n"
     ]
    }
   ],
   "source": [
    "print(\"Total Train\", len(train_seq_history))\n",
    "print(\"Total Test \", len(test_seq_history))\n",
    "print(\"Total Val  \", len(val_seq_history))"
   ]
  },
  {
   "cell_type": "markdown",
   "metadata": {},
   "source": [
    "Ya tenemos nuestros datos listos para entrenar!"
   ]
  },
  {
   "cell_type": "markdown",
   "metadata": {},
   "source": [
    "# Modelo"
   ]
  },
  {
   "cell_type": "code",
   "execution_count": 39,
   "metadata": {},
   "outputs": [],
   "source": [
    "class EmbeddingModel(nn.Module):\n",
    "    def __init__(self, vocab_size=None, emb_dim=None, hidden_dim=None, sample_length=None):\n",
    "        super(EmbeddingModel, self).__init__()\n",
    "        \n",
    "        self.emb = nn.Embedding(vocab_size, emb_dim)\n",
    "        self.hidden = nn.Linear(sample_length * emb_dim, hidden_dim)\n",
    "        self.hidden_activation = nn.ReLU()\n",
    "        self.output = nn.Linear(hidden_dim, vocab_size)\n",
    "        self.output_activation = nn.LogSoftmax(dim=-1)\n",
    "\n",
    "    def forward(self, xs):\n",
    "        batch_size = xs.size()[0]\n",
    "\n",
    "        # embed and merge\n",
    "        xs = self.emb(xs)\n",
    "        xs = torch.reshape(xs, (batch_size, -1))\n",
    "\n",
    "        # hidden layer\n",
    "        hidden = self.hidden(xs)\n",
    "        hidden = self.hidden_activation(hidden)\n",
    "\n",
    "        # output log probabilities\n",
    "        output_logits = self.output(hidden)\n",
    "        output_log_probs = self.output_activation(output_logits)\n",
    "        \n",
    "        return output_log_probs\n",
    "\n",
    "    def predict(self, xs):\n",
    "        return torch.argmax(self.forward(xs))"
   ]
  },
  {
   "cell_type": "code",
   "execution_count": 40,
   "metadata": {},
   "outputs": [],
   "source": [
    "class Trainer:\n",
    "    def __init__(self, model):\n",
    "        pass"
   ]
  },
  {
   "cell_type": "code",
   "execution_count": 41,
   "metadata": {},
   "outputs": [],
   "source": [
    "from torch.utils.data import DataLoader\n",
    "\n",
    "def dataset_to_tensors(sequences, targets):\n",
    "    return [[torch.tensor(x), torch.tensor(y)] for x, y in zip(sequences, targets)]\n",
    "\n",
    "\n",
    "train_tensors = dataset_to_tensors(train_seq_history, train_seq_target)\n",
    "train_dataloader = DataLoader(train_tensors, batch_size=BATCH_SIZE, shuffle=True)\n",
    "\n",
    "test_tensors = dataset_to_tensors(test_seq_history, test_seq_target)\n",
    "test_dataloader = DataLoader(test_tensors, batch_size=BATCH_SIZE, shuffle=True)\n",
    "\n",
    "val_tensors = dataset_to_tensors(val_seq_history, val_seq_target)\n",
    "val_dataloader = DataLoader(val_tensors, batch_size=BATCH_SIZE, shuffle=True)"
   ]
  },
  {
   "cell_type": "code",
   "execution_count": 42,
   "metadata": {},
   "outputs": [
    {
     "name": "stdout",
     "output_type": "stream",
     "text": [
      "Initializing model ...\n",
      "Beginning training ...\n",
      "Epoch 1\n",
      "(100) : 664621.8204858219\n",
      "(200) : 666678.4938409738\n",
      "(300) : 659306.1553012102\n",
      "(400) : 658983.6534558545\n",
      "(500) : 662998.3803865968\n",
      "(600) : 664290.0221633972\n",
      "(700) : 660475.1497861792\n",
      "(800) : 661754.6055563579\n",
      "(900) : 661922.4548294584\n",
      "(1000) : 663151.0187936182\n",
      "\n",
      "Evaluating model on test set ...\n"
     ]
    },
    {
     "name": "stderr",
     "output_type": "stream",
     "text": [
      "100%|██████████| 1052/1052 [00:09<00:00, 105.44it/s]\n"
     ]
    },
    {
     "name": "stdout",
     "output_type": "stream",
     "text": [
      "Average Test Loss: 660356.1465816613\n",
      "\n",
      "(1100) : 661065.7229027775\n",
      "(1200) : 660436.174074024\n",
      "(1300) : 658825.2262301946\n",
      "(1400) : 664649.4878616733\n",
      "(1500) : 659256.2270944153\n",
      "(1600) : 661304.7979805643\n",
      "(1700) : 661041.9493850174\n",
      "(1800) : 658560.6751194334\n",
      "(1900) : 658923.2427703885\n",
      "(2000) : 655093.0827973963\n",
      "\n",
      "Evaluating model on test set ...\n"
     ]
    },
    {
     "name": "stderr",
     "output_type": "stream",
     "text": [
      "100%|██████████| 1052/1052 [00:09<00:00, 105.91it/s]\n"
     ]
    },
    {
     "name": "stdout",
     "output_type": "stream",
     "text": [
      "Average Test Loss: 659100.0056358612\n",
      "\n",
      "(2100) : 658465.8271960105\n",
      "(2200) : 657702.3669865049\n",
      "(2300) : 658383.5379250979\n",
      "(2400) : 658645.1473040022\n",
      "(2500) : 654364.9221400875\n",
      "(2600) : 660079.2766535\n",
      "(2700) : 658707.0150247839\n",
      "(2800) : 658661.8746971502\n",
      "(2900) : 655432.2136554641\n",
      "(3000) : 652130.7854586433\n",
      "\n",
      "Evaluating model on test set ...\n"
     ]
    },
    {
     "name": "stderr",
     "output_type": "stream",
     "text": [
      "100%|██████████| 1052/1052 [00:09<00:00, 106.16it/s]\n"
     ]
    },
    {
     "name": "stdout",
     "output_type": "stream",
     "text": [
      "Average Test Loss: 657656.2072473549\n",
      "\n",
      "(3100) : 655642.1016254859\n",
      "(3200) : 656142.970769842\n",
      "(3300) : 657944.4108794177\n",
      "(3400) : 655169.6623226224\n",
      "(3500) : 658442.1095004104\n",
      "(3600) : 656679.3108556598\n",
      "(3700) : 654097.252772379\n",
      "(3800) : 655156.0226771877\n",
      "(3900) : 653901.7968687896\n",
      "(4000) : 657723.8187341843\n",
      "\n",
      "Evaluating model on test set ...\n"
     ]
    },
    {
     "name": "stderr",
     "output_type": "stream",
     "text": [
      "100%|██████████| 1052/1052 [00:09<00:00, 106.19it/s]\n"
     ]
    },
    {
     "name": "stdout",
     "output_type": "stream",
     "text": [
      "Average Test Loss: 656618.9607221241\n",
      "\n",
      "(4100) : 655621.0178926975\n",
      "(4200) : 654153.5590001572\n",
      "(4300) : 655199.3543695804\n",
      "(4400) : 655206.7650944961\n",
      "(4500) : 653412.2784762417\n",
      "(4600) : 651120.2893105505\n",
      "(4700) : 654734.864269588\n",
      "(4800) : 655866.61163881\n",
      "(4900) : 653122.475561828\n",
      "(5000) : 655319.5796737138\n",
      "\n",
      "Evaluating model on test set ...\n"
     ]
    },
    {
     "name": "stderr",
     "output_type": "stream",
     "text": [
      "100%|██████████| 1052/1052 [00:09<00:00, 105.65it/s]\n"
     ]
    },
    {
     "name": "stdout",
     "output_type": "stream",
     "text": [
      "Average Test Loss: 655520.2524132875\n",
      "\n",
      "(5100) : 650882.0407770183\n",
      "(5200) : 653143.9336525124\n",
      "(5300) : 652678.9026553121\n",
      "(5400) : 653442.395647715\n",
      "(5500) : 653987.6173825321\n",
      "(5600) : 653464.9548356442\n",
      "(5700) : 651222.7862798611\n",
      "(5800) : 655413.4243546044\n",
      "(5900) : 650506.4402559102\n",
      "(6000) : 650198.7902603635\n",
      "\n",
      "Evaluating model on test set ...\n"
     ]
    },
    {
     "name": "stderr",
     "output_type": "stream",
     "text": [
      "100%|██████████| 1052/1052 [00:09<00:00, 105.64it/s]\n"
     ]
    },
    {
     "name": "stdout",
     "output_type": "stream",
     "text": [
      "Average Test Loss: 654804.9362894628\n",
      "\n",
      "(6100) : 652936.9687773564\n",
      "(6200) : 654200.8547365\n",
      "(6300) : 649873.4610031133\n",
      "(6400) : 652132.4459881748\n",
      "(6500) : 648276.8526517905\n",
      "(6600) : 653558.4092696159\n",
      "(6700) : 652645.241800154\n",
      "(6800) : 652240.6569485291\n",
      "(6900) : 653216.9649595392\n",
      "(7000) : 651783.2246169066\n",
      "\n",
      "Evaluating model on test set ...\n"
     ]
    },
    {
     "name": "stderr",
     "output_type": "stream",
     "text": [
      "100%|██████████| 1052/1052 [00:09<00:00, 106.17it/s]\n"
     ]
    },
    {
     "name": "stdout",
     "output_type": "stream",
     "text": [
      "Average Test Loss: 654009.3451763546\n",
      "\n",
      "(7100) : 651451.0948526822\n",
      "(7200) : 651716.0281027361\n",
      "(7300) : 650676.1835745672\n",
      "(7400) : 650964.8699820867\n",
      "(7500) : 651946.4059165607\n",
      "(7600) : 652873.7751069437\n",
      "(7700) : 651951.0068424138\n",
      "(7800) : 649945.8229021265\n",
      "(7900) : 648293.3538204269\n",
      "(8000) : 653334.9261442265\n",
      "\n",
      "Evaluating model on test set ...\n"
     ]
    },
    {
     "name": "stderr",
     "output_type": "stream",
     "text": [
      "100%|██████████| 1052/1052 [00:09<00:00, 106.72it/s]\n"
     ]
    },
    {
     "name": "stdout",
     "output_type": "stream",
     "text": [
      "Average Test Loss: 653192.76253937\n",
      "\n",
      "(8100) : 652701.1491510572\n",
      "(8200) : 650123.9139664236\n",
      "(8300) : 654020.5179205582\n",
      "(8400) : 652554.4756914065\n",
      "Epoch 2\n",
      "(8500) : 634465.2372115465\n",
      "(8600) : 633218.5666995784\n",
      "(8700) : 633916.6247373009\n",
      "(8800) : 633367.9490559153\n",
      "(8900) : 633590.0040430936\n",
      "(9000) : 632921.4046043025\n",
      "\n",
      "Evaluating model on test set ...\n"
     ]
    },
    {
     "name": "stderr",
     "output_type": "stream",
     "text": [
      "100%|██████████| 1052/1052 [00:09<00:00, 106.24it/s]\n"
     ]
    },
    {
     "name": "stdout",
     "output_type": "stream",
     "text": [
      "Average Test Loss: 652930.534866798\n",
      "\n",
      "(9100) : 631576.9494634692\n",
      "(9200) : 633099.7273866789\n",
      "(9300) : 633499.3384993392\n",
      "(9400) : 634086.8646914572\n",
      "(9500) : 634945.520286681\n",
      "(9600) : 633585.0855606814\n",
      "(9700) : 634943.8126908942\n",
      "(9800) : 634110.8903685675\n",
      "(9900) : 631256.326273916\n",
      "(10000) : 632139.9647080946\n",
      "\n",
      "Evaluating model on test set ...\n"
     ]
    },
    {
     "name": "stderr",
     "output_type": "stream",
     "text": [
      "100%|██████████| 1052/1052 [00:09<00:00, 105.85it/s]\n"
     ]
    },
    {
     "name": "stdout",
     "output_type": "stream",
     "text": [
      "Average Test Loss: 652777.4461745513\n",
      "\n",
      "(10100) : 633147.8920273685\n",
      "(10200) : 632426.2774469139\n",
      "(10300) : 630911.2565004539\n",
      "(10400) : 632625.7756289834\n",
      "(10500) : 631661.5688648239\n",
      "(10600) : 631433.6198983673\n",
      "(10700) : 633452.0291190211\n",
      "(10800) : 634571.152013473\n",
      "(10900) : 633634.4413016585\n",
      "(11000) : 633805.264318123\n",
      "\n",
      "Evaluating model on test set ...\n"
     ]
    },
    {
     "name": "stderr",
     "output_type": "stream",
     "text": [
      "100%|██████████| 1052/1052 [00:09<00:00, 105.66it/s]\n"
     ]
    },
    {
     "name": "stdout",
     "output_type": "stream",
     "text": [
      "Average Test Loss: 652624.7453939772\n",
      "\n",
      "(11100) : 633148.9607841534\n",
      "(11200) : 630844.3768674688\n",
      "(11300) : 632592.0027354525\n",
      "(11400) : 631323.6650132593\n",
      "(11500) : 633317.4906716017\n",
      "(11600) : 631602.9280039403\n",
      "(11700) : 633196.0784481888\n",
      "(11800) : 632675.1230107892\n",
      "(11900) : 632597.1427594083\n",
      "(12000) : 632913.2801884967\n",
      "\n",
      "Evaluating model on test set ...\n"
     ]
    },
    {
     "name": "stderr",
     "output_type": "stream",
     "text": [
      "100%|██████████| 1052/1052 [00:09<00:00, 105.87it/s]\n"
     ]
    },
    {
     "name": "stdout",
     "output_type": "stream",
     "text": [
      "Average Test Loss: 652474.7769353737\n",
      "\n",
      "(12100) : 635305.3622660077\n",
      "(12200) : 636440.4325872554\n",
      "(12300) : 630923.0676652067\n",
      "(12400) : 633278.2151595153\n",
      "(12500) : 633322.6184708871\n",
      "(12600) : 633358.48402753\n",
      "(12700) : 630838.2463886432\n",
      "(12800) : 632178.4280686106\n",
      "(12900) : 631607.9334981819\n",
      "(13000) : 632851.6261524131\n",
      "\n",
      "Evaluating model on test set ...\n"
     ]
    },
    {
     "name": "stderr",
     "output_type": "stream",
     "text": [
      "100%|██████████| 1052/1052 [00:09<00:00, 105.72it/s]\n"
     ]
    },
    {
     "name": "stdout",
     "output_type": "stream",
     "text": [
      "Average Test Loss: 652110.0461389056\n",
      "\n",
      "(13100) : 635162.1012412953\n",
      "(13200) : 635264.8063277359\n",
      "(13300) : 633027.870646415\n",
      "(13400) : 632195.3514828363\n",
      "(13500) : 632743.1923925142\n",
      "(13600) : 631227.3159367021\n",
      "(13700) : 628764.7268590624\n",
      "(13800) : 634771.5568326795\n",
      "(13900) : 636329.2113861404\n",
      "(14000) : 629481.6352342826\n",
      "\n",
      "Evaluating model on test set ...\n"
     ]
    },
    {
     "name": "stderr",
     "output_type": "stream",
     "text": [
      "100%|██████████| 1052/1052 [00:09<00:00, 106.14it/s]\n"
     ]
    },
    {
     "name": "stdout",
     "output_type": "stream",
     "text": [
      "Average Test Loss: 651934.5891421415\n",
      "\n",
      "(14100) : 633142.4154319244\n",
      "(14200) : 634504.4471665344\n",
      "(14300) : 633540.549050934\n",
      "(14400) : 633201.2052644313\n",
      "(14500) : 631651.773926282\n",
      "(14600) : 635361.3717649934\n"
     ]
    },
    {
     "ename": "",
     "evalue": "",
     "output_type": "error",
     "traceback": [
      "\u001b[1;31mCanceled future for execute_request message before replies were done"
     ]
    },
    {
     "ename": "",
     "evalue": "",
     "output_type": "error",
     "traceback": [
      "\u001b[1;31mThe Kernel crashed while executing code in the the current cell or a previous cell. Please review the code in the cell(s) to identify a possible cause of the failure. Click <a href='https://aka.ms/vscodeJupyterKernelCrash'>here</a> for more info. View Jupyter <a href='command:jupyter.viewOutput'>log</a> for further details."
     ]
    }
   ],
   "source": [
    "\n",
    "# Globals\n",
    "device = torch.device(\"cuda:0\" if torch.cuda.is_available() else \"cpu\")\n",
    "loss = nn.NLLLoss()\n",
    "\n",
    "# Training Parameters\n",
    "print_every = 100\n",
    "test_every = 1000 # 2000\n",
    "adjust_every = 2500 # 500\n",
    "epsilon_0 = 1e-2\n",
    "r = 1e-8\n",
    "\n",
    "# Tensorboard-related\n",
    "# experiment_name = Path('act-{}_emb-{}_hidden-{}_sample-{}_batch-{}_optim-{}_lr-{}_adjust-every-{}'.format(\n",
    "#     'relu',\n",
    "#     emb_dim,\n",
    "#     hidden_dim,\n",
    "#     sample_length,\n",
    "#     batch_size,\n",
    "#     'sgd',\n",
    "#     epsilon_0,\n",
    "#     adjust_every\n",
    "# ))\n",
    "# experiment_path = Path('run') / experiment_name\n",
    "# writer = SummaryWriter(experiment_path)\n",
    "\n",
    "# Get the dataset\n",
    "\n",
    "# Create the model\n",
    "print(\"Initializing model ...\")\n",
    "lm = EmbeddingModel(\n",
    "    vocab_size=len(pois),\n",
    "    emb_dim=EMBEDDING_DIM,\n",
    "    hidden_dim=HIDDEN_DIM,\n",
    "    sample_length=SEQUENCE_LENGTH - 1\n",
    ")\n",
    "\n",
    "\n",
    "lm.to(device)\n",
    "optimizer = optim.SGD(lm.parameters(), lr=epsilon_0) # optim.Adam(lm.parameters(), amsgrad=True)\n",
    "\n",
    "losses = []\n",
    "\n",
    "# train_iter = iter(train_dataloader)\n",
    "\n",
    "print(\"Beginning training ...\")\n",
    "i = 0\n",
    "for epoch in range(EPOCHS):    \n",
    "    # Zero the parameter gradients\n",
    "    print(\"Epoch\", epoch + 1)\n",
    "    for xs, ys in train_dataloader:\n",
    "        optimizer.zero_grad()\n",
    "        \n",
    "        xs, ys = xs.to(device), ys.to(device)\n",
    "\n",
    "        # Get the averaged batch loss\n",
    "        output = loss(lm(xs), ys)\n",
    "\n",
    "        # Run the backward pass (calculate gradients)\n",
    "        output.backward()\n",
    "\n",
    "        # Update the model\n",
    "        optimizer.step()\n",
    "\n",
    "        # Save and print statistics\n",
    "        losses.append(output.item())\n",
    "\n",
    "        if i % print_every == (print_every - 1):\n",
    "            # Get average loss\n",
    "            avg_loss = sum(losses) / len(losses)\n",
    "            losses = []\n",
    "\n",
    "            # Compute perplexity\n",
    "            perp = math.exp(avg_loss)\n",
    "\n",
    "            # Print and log the train loss\n",
    "            print(\"({}) : {}\".format((i + 1), perp))\n",
    "            # writer.add_scalar('Training Loss', perp, i)\n",
    "\n",
    "        if i % test_every == (test_every - 1):\n",
    "            print(\"\\nEvaluating model on test set ...\")\n",
    "            \n",
    "            lm.eval()\n",
    "\n",
    "            with torch.no_grad():\n",
    "                test_iter = iter(test_dataloader)\n",
    "\n",
    "                test_losses = []            \n",
    "                for xs, ys in tqdm.tqdm(test_iter, total=len(test_iter)):\n",
    "                    xs, ys = xs.to(device), ys.to(device)\n",
    "                    output = loss(lm(xs), ys)\n",
    "                    test_losses.append(output.item())\n",
    "\n",
    "\n",
    "            avg_test_loss = sum(test_losses) / len(test_losses)\n",
    "            test_losses = []\n",
    "\n",
    "            # Compute perplexity\n",
    "            test_perp = math.exp(avg_test_loss)\n",
    "\n",
    "            # Print and log the test loss\n",
    "            print(\"Average Test Loss: {}\\n\".format(test_perp))\n",
    "            # writer.add_scalar('Test Loss', test_perp, i)\n",
    "                    \n",
    "            lm.train()\n",
    "\n",
    "        # Update the learning rate every iteration, just as in the paper\n",
    "        if i % adjust_every == (adjust_every - 1):\n",
    "            for g in optimizer.param_groups:\n",
    "                g['lr'] = epsilon_0 / (1 + r * (i / adjust_every))\n",
    "\n",
    "        i += 1"
   ]
  },
  {
   "cell_type": "code",
   "execution_count": null,
   "metadata": {},
   "outputs": [],
   "source": [
    "def accuracy(model, test_seqs, test_targets):\n",
    "    x = torch.tensor(test_seq)\n",
    "    y\n",
    "        \n",
    "    return corrects / len(test_seqs)"
   ]
  }
 ],
 "metadata": {
  "kernelspec": {
   "display_name": "venv",
   "language": "python",
   "name": "python3"
  },
  "language_info": {
   "codemirror_mode": {
    "name": "ipython",
    "version": 3
   },
   "file_extension": ".py",
   "mimetype": "text/x-python",
   "name": "python",
   "nbconvert_exporter": "python",
   "pygments_lexer": "ipython3",
   "version": "3.10.7"
  },
  "orig_nbformat": 4,
  "vscode": {
   "interpreter": {
    "hash": "5d0f3f363c2ee98fd619740d6785905f65271fae303a875a61ead58f40aa4677"
   }
  }
 },
 "nbformat": 4,
 "nbformat_minor": 2
}
