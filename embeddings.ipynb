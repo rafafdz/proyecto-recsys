{
 "cells": [
  {
   "cell_type": "markdown",
   "metadata": {},
   "source": [
    "#  Librerías"
   ]
  },
  {
   "cell_type": "markdown",
   "metadata": {},
   "source": [
    "### Librerías pesadas\n",
    "Para ejecutar solo una vez"
   ]
  },
  {
   "cell_type": "code",
   "execution_count": 101,
   "metadata": {},
   "outputs": [],
   "source": [
    "import math\n",
    "import torch\n",
    "import torch.optim as optim\n",
    "import torch.nn as nn\n",
    "import pandas as pd\n",
    "import numpy as np\n",
    "import tqdm"
   ]
  },
  {
   "cell_type": "markdown",
   "metadata": {},
   "source": [
    "### Librerías livianas\n",
    "Para ejecutar múltiples veces"
   ]
  },
  {
   "cell_type": "code",
   "execution_count": null,
   "metadata": {},
   "outputs": [],
   "source": []
  },
  {
   "cell_type": "markdown",
   "metadata": {},
   "source": [
    "# Configuración General\n",
    "\n",
    "Variables relacionadas al procesamiento de datos y del modelo en sí"
   ]
  },
  {
   "cell_type": "markdown",
   "metadata": {},
   "source": [
    "### Variables de Preprocesamiento"
   ]
  },
  {
   "cell_type": "code",
   "execution_count": 2,
   "metadata": {},
   "outputs": [],
   "source": [
    "\n",
    "# Porcentaje para usar solo una fracción del dataset de usuario.\n",
    "# si al eliminar usuarios quedan viajes o POI sin visitas, estos también\n",
    "# serán eliminados\n",
    "USER_FRAC = 0.3\n",
    "MIN_POI_VISITS = 5\n",
    "MAX_SEQUENCES_PER_USER = 200\n",
    "SEQUENCE_LENGTH = 14"
   ]
  },
  {
   "cell_type": "code",
   "execution_count": 93,
   "metadata": {},
   "outputs": [],
   "source": [
    "BATCH_SIZE=64"
   ]
  },
  {
   "cell_type": "code",
   "execution_count": 94,
   "metadata": {},
   "outputs": [],
   "source": [
    "EMBEDDING_DIM = 60\n",
    "HIDDEN_DIM = 50"
   ]
  },
  {
   "cell_type": "markdown",
   "metadata": {},
   "source": [
    "# Gowalla Dataset"
   ]
  },
  {
   "cell_type": "code",
   "execution_count": 4,
   "metadata": {},
   "outputs": [
    {
     "name": "stdout",
     "output_type": "stream",
     "text": [
      "Already Downloaded\n"
     ]
    }
   ],
   "source": [
    "! ./download-gowalla.sh"
   ]
  },
  {
   "cell_type": "markdown",
   "metadata": {},
   "source": [
    "### Cargar Datos"
   ]
  },
  {
   "cell_type": "code",
   "execution_count": 5,
   "metadata": {},
   "outputs": [],
   "source": [
    "users    = pd.read_csv('download/gowalla/gowalla_userinfo.csv')\n",
    "friends  = pd.read_csv('download/gowalla/gowalla_friendship.csv')\n",
    "checkins = pd.read_csv('download/gowalla/gowalla_checkins.csv')\n",
    "pois_1   = pd.read_csv('download/gowalla/gowalla_spots_subset1.csv', encoding='iso-8859-1')\n",
    "pois_2   = pd.read_csv('download/gowalla/gowalla_spots_subset2.csv', encoding='iso-8859-1')\n",
    "pois     = pd.concat((pois_1, pois_2), ignore_index=True)\n"
   ]
  },
  {
   "cell_type": "markdown",
   "metadata": {},
   "source": [
    "# Preprocesamiento"
   ]
  },
  {
   "cell_type": "markdown",
   "metadata": {},
   "source": [
    "### Usuarios"
   ]
  },
  {
   "cell_type": "markdown",
   "metadata": {},
   "source": [
    "Revisamos la distrubución de checkins de usuarios"
   ]
  },
  {
   "cell_type": "code",
   "execution_count": 6,
   "metadata": {},
   "outputs": [
    {
     "data": {
      "text/html": [
       "<div>\n",
       "<style scoped>\n",
       "    .dataframe tbody tr th:only-of-type {\n",
       "        vertical-align: middle;\n",
       "    }\n",
       "\n",
       "    .dataframe tbody tr th {\n",
       "        vertical-align: top;\n",
       "    }\n",
       "\n",
       "    .dataframe thead th {\n",
       "        text-align: right;\n",
       "    }\n",
       "</style>\n",
       "<table border=\"1\" class=\"dataframe\">\n",
       "  <thead>\n",
       "    <tr style=\"text-align: right;\">\n",
       "      <th></th>\n",
       "      <th>id</th>\n",
       "      <th>bookmarked_spots_count</th>\n",
       "      <th>challenge_pin_count</th>\n",
       "      <th>country_pin_count</th>\n",
       "      <th>highlights_count</th>\n",
       "      <th>items_count</th>\n",
       "      <th>photos_count</th>\n",
       "      <th>pins_count</th>\n",
       "      <th>province_pin_count</th>\n",
       "      <th>region_pin_count</th>\n",
       "      <th>state_pin_count</th>\n",
       "      <th>trips_count</th>\n",
       "      <th>friends_count</th>\n",
       "      <th>stamps_count</th>\n",
       "      <th>checkin_num</th>\n",
       "      <th>places_num</th>\n",
       "    </tr>\n",
       "  </thead>\n",
       "  <tbody>\n",
       "    <tr>\n",
       "      <th>362514</th>\n",
       "      <td>2492511</td>\n",
       "      <td>0</td>\n",
       "      <td>2</td>\n",
       "      <td>1</td>\n",
       "      <td>0</td>\n",
       "      <td>0</td>\n",
       "      <td>0</td>\n",
       "      <td>3</td>\n",
       "      <td>0</td>\n",
       "      <td>1</td>\n",
       "      <td>0</td>\n",
       "      <td>0</td>\n",
       "      <td>1</td>\n",
       "      <td>2</td>\n",
       "      <td>2</td>\n",
       "      <td>2</td>\n",
       "    </tr>\n",
       "    <tr>\n",
       "      <th>230751</th>\n",
       "      <td>2090506</td>\n",
       "      <td>0</td>\n",
       "      <td>21</td>\n",
       "      <td>1</td>\n",
       "      <td>3</td>\n",
       "      <td>29</td>\n",
       "      <td>11</td>\n",
       "      <td>23</td>\n",
       "      <td>0</td>\n",
       "      <td>2</td>\n",
       "      <td>1</td>\n",
       "      <td>1</td>\n",
       "      <td>18</td>\n",
       "      <td>83</td>\n",
       "      <td>200</td>\n",
       "      <td>86</td>\n",
       "    </tr>\n",
       "    <tr>\n",
       "      <th>365629</th>\n",
       "      <td>2512718</td>\n",
       "      <td>0</td>\n",
       "      <td>1</td>\n",
       "      <td>0</td>\n",
       "      <td>0</td>\n",
       "      <td>0</td>\n",
       "      <td>0</td>\n",
       "      <td>1</td>\n",
       "      <td>0</td>\n",
       "      <td>0</td>\n",
       "      <td>0</td>\n",
       "      <td>0</td>\n",
       "      <td>1</td>\n",
       "      <td>0</td>\n",
       "      <td>0</td>\n",
       "      <td>0</td>\n",
       "    </tr>\n",
       "    <tr>\n",
       "      <th>6672</th>\n",
       "      <td>12116</td>\n",
       "      <td>0</td>\n",
       "      <td>22</td>\n",
       "      <td>1</td>\n",
       "      <td>0</td>\n",
       "      <td>2</td>\n",
       "      <td>81</td>\n",
       "      <td>29</td>\n",
       "      <td>0</td>\n",
       "      <td>7</td>\n",
       "      <td>6</td>\n",
       "      <td>0</td>\n",
       "      <td>14</td>\n",
       "      <td>167</td>\n",
       "      <td>332</td>\n",
       "      <td>168</td>\n",
       "    </tr>\n",
       "    <tr>\n",
       "      <th>12685</th>\n",
       "      <td>21897</td>\n",
       "      <td>0</td>\n",
       "      <td>11</td>\n",
       "      <td>1</td>\n",
       "      <td>0</td>\n",
       "      <td>10</td>\n",
       "      <td>7</td>\n",
       "      <td>15</td>\n",
       "      <td>0</td>\n",
       "      <td>4</td>\n",
       "      <td>3</td>\n",
       "      <td>0</td>\n",
       "      <td>5</td>\n",
       "      <td>195</td>\n",
       "      <td>431</td>\n",
       "      <td>195</td>\n",
       "    </tr>\n",
       "  </tbody>\n",
       "</table>\n",
       "</div>"
      ],
      "text/plain": [
       "             id  bookmarked_spots_count  challenge_pin_count  \\\n",
       "362514  2492511                       0                    2   \n",
       "230751  2090506                       0                   21   \n",
       "365629  2512718                       0                    1   \n",
       "6672      12116                       0                   22   \n",
       "12685     21897                       0                   11   \n",
       "\n",
       "        country_pin_count  highlights_count  items_count  photos_count  \\\n",
       "362514                  1                 0            0             0   \n",
       "230751                  1                 3           29            11   \n",
       "365629                  0                 0            0             0   \n",
       "6672                    1                 0            2            81   \n",
       "12685                   1                 0           10             7   \n",
       "\n",
       "        pins_count  province_pin_count  region_pin_count  state_pin_count  \\\n",
       "362514           3                   0                 1                0   \n",
       "230751          23                   0                 2                1   \n",
       "365629           1                   0                 0                0   \n",
       "6672            29                   0                 7                6   \n",
       "12685           15                   0                 4                3   \n",
       "\n",
       "        trips_count  friends_count  stamps_count  checkin_num  places_num  \n",
       "362514            0              1             2            2           2  \n",
       "230751            1             18            83          200          86  \n",
       "365629            0              1             0            0           0  \n",
       "6672              0             14           167          332         168  \n",
       "12685             0              5           195          431         195  "
      ]
     },
     "execution_count": 6,
     "metadata": {},
     "output_type": "execute_result"
    }
   ],
   "source": [
    "users.sample(5)"
   ]
  },
  {
   "cell_type": "code",
   "execution_count": 7,
   "metadata": {},
   "outputs": [
    {
     "data": {
      "text/plain": [
       "count    407533.000000\n",
       "mean         88.341212\n",
       "std         435.982581\n",
       "min           0.000000\n",
       "25%           1.000000\n",
       "50%          10.000000\n",
       "75%          52.000000\n",
       "max       46981.000000\n",
       "Name: checkin_num, dtype: float64"
      ]
     },
     "execution_count": 7,
     "metadata": {},
     "output_type": "execute_result"
    }
   ],
   "source": [
    "users.checkin_num.describe()"
   ]
  },
  {
   "cell_type": "markdown",
   "metadata": {},
   "source": [
    "nos quedamos con un porcentaje de los usuarios y los filtramos los usuarios segun los checkins que tengan"
   ]
  },
  {
   "cell_type": "code",
   "execution_count": 8,
   "metadata": {},
   "outputs": [
    {
     "name": "stdout",
     "output_type": "stream",
     "text": [
      "Current users 407533\n",
      "Reduced users 55357\n"
     ]
    }
   ],
   "source": [
    "print('Current users', len(users))\n",
    "users = users.sample(frac=USER_FRAC)\n",
    "users = users[users.checkin_num >= SEQUENCE_LENGTH]\n",
    "users = users[['id']]\n",
    "print('Reduced users', len(users))"
   ]
  },
  {
   "cell_type": "code",
   "execution_count": 9,
   "metadata": {},
   "outputs": [
    {
     "data": {
      "text/html": [
       "<div>\n",
       "<style scoped>\n",
       "    .dataframe tbody tr th:only-of-type {\n",
       "        vertical-align: middle;\n",
       "    }\n",
       "\n",
       "    .dataframe tbody tr th {\n",
       "        vertical-align: top;\n",
       "    }\n",
       "\n",
       "    .dataframe thead th {\n",
       "        text-align: right;\n",
       "    }\n",
       "</style>\n",
       "<table border=\"1\" class=\"dataframe\">\n",
       "  <thead>\n",
       "    <tr style=\"text-align: right;\">\n",
       "      <th></th>\n",
       "      <th>userid</th>\n",
       "      <th>placeid</th>\n",
       "      <th>datetime</th>\n",
       "    </tr>\n",
       "  </thead>\n",
       "  <tbody>\n",
       "    <tr>\n",
       "      <th>4223526</th>\n",
       "      <td>69996</td>\n",
       "      <td>269432</td>\n",
       "      <td>2011-06-01T19:10:19Z</td>\n",
       "    </tr>\n",
       "    <tr>\n",
       "      <th>4223527</th>\n",
       "      <td>69996</td>\n",
       "      <td>61280</td>\n",
       "      <td>2011-05-31T20:35:45Z</td>\n",
       "    </tr>\n",
       "    <tr>\n",
       "      <th>4223528</th>\n",
       "      <td>69996</td>\n",
       "      <td>49812</td>\n",
       "      <td>2011-05-30T23:29:12Z</td>\n",
       "    </tr>\n",
       "    <tr>\n",
       "      <th>4223529</th>\n",
       "      <td>69996</td>\n",
       "      <td>205779</td>\n",
       "      <td>2011-05-30T23:28:53Z</td>\n",
       "    </tr>\n",
       "    <tr>\n",
       "      <th>4223530</th>\n",
       "      <td>69996</td>\n",
       "      <td>6511613</td>\n",
       "      <td>2011-05-30T23:28:25Z</td>\n",
       "    </tr>\n",
       "    <tr>\n",
       "      <th>...</th>\n",
       "      <td>...</td>\n",
       "      <td>...</td>\n",
       "      <td>...</td>\n",
       "    </tr>\n",
       "    <tr>\n",
       "      <th>4224301</th>\n",
       "      <td>69996</td>\n",
       "      <td>282847</td>\n",
       "      <td>2009-12-28T12:48:22Z</td>\n",
       "    </tr>\n",
       "    <tr>\n",
       "      <th>4224302</th>\n",
       "      <td>69996</td>\n",
       "      <td>117306</td>\n",
       "      <td>2009-12-28T12:45:56Z</td>\n",
       "    </tr>\n",
       "    <tr>\n",
       "      <th>4224303</th>\n",
       "      <td>69996</td>\n",
       "      <td>150947</td>\n",
       "      <td>2009-12-27T22:37:39Z</td>\n",
       "    </tr>\n",
       "    <tr>\n",
       "      <th>4224304</th>\n",
       "      <td>69996</td>\n",
       "      <td>261322</td>\n",
       "      <td>2009-12-27T22:27:05Z</td>\n",
       "    </tr>\n",
       "    <tr>\n",
       "      <th>4224305</th>\n",
       "      <td>69996</td>\n",
       "      <td>168761</td>\n",
       "      <td>2009-12-27T22:17:31Z</td>\n",
       "    </tr>\n",
       "  </tbody>\n",
       "</table>\n",
       "<p>780 rows × 3 columns</p>\n",
       "</div>"
      ],
      "text/plain": [
       "         userid  placeid              datetime\n",
       "4223526   69996   269432  2011-06-01T19:10:19Z\n",
       "4223527   69996    61280  2011-05-31T20:35:45Z\n",
       "4223528   69996    49812  2011-05-30T23:29:12Z\n",
       "4223529   69996   205779  2011-05-30T23:28:53Z\n",
       "4223530   69996  6511613  2011-05-30T23:28:25Z\n",
       "...         ...      ...                   ...\n",
       "4224301   69996   282847  2009-12-28T12:48:22Z\n",
       "4224302   69996   117306  2009-12-28T12:45:56Z\n",
       "4224303   69996   150947  2009-12-27T22:37:39Z\n",
       "4224304   69996   261322  2009-12-27T22:27:05Z\n",
       "4224305   69996   168761  2009-12-27T22:17:31Z\n",
       "\n",
       "[780 rows x 3 columns]"
      ]
     },
     "execution_count": 9,
     "metadata": {},
     "output_type": "execute_result"
    }
   ],
   "source": [
    "checkins[checkins.userid ==  69996]"
   ]
  },
  {
   "cell_type": "markdown",
   "metadata": {},
   "source": [
    "### Amigos"
   ]
  },
  {
   "cell_type": "code",
   "execution_count": 10,
   "metadata": {},
   "outputs": [
    {
     "data": {
      "text/html": [
       "<div>\n",
       "<style scoped>\n",
       "    .dataframe tbody tr th:only-of-type {\n",
       "        vertical-align: middle;\n",
       "    }\n",
       "\n",
       "    .dataframe tbody tr th {\n",
       "        vertical-align: top;\n",
       "    }\n",
       "\n",
       "    .dataframe thead th {\n",
       "        text-align: right;\n",
       "    }\n",
       "</style>\n",
       "<table border=\"1\" class=\"dataframe\">\n",
       "  <thead>\n",
       "    <tr style=\"text-align: right;\">\n",
       "      <th></th>\n",
       "      <th>userid1</th>\n",
       "      <th>userid2</th>\n",
       "    </tr>\n",
       "  </thead>\n",
       "  <tbody>\n",
       "    <tr>\n",
       "      <th>2113874</th>\n",
       "      <td>206015</td>\n",
       "      <td>159634</td>\n",
       "    </tr>\n",
       "    <tr>\n",
       "      <th>3783422</th>\n",
       "      <td>1128761</td>\n",
       "      <td>2526875</td>\n",
       "    </tr>\n",
       "    <tr>\n",
       "      <th>3076186</th>\n",
       "      <td>375966</td>\n",
       "      <td>2187455</td>\n",
       "    </tr>\n",
       "    <tr>\n",
       "      <th>1701141</th>\n",
       "      <td>146453</td>\n",
       "      <td>218318</td>\n",
       "    </tr>\n",
       "    <tr>\n",
       "      <th>1232589</th>\n",
       "      <td>2193003</td>\n",
       "      <td>48099</td>\n",
       "    </tr>\n",
       "  </tbody>\n",
       "</table>\n",
       "</div>"
      ],
      "text/plain": [
       "         userid1  userid2\n",
       "2113874   206015   159634\n",
       "3783422  1128761  2526875\n",
       "3076186   375966  2187455\n",
       "1701141   146453   218318\n",
       "1232589  2193003    48099"
      ]
     },
     "execution_count": 10,
     "metadata": {},
     "output_type": "execute_result"
    }
   ],
   "source": [
    "friends.sample(5)"
   ]
  },
  {
   "cell_type": "markdown",
   "metadata": {},
   "source": [
    "### Checkins"
   ]
  },
  {
   "cell_type": "code",
   "execution_count": 11,
   "metadata": {},
   "outputs": [
    {
     "data": {
      "text/html": [
       "<div>\n",
       "<style scoped>\n",
       "    .dataframe tbody tr th:only-of-type {\n",
       "        vertical-align: middle;\n",
       "    }\n",
       "\n",
       "    .dataframe tbody tr th {\n",
       "        vertical-align: top;\n",
       "    }\n",
       "\n",
       "    .dataframe thead th {\n",
       "        text-align: right;\n",
       "    }\n",
       "</style>\n",
       "<table border=\"1\" class=\"dataframe\">\n",
       "  <thead>\n",
       "    <tr style=\"text-align: right;\">\n",
       "      <th></th>\n",
       "      <th>userid</th>\n",
       "      <th>placeid</th>\n",
       "      <th>datetime</th>\n",
       "    </tr>\n",
       "  </thead>\n",
       "  <tbody>\n",
       "    <tr>\n",
       "      <th>8242903</th>\n",
       "      <td>721</td>\n",
       "      <td>21625</td>\n",
       "      <td>2010-05-19T12:30:02Z</td>\n",
       "    </tr>\n",
       "    <tr>\n",
       "      <th>7704276</th>\n",
       "      <td>712669</td>\n",
       "      <td>862120</td>\n",
       "      <td>2011-03-18T17:31:46Z</td>\n",
       "    </tr>\n",
       "    <tr>\n",
       "      <th>13703935</th>\n",
       "      <td>76757</td>\n",
       "      <td>853557</td>\n",
       "      <td>2010-07-16T19:02:01Z</td>\n",
       "    </tr>\n",
       "    <tr>\n",
       "      <th>34175734</th>\n",
       "      <td>1326365</td>\n",
       "      <td>58725</td>\n",
       "      <td>2010-10-14T18:06:24Z</td>\n",
       "    </tr>\n",
       "    <tr>\n",
       "      <th>112316</th>\n",
       "      <td>9298</td>\n",
       "      <td>3417558</td>\n",
       "      <td>2010-09-19T01:04:34Z</td>\n",
       "    </tr>\n",
       "  </tbody>\n",
       "</table>\n",
       "</div>"
      ],
      "text/plain": [
       "           userid  placeid              datetime\n",
       "8242903       721    21625  2010-05-19T12:30:02Z\n",
       "7704276    712669   862120  2011-03-18T17:31:46Z\n",
       "13703935    76757   853557  2010-07-16T19:02:01Z\n",
       "34175734  1326365    58725  2010-10-14T18:06:24Z\n",
       "112316       9298  3417558  2010-09-19T01:04:34Z"
      ]
     },
     "execution_count": 11,
     "metadata": {},
     "output_type": "execute_result"
    }
   ],
   "source": [
    "checkins.sample(5)"
   ]
  },
  {
   "cell_type": "markdown",
   "metadata": {},
   "source": [
    "Eliminamos los checkins de los usuarios no sampleados"
   ]
  },
  {
   "cell_type": "code",
   "execution_count": 12,
   "metadata": {},
   "outputs": [
    {
     "name": "stdout",
     "output_type": "stream",
     "text": [
      "Current checkins 36001959\n",
      "Reduced checkins 10603590\n"
     ]
    }
   ],
   "source": [
    "print('Current checkins', len(checkins))\n",
    "checkins = pd.merge(checkins, users, how='inner', left_on='userid', right_on='id', copy=False)[checkins.columns]\n",
    "checkins = checkins.reset_index(drop=True)\n",
    "print('Reduced checkins', len(checkins))"
   ]
  },
  {
   "cell_type": "markdown",
   "metadata": {},
   "source": [
    "### POIS"
   ]
  },
  {
   "cell_type": "code",
   "execution_count": 13,
   "metadata": {},
   "outputs": [
    {
     "data": {
      "text/html": [
       "<div>\n",
       "<style scoped>\n",
       "    .dataframe tbody tr th:only-of-type {\n",
       "        vertical-align: middle;\n",
       "    }\n",
       "\n",
       "    .dataframe tbody tr th {\n",
       "        vertical-align: top;\n",
       "    }\n",
       "\n",
       "    .dataframe thead th {\n",
       "        text-align: right;\n",
       "    }\n",
       "</style>\n",
       "<table border=\"1\" class=\"dataframe\">\n",
       "  <thead>\n",
       "    <tr style=\"text-align: right;\">\n",
       "      <th></th>\n",
       "      <th>id</th>\n",
       "      <th>created_at</th>\n",
       "      <th>lng</th>\n",
       "      <th>lat</th>\n",
       "      <th>photos_count</th>\n",
       "      <th>checkins_count</th>\n",
       "      <th>users_count</th>\n",
       "      <th>radius_meters</th>\n",
       "      <th>highlights_count</th>\n",
       "      <th>items_count</th>\n",
       "      <th>max_items_count</th>\n",
       "      <th>spot_categories</th>\n",
       "      <th>name</th>\n",
       "      <th>city_state</th>\n",
       "      <th>Unnamed: 5</th>\n",
       "      <th>Unnamed: 6</th>\n",
       "    </tr>\n",
       "  </thead>\n",
       "  <tbody>\n",
       "    <tr>\n",
       "      <th>1654161</th>\n",
       "      <td>4835948</td>\n",
       "      <td>2010-10-02T21:01:03Z</td>\n",
       "      <td>13.018865</td>\n",
       "      <td>55.718491</td>\n",
       "      <td>1.0</td>\n",
       "      <td>2.0</td>\n",
       "      <td>1.0</td>\n",
       "      <td>75.0</td>\n",
       "      <td>0.0</td>\n",
       "      <td>0.0</td>\n",
       "      <td>10.0</td>\n",
       "      <td>[{'url': '/categories/56', 'name': 'Other - Ni...</td>\n",
       "      <td>NaN</td>\n",
       "      <td>NaN</td>\n",
       "      <td>NaN</td>\n",
       "      <td>NaN</td>\n",
       "    </tr>\n",
       "    <tr>\n",
       "      <th>1712873</th>\n",
       "      <td>5541758</td>\n",
       "      <td>2010-10-15T20:35:43Z</td>\n",
       "      <td>-97.327077</td>\n",
       "      <td>32.754597</td>\n",
       "      <td>1.0</td>\n",
       "      <td>14.0</td>\n",
       "      <td>13.0</td>\n",
       "      <td>75.0</td>\n",
       "      <td>0.0</td>\n",
       "      <td>1.0</td>\n",
       "      <td>10.0</td>\n",
       "      <td>[{'url': '/categories/59', 'name': 'Other - Ar...</td>\n",
       "      <td>NaN</td>\n",
       "      <td>NaN</td>\n",
       "      <td>NaN</td>\n",
       "      <td>NaN</td>\n",
       "    </tr>\n",
       "    <tr>\n",
       "      <th>614457</th>\n",
       "      <td>691214</td>\n",
       "      <td>2010-03-12T12:19:58Z</td>\n",
       "      <td>103.780616</td>\n",
       "      <td>1.283401</td>\n",
       "      <td>3.0</td>\n",
       "      <td>12.0</td>\n",
       "      <td>10.0</td>\n",
       "      <td>75.0</td>\n",
       "      <td>1.0</td>\n",
       "      <td>0.0</td>\n",
       "      <td>10.0</td>\n",
       "      <td>[{'url': '/categories/17', 'name': 'BBQ'}]</td>\n",
       "      <td>NaN</td>\n",
       "      <td>NaN</td>\n",
       "      <td>NaN</td>\n",
       "      <td>NaN</td>\n",
       "    </tr>\n",
       "    <tr>\n",
       "      <th>417472</th>\n",
       "      <td>466110</td>\n",
       "      <td>2010-01-28T15:40:09Z</td>\n",
       "      <td>-77.030687</td>\n",
       "      <td>38.893391</td>\n",
       "      <td>0.0</td>\n",
       "      <td>33.0</td>\n",
       "      <td>29.0</td>\n",
       "      <td>75.0</td>\n",
       "      <td>0.0</td>\n",
       "      <td>2.0</td>\n",
       "      <td>10.0</td>\n",
       "      <td>[{'url': '/categories/49', 'name': 'Luxury Hot...</td>\n",
       "      <td>NaN</td>\n",
       "      <td>NaN</td>\n",
       "      <td>NaN</td>\n",
       "      <td>NaN</td>\n",
       "    </tr>\n",
       "    <tr>\n",
       "      <th>1746108</th>\n",
       "      <td>5970648</td>\n",
       "      <td>2010-10-23T00:52:57Z</td>\n",
       "      <td>-77.005845</td>\n",
       "      <td>40.212998</td>\n",
       "      <td>0.0</td>\n",
       "      <td>11.0</td>\n",
       "      <td>8.0</td>\n",
       "      <td>100.0</td>\n",
       "      <td>0.0</td>\n",
       "      <td>3.0</td>\n",
       "      <td>10.0</td>\n",
       "      <td>[{'url': '/categories/153', 'name': 'Other - C...</td>\n",
       "      <td>NaN</td>\n",
       "      <td>NaN</td>\n",
       "      <td>NaN</td>\n",
       "      <td>NaN</td>\n",
       "    </tr>\n",
       "  </tbody>\n",
       "</table>\n",
       "</div>"
      ],
      "text/plain": [
       "              id            created_at         lng        lat  photos_count  \\\n",
       "1654161  4835948  2010-10-02T21:01:03Z   13.018865  55.718491           1.0   \n",
       "1712873  5541758  2010-10-15T20:35:43Z  -97.327077  32.754597           1.0   \n",
       "614457    691214  2010-03-12T12:19:58Z  103.780616   1.283401           3.0   \n",
       "417472    466110  2010-01-28T15:40:09Z  -77.030687  38.893391           0.0   \n",
       "1746108  5970648  2010-10-23T00:52:57Z  -77.005845  40.212998           0.0   \n",
       "\n",
       "         checkins_count  users_count  radius_meters  highlights_count  \\\n",
       "1654161             2.0          1.0           75.0               0.0   \n",
       "1712873            14.0         13.0           75.0               0.0   \n",
       "614457             12.0         10.0           75.0               1.0   \n",
       "417472             33.0         29.0           75.0               0.0   \n",
       "1746108            11.0          8.0          100.0               0.0   \n",
       "\n",
       "         items_count  max_items_count  \\\n",
       "1654161          0.0             10.0   \n",
       "1712873          1.0             10.0   \n",
       "614457           0.0             10.0   \n",
       "417472           2.0             10.0   \n",
       "1746108          3.0             10.0   \n",
       "\n",
       "                                           spot_categories name city_state  \\\n",
       "1654161  [{'url': '/categories/56', 'name': 'Other - Ni...  NaN        NaN   \n",
       "1712873  [{'url': '/categories/59', 'name': 'Other - Ar...  NaN        NaN   \n",
       "614457          [{'url': '/categories/17', 'name': 'BBQ'}]  NaN        NaN   \n",
       "417472   [{'url': '/categories/49', 'name': 'Luxury Hot...  NaN        NaN   \n",
       "1746108  [{'url': '/categories/153', 'name': 'Other - C...  NaN        NaN   \n",
       "\n",
       "        Unnamed: 5 Unnamed: 6  \n",
       "1654161        NaN        NaN  \n",
       "1712873        NaN        NaN  \n",
       "614457         NaN        NaN  \n",
       "417472         NaN        NaN  \n",
       "1746108        NaN        NaN  "
      ]
     },
     "execution_count": 13,
     "metadata": {},
     "output_type": "execute_result"
    }
   ],
   "source": [
    "pois.sample(5)"
   ]
  },
  {
   "cell_type": "markdown",
   "metadata": {},
   "source": [
    "Filtramos los pois si han sido visitadas pocas veces según los parámetros que definimos"
   ]
  },
  {
   "cell_type": "code",
   "execution_count": 14,
   "metadata": {},
   "outputs": [],
   "source": [
    "visited_pois = pd.merge(pois, checkins, left_on='id', right_on='placeid', how='inner', copy=False)"
   ]
  },
  {
   "cell_type": "code",
   "execution_count": 15,
   "metadata": {},
   "outputs": [],
   "source": [
    "visited_pois['visited_count'] = np.zeros(len(visited_pois))\n",
    "\n",
    "visited_pois = visited_pois[['id', 'visited_count']].groupby(by='id').count()\n",
    "visited_pois = visited_pois[visited_pois.visited_count >= MIN_POI_VISITS]\n",
    "\n",
    "pois = pd.merge(pois, visited_pois, on='id', how='inner', copy=False)"
   ]
  },
  {
   "cell_type": "markdown",
   "metadata": {},
   "source": [
    "Nos quedamos con sólo las columnas que nos importan"
   ]
  },
  {
   "cell_type": "code",
   "execution_count": 16,
   "metadata": {},
   "outputs": [
    {
     "data": {
      "text/html": [
       "<div>\n",
       "<style scoped>\n",
       "    .dataframe tbody tr th:only-of-type {\n",
       "        vertical-align: middle;\n",
       "    }\n",
       "\n",
       "    .dataframe tbody tr th {\n",
       "        vertical-align: top;\n",
       "    }\n",
       "\n",
       "    .dataframe thead th {\n",
       "        text-align: right;\n",
       "    }\n",
       "</style>\n",
       "<table border=\"1\" class=\"dataframe\">\n",
       "  <thead>\n",
       "    <tr style=\"text-align: right;\">\n",
       "      <th></th>\n",
       "      <th>id</th>\n",
       "      <th>lat</th>\n",
       "      <th>lng</th>\n",
       "      <th>visited_count</th>\n",
       "    </tr>\n",
       "  </thead>\n",
       "  <tbody>\n",
       "    <tr>\n",
       "      <th>0</th>\n",
       "      <td>8932</td>\n",
       "      <td>32.927662</td>\n",
       "      <td>-97.254356</td>\n",
       "      <td>20</td>\n",
       "    </tr>\n",
       "    <tr>\n",
       "      <th>1</th>\n",
       "      <td>8936</td>\n",
       "      <td>39.053318</td>\n",
       "      <td>-94.591995</td>\n",
       "      <td>14</td>\n",
       "    </tr>\n",
       "    <tr>\n",
       "      <th>2</th>\n",
       "      <td>8938</td>\n",
       "      <td>39.052824</td>\n",
       "      <td>-94.590311</td>\n",
       "      <td>53</td>\n",
       "    </tr>\n",
       "    <tr>\n",
       "      <th>3</th>\n",
       "      <td>8947</td>\n",
       "      <td>37.331880</td>\n",
       "      <td>-122.029631</td>\n",
       "      <td>951</td>\n",
       "    </tr>\n",
       "    <tr>\n",
       "      <th>4</th>\n",
       "      <td>8954</td>\n",
       "      <td>32.939436</td>\n",
       "      <td>-97.106009</td>\n",
       "      <td>34</td>\n",
       "    </tr>\n",
       "    <tr>\n",
       "      <th>...</th>\n",
       "      <td>...</td>\n",
       "      <td>...</td>\n",
       "      <td>...</td>\n",
       "      <td>...</td>\n",
       "    </tr>\n",
       "    <tr>\n",
       "      <th>480724</th>\n",
       "      <td>7517751</td>\n",
       "      <td>41.161991</td>\n",
       "      <td>-104.761128</td>\n",
       "      <td>8</td>\n",
       "    </tr>\n",
       "    <tr>\n",
       "      <th>480725</th>\n",
       "      <td>7523299</td>\n",
       "      <td>51.484481</td>\n",
       "      <td>-0.312275</td>\n",
       "      <td>5</td>\n",
       "    </tr>\n",
       "    <tr>\n",
       "      <th>480726</th>\n",
       "      <td>7523748</td>\n",
       "      <td>27.517234</td>\n",
       "      <td>-82.727902</td>\n",
       "      <td>7</td>\n",
       "    </tr>\n",
       "    <tr>\n",
       "      <th>480727</th>\n",
       "      <td>7526534</td>\n",
       "      <td>37.458915</td>\n",
       "      <td>-90.933160</td>\n",
       "      <td>9</td>\n",
       "    </tr>\n",
       "    <tr>\n",
       "      <th>480728</th>\n",
       "      <td>7527671</td>\n",
       "      <td>27.390431</td>\n",
       "      <td>-82.511700</td>\n",
       "      <td>5</td>\n",
       "    </tr>\n",
       "  </tbody>\n",
       "</table>\n",
       "<p>480729 rows × 4 columns</p>\n",
       "</div>"
      ],
      "text/plain": [
       "             id        lat         lng  visited_count\n",
       "0          8932  32.927662  -97.254356             20\n",
       "1          8936  39.053318  -94.591995             14\n",
       "2          8938  39.052824  -94.590311             53\n",
       "3          8947  37.331880 -122.029631            951\n",
       "4          8954  32.939436  -97.106009             34\n",
       "...         ...        ...         ...            ...\n",
       "480724  7517751  41.161991 -104.761128              8\n",
       "480725  7523299  51.484481   -0.312275              5\n",
       "480726  7523748  27.517234  -82.727902              7\n",
       "480727  7526534  37.458915  -90.933160              9\n",
       "480728  7527671  27.390431  -82.511700              5\n",
       "\n",
       "[480729 rows x 4 columns]"
      ]
     },
     "execution_count": 16,
     "metadata": {},
     "output_type": "execute_result"
    }
   ],
   "source": [
    "pois = pois[['id', 'lat', 'lng', 'visited_count']]\n",
    "pois "
   ]
  },
  {
   "cell_type": "markdown",
   "metadata": {},
   "source": [
    "Ahora eliminamos los checkins de pois que ya no existen"
   ]
  },
  {
   "cell_type": "code",
   "execution_count": 17,
   "metadata": {},
   "outputs": [
    {
     "name": "stdout",
     "output_type": "stream",
     "text": [
      "Current checkins 10603590\n",
      "Reduced checkins 8282199\n"
     ]
    }
   ],
   "source": [
    "print('Current checkins', len(checkins))\n",
    "checkins = pd.merge(pois, checkins, left_on='id', right_on='placeid', how='inner', copy=False)[checkins.columns]\n",
    "checkins = checkins.reset_index(drop=True)\n",
    "print('Reduced checkins', len(checkins))"
   ]
  },
  {
   "cell_type": "markdown",
   "metadata": {},
   "source": [
    "Finalmente eliminamos nuevamente a los usuarios que se quedaron sin suficientes checkins"
   ]
  },
  {
   "cell_type": "code",
   "execution_count": 18,
   "metadata": {},
   "outputs": [
    {
     "name": "stdout",
     "output_type": "stream",
     "text": [
      "Current users 55357\n",
      "Reduced users 55264\n"
     ]
    }
   ],
   "source": [
    "print('Current users', len(users))\n",
    "users = pd.merge(checkins, users, how='inner', left_on='userid', right_on='id', copy=False)[users.columns].drop_duplicates()\n",
    "print('Reduced users', len(users))"
   ]
  },
  {
   "cell_type": "markdown",
   "metadata": {},
   "source": [
    "### Reasignación de IDs"
   ]
  },
  {
   "cell_type": "code",
   "execution_count": 19,
   "metadata": {},
   "outputs": [],
   "source": [
    "users = users.reset_index(drop=True)\n",
    "users['user_sid'] = users.index\n",
    "\n",
    "pois = pois.reset_index(drop=True)\n",
    "pois['place_sid'] = pois.index"
   ]
  },
  {
   "cell_type": "markdown",
   "metadata": {},
   "source": [
    "### Agregar Datos\n",
    "\n",
    "Crearemos un dataset unificado que usaremos para entrenar el modelo de los embeddings"
   ]
  },
  {
   "cell_type": "code",
   "execution_count": 20,
   "metadata": {},
   "outputs": [
    {
     "data": {
      "text/html": [
       "<div>\n",
       "<style scoped>\n",
       "    .dataframe tbody tr th:only-of-type {\n",
       "        vertical-align: middle;\n",
       "    }\n",
       "\n",
       "    .dataframe tbody tr th {\n",
       "        vertical-align: top;\n",
       "    }\n",
       "\n",
       "    .dataframe thead th {\n",
       "        text-align: right;\n",
       "    }\n",
       "</style>\n",
       "<table border=\"1\" class=\"dataframe\">\n",
       "  <thead>\n",
       "    <tr style=\"text-align: right;\">\n",
       "      <th></th>\n",
       "      <th>id</th>\n",
       "      <th>lat</th>\n",
       "      <th>lng</th>\n",
       "      <th>visited_count</th>\n",
       "      <th>place_sid</th>\n",
       "    </tr>\n",
       "  </thead>\n",
       "  <tbody>\n",
       "    <tr>\n",
       "      <th>0</th>\n",
       "      <td>8932</td>\n",
       "      <td>32.927662</td>\n",
       "      <td>-97.254356</td>\n",
       "      <td>20</td>\n",
       "      <td>0</td>\n",
       "    </tr>\n",
       "    <tr>\n",
       "      <th>1</th>\n",
       "      <td>8936</td>\n",
       "      <td>39.053318</td>\n",
       "      <td>-94.591995</td>\n",
       "      <td>14</td>\n",
       "      <td>1</td>\n",
       "    </tr>\n",
       "    <tr>\n",
       "      <th>2</th>\n",
       "      <td>8938</td>\n",
       "      <td>39.052824</td>\n",
       "      <td>-94.590311</td>\n",
       "      <td>53</td>\n",
       "      <td>2</td>\n",
       "    </tr>\n",
       "    <tr>\n",
       "      <th>3</th>\n",
       "      <td>8947</td>\n",
       "      <td>37.331880</td>\n",
       "      <td>-122.029631</td>\n",
       "      <td>951</td>\n",
       "      <td>3</td>\n",
       "    </tr>\n",
       "    <tr>\n",
       "      <th>4</th>\n",
       "      <td>8954</td>\n",
       "      <td>32.939436</td>\n",
       "      <td>-97.106009</td>\n",
       "      <td>34</td>\n",
       "      <td>4</td>\n",
       "    </tr>\n",
       "  </tbody>\n",
       "</table>\n",
       "</div>"
      ],
      "text/plain": [
       "     id        lat         lng  visited_count  place_sid\n",
       "0  8932  32.927662  -97.254356             20          0\n",
       "1  8936  39.053318  -94.591995             14          1\n",
       "2  8938  39.052824  -94.590311             53          2\n",
       "3  8947  37.331880 -122.029631            951          3\n",
       "4  8954  32.939436  -97.106009             34          4"
      ]
     },
     "execution_count": 20,
     "metadata": {},
     "output_type": "execute_result"
    }
   ],
   "source": [
    "pois.head()"
   ]
  },
  {
   "cell_type": "code",
   "execution_count": 21,
   "metadata": {},
   "outputs": [
    {
     "data": {
      "text/html": [
       "<div>\n",
       "<style scoped>\n",
       "    .dataframe tbody tr th:only-of-type {\n",
       "        vertical-align: middle;\n",
       "    }\n",
       "\n",
       "    .dataframe tbody tr th {\n",
       "        vertical-align: top;\n",
       "    }\n",
       "\n",
       "    .dataframe thead th {\n",
       "        text-align: right;\n",
       "    }\n",
       "</style>\n",
       "<table border=\"1\" class=\"dataframe\">\n",
       "  <thead>\n",
       "    <tr style=\"text-align: right;\">\n",
       "      <th></th>\n",
       "      <th>id</th>\n",
       "      <th>user_sid</th>\n",
       "    </tr>\n",
       "  </thead>\n",
       "  <tbody>\n",
       "    <tr>\n",
       "      <th>0</th>\n",
       "      <td>3092</td>\n",
       "      <td>0</td>\n",
       "    </tr>\n",
       "    <tr>\n",
       "      <th>1</th>\n",
       "      <td>220</td>\n",
       "      <td>1</td>\n",
       "    </tr>\n",
       "    <tr>\n",
       "      <th>2</th>\n",
       "      <td>1496</td>\n",
       "      <td>2</td>\n",
       "    </tr>\n",
       "    <tr>\n",
       "      <th>3</th>\n",
       "      <td>325666</td>\n",
       "      <td>3</td>\n",
       "    </tr>\n",
       "    <tr>\n",
       "      <th>4</th>\n",
       "      <td>100440</td>\n",
       "      <td>4</td>\n",
       "    </tr>\n",
       "  </tbody>\n",
       "</table>\n",
       "</div>"
      ],
      "text/plain": [
       "       id  user_sid\n",
       "0    3092         0\n",
       "1     220         1\n",
       "2    1496         2\n",
       "3  325666         3\n",
       "4  100440         4"
      ]
     },
     "execution_count": 21,
     "metadata": {},
     "output_type": "execute_result"
    }
   ],
   "source": [
    "users.head()"
   ]
  },
  {
   "cell_type": "code",
   "execution_count": 22,
   "metadata": {},
   "outputs": [
    {
     "data": {
      "text/html": [
       "<div>\n",
       "<style scoped>\n",
       "    .dataframe tbody tr th:only-of-type {\n",
       "        vertical-align: middle;\n",
       "    }\n",
       "\n",
       "    .dataframe tbody tr th {\n",
       "        vertical-align: top;\n",
       "    }\n",
       "\n",
       "    .dataframe thead th {\n",
       "        text-align: right;\n",
       "    }\n",
       "</style>\n",
       "<table border=\"1\" class=\"dataframe\">\n",
       "  <thead>\n",
       "    <tr style=\"text-align: right;\">\n",
       "      <th></th>\n",
       "      <th>userid</th>\n",
       "      <th>placeid</th>\n",
       "      <th>datetime</th>\n",
       "    </tr>\n",
       "  </thead>\n",
       "  <tbody>\n",
       "    <tr>\n",
       "      <th>0</th>\n",
       "      <td>3092</td>\n",
       "      <td>8932</td>\n",
       "      <td>2010-02-20T01:08:20Z</td>\n",
       "    </tr>\n",
       "    <tr>\n",
       "      <th>1</th>\n",
       "      <td>220</td>\n",
       "      <td>8932</td>\n",
       "      <td>2009-12-30T05:56:37Z</td>\n",
       "    </tr>\n",
       "    <tr>\n",
       "      <th>2</th>\n",
       "      <td>1496</td>\n",
       "      <td>8932</td>\n",
       "      <td>2009-11-24T21:57:04Z</td>\n",
       "    </tr>\n",
       "    <tr>\n",
       "      <th>3</th>\n",
       "      <td>325666</td>\n",
       "      <td>8932</td>\n",
       "      <td>2011-03-21T00:35:28Z</td>\n",
       "    </tr>\n",
       "    <tr>\n",
       "      <th>4</th>\n",
       "      <td>325666</td>\n",
       "      <td>8932</td>\n",
       "      <td>2011-02-23T23:28:44Z</td>\n",
       "    </tr>\n",
       "  </tbody>\n",
       "</table>\n",
       "</div>"
      ],
      "text/plain": [
       "   userid  placeid              datetime\n",
       "0    3092     8932  2010-02-20T01:08:20Z\n",
       "1     220     8932  2009-12-30T05:56:37Z\n",
       "2    1496     8932  2009-11-24T21:57:04Z\n",
       "3  325666     8932  2011-03-21T00:35:28Z\n",
       "4  325666     8932  2011-02-23T23:28:44Z"
      ]
     },
     "execution_count": 22,
     "metadata": {},
     "output_type": "execute_result"
    }
   ],
   "source": [
    "checkins.head()"
   ]
  },
  {
   "cell_type": "code",
   "execution_count": 23,
   "metadata": {},
   "outputs": [],
   "source": [
    "users_checkins = pd.merge(users, checkins, left_on='id', right_on='userid', copy=False).drop('id', axis=1)\n",
    "users_checkins = pd.merge(users_checkins, pois[['id', 'place_sid']], left_on='placeid', right_on='id', copy=False)\n",
    "users_checkins['date'] = pd.to_datetime(users_checkins['datetime'])\n",
    "users_checkins = users_checkins.drop('datetime', axis=1)\n",
    "users_checkins.sort_values(by=['user_sid', 'date'], inplace=True)"
   ]
  },
  {
   "cell_type": "code",
   "execution_count": 24,
   "metadata": {},
   "outputs": [
    {
     "data": {
      "text/html": [
       "<div>\n",
       "<style scoped>\n",
       "    .dataframe tbody tr th:only-of-type {\n",
       "        vertical-align: middle;\n",
       "    }\n",
       "\n",
       "    .dataframe tbody tr th {\n",
       "        vertical-align: top;\n",
       "    }\n",
       "\n",
       "    .dataframe thead th {\n",
       "        text-align: right;\n",
       "    }\n",
       "</style>\n",
       "<table border=\"1\" class=\"dataframe\">\n",
       "  <thead>\n",
       "    <tr style=\"text-align: right;\">\n",
       "      <th></th>\n",
       "      <th>user_sid</th>\n",
       "      <th>place_sid</th>\n",
       "    </tr>\n",
       "  </thead>\n",
       "  <tbody>\n",
       "    <tr>\n",
       "      <th>18737</th>\n",
       "      <td>0</td>\n",
       "      <td>8643</td>\n",
       "    </tr>\n",
       "    <tr>\n",
       "      <th>3212</th>\n",
       "      <td>0</td>\n",
       "      <td>93</td>\n",
       "    </tr>\n",
       "    <tr>\n",
       "      <th>12922</th>\n",
       "      <td>0</td>\n",
       "      <td>1395</td>\n",
       "    </tr>\n",
       "    <tr>\n",
       "      <th>18736</th>\n",
       "      <td>0</td>\n",
       "      <td>8643</td>\n",
       "    </tr>\n",
       "    <tr>\n",
       "      <th>19544</th>\n",
       "      <td>0</td>\n",
       "      <td>11438</td>\n",
       "    </tr>\n",
       "    <tr>\n",
       "      <th>5639</th>\n",
       "      <td>0</td>\n",
       "      <td>557</td>\n",
       "    </tr>\n",
       "    <tr>\n",
       "      <th>19691</th>\n",
       "      <td>0</td>\n",
       "      <td>11685</td>\n",
       "    </tr>\n",
       "    <tr>\n",
       "      <th>19185</th>\n",
       "      <td>0</td>\n",
       "      <td>10082</td>\n",
       "    </tr>\n",
       "    <tr>\n",
       "      <th>18735</th>\n",
       "      <td>0</td>\n",
       "      <td>8643</td>\n",
       "    </tr>\n",
       "    <tr>\n",
       "      <th>4521</th>\n",
       "      <td>0</td>\n",
       "      <td>324</td>\n",
       "    </tr>\n",
       "    <tr>\n",
       "      <th>6121</th>\n",
       "      <td>0</td>\n",
       "      <td>950</td>\n",
       "    </tr>\n",
       "    <tr>\n",
       "      <th>4332</th>\n",
       "      <td>0</td>\n",
       "      <td>286</td>\n",
       "    </tr>\n",
       "    <tr>\n",
       "      <th>19732</th>\n",
       "      <td>0</td>\n",
       "      <td>11945</td>\n",
       "    </tr>\n",
       "    <tr>\n",
       "      <th>5638</th>\n",
       "      <td>0</td>\n",
       "      <td>557</td>\n",
       "    </tr>\n",
       "    <tr>\n",
       "      <th>19790</th>\n",
       "      <td>0</td>\n",
       "      <td>12733</td>\n",
       "    </tr>\n",
       "    <tr>\n",
       "      <th>19954</th>\n",
       "      <td>0</td>\n",
       "      <td>13579</td>\n",
       "    </tr>\n",
       "    <tr>\n",
       "      <th>13614</th>\n",
       "      <td>0</td>\n",
       "      <td>1938</td>\n",
       "    </tr>\n",
       "    <tr>\n",
       "      <th>18734</th>\n",
       "      <td>0</td>\n",
       "      <td>8643</td>\n",
       "    </tr>\n",
       "    <tr>\n",
       "      <th>19543</th>\n",
       "      <td>0</td>\n",
       "      <td>11438</td>\n",
       "    </tr>\n",
       "    <tr>\n",
       "      <th>20056</th>\n",
       "      <td>0</td>\n",
       "      <td>14291</td>\n",
       "    </tr>\n",
       "  </tbody>\n",
       "</table>\n",
       "</div>"
      ],
      "text/plain": [
       "       user_sid  place_sid\n",
       "18737         0       8643\n",
       "3212          0         93\n",
       "12922         0       1395\n",
       "18736         0       8643\n",
       "19544         0      11438\n",
       "5639          0        557\n",
       "19691         0      11685\n",
       "19185         0      10082\n",
       "18735         0       8643\n",
       "4521          0        324\n",
       "6121          0        950\n",
       "4332          0        286\n",
       "19732         0      11945\n",
       "5638          0        557\n",
       "19790         0      12733\n",
       "19954         0      13579\n",
       "13614         0       1938\n",
       "18734         0       8643\n",
       "19543         0      11438\n",
       "20056         0      14291"
      ]
     },
     "execution_count": 24,
     "metadata": {},
     "output_type": "execute_result"
    }
   ],
   "source": [
    "users_checkins[['user_sid', 'place_sid']].head(20)"
   ]
  },
  {
   "cell_type": "code",
   "execution_count": 25,
   "metadata": {},
   "outputs": [
    {
     "data": {
      "text/html": [
       "<div>\n",
       "<style scoped>\n",
       "    .dataframe tbody tr th:only-of-type {\n",
       "        vertical-align: middle;\n",
       "    }\n",
       "\n",
       "    .dataframe tbody tr th {\n",
       "        vertical-align: top;\n",
       "    }\n",
       "\n",
       "    .dataframe thead th {\n",
       "        text-align: right;\n",
       "    }\n",
       "</style>\n",
       "<table border=\"1\" class=\"dataframe\">\n",
       "  <thead>\n",
       "    <tr style=\"text-align: right;\">\n",
       "      <th></th>\n",
       "      <th>user_sid</th>\n",
       "      <th>place_sid</th>\n",
       "    </tr>\n",
       "  </thead>\n",
       "  <tbody>\n",
       "    <tr>\n",
       "      <th>8282144</th>\n",
       "      <td>55263</td>\n",
       "      <td>480604</td>\n",
       "    </tr>\n",
       "    <tr>\n",
       "      <th>8282202</th>\n",
       "      <td>55263</td>\n",
       "      <td>480605</td>\n",
       "    </tr>\n",
       "    <tr>\n",
       "      <th>8282143</th>\n",
       "      <td>55263</td>\n",
       "      <td>480604</td>\n",
       "    </tr>\n",
       "    <tr>\n",
       "      <th>8282201</th>\n",
       "      <td>55263</td>\n",
       "      <td>480605</td>\n",
       "    </tr>\n",
       "    <tr>\n",
       "      <th>8282142</th>\n",
       "      <td>55263</td>\n",
       "      <td>480604</td>\n",
       "    </tr>\n",
       "    <tr>\n",
       "      <th>8282200</th>\n",
       "      <td>55263</td>\n",
       "      <td>480605</td>\n",
       "    </tr>\n",
       "    <tr>\n",
       "      <th>8282141</th>\n",
       "      <td>55263</td>\n",
       "      <td>480604</td>\n",
       "    </tr>\n",
       "    <tr>\n",
       "      <th>8282199</th>\n",
       "      <td>55263</td>\n",
       "      <td>480605</td>\n",
       "    </tr>\n",
       "    <tr>\n",
       "      <th>8282140</th>\n",
       "      <td>55263</td>\n",
       "      <td>480604</td>\n",
       "    </tr>\n",
       "    <tr>\n",
       "      <th>8282139</th>\n",
       "      <td>55263</td>\n",
       "      <td>480604</td>\n",
       "    </tr>\n",
       "    <tr>\n",
       "      <th>8282138</th>\n",
       "      <td>55263</td>\n",
       "      <td>480604</td>\n",
       "    </tr>\n",
       "    <tr>\n",
       "      <th>8282247</th>\n",
       "      <td>55263</td>\n",
       "      <td>480614</td>\n",
       "    </tr>\n",
       "    <tr>\n",
       "      <th>8282198</th>\n",
       "      <td>55263</td>\n",
       "      <td>480605</td>\n",
       "    </tr>\n",
       "    <tr>\n",
       "      <th>8282137</th>\n",
       "      <td>55263</td>\n",
       "      <td>480604</td>\n",
       "    </tr>\n",
       "    <tr>\n",
       "      <th>8282197</th>\n",
       "      <td>55263</td>\n",
       "      <td>480605</td>\n",
       "    </tr>\n",
       "    <tr>\n",
       "      <th>8282136</th>\n",
       "      <td>55263</td>\n",
       "      <td>480604</td>\n",
       "    </tr>\n",
       "    <tr>\n",
       "      <th>8282196</th>\n",
       "      <td>55263</td>\n",
       "      <td>480605</td>\n",
       "    </tr>\n",
       "    <tr>\n",
       "      <th>8282135</th>\n",
       "      <td>55263</td>\n",
       "      <td>480604</td>\n",
       "    </tr>\n",
       "    <tr>\n",
       "      <th>8282195</th>\n",
       "      <td>55263</td>\n",
       "      <td>480605</td>\n",
       "    </tr>\n",
       "    <tr>\n",
       "      <th>8282134</th>\n",
       "      <td>55263</td>\n",
       "      <td>480604</td>\n",
       "    </tr>\n",
       "  </tbody>\n",
       "</table>\n",
       "</div>"
      ],
      "text/plain": [
       "         user_sid  place_sid\n",
       "8282144     55263     480604\n",
       "8282202     55263     480605\n",
       "8282143     55263     480604\n",
       "8282201     55263     480605\n",
       "8282142     55263     480604\n",
       "8282200     55263     480605\n",
       "8282141     55263     480604\n",
       "8282199     55263     480605\n",
       "8282140     55263     480604\n",
       "8282139     55263     480604\n",
       "8282138     55263     480604\n",
       "8282247     55263     480614\n",
       "8282198     55263     480605\n",
       "8282137     55263     480604\n",
       "8282197     55263     480605\n",
       "8282136     55263     480604\n",
       "8282196     55263     480605\n",
       "8282135     55263     480604\n",
       "8282195     55263     480605\n",
       "8282134     55263     480604"
      ]
     },
     "execution_count": 25,
     "metadata": {},
     "output_type": "execute_result"
    }
   ],
   "source": [
    "users_checkins[['user_sid', 'place_sid']].tail(20)"
   ]
  },
  {
   "cell_type": "markdown",
   "metadata": {},
   "source": [
    "Podemos ver que hay un problema: Muchas veces se repiten los POI consecutivos de un usuario, sin embargo eso no aporta mucha información al embedding, por lo que los eliminaremos en el siguiente paso"
   ]
  },
  {
   "cell_type": "code",
   "execution_count": 26,
   "metadata": {},
   "outputs": [],
   "source": [
    "users_checkins['last_place_sid'] = users_checkins['place_sid'].shift(1)\n",
    "user_checkins = users_checkins[users_checkins.place_sid != users_checkins.last_place_sid]\n",
    "user_checkins = user_checkins.drop('last_place_sid', axis=1)"
   ]
  },
  {
   "cell_type": "code",
   "execution_count": 27,
   "metadata": {},
   "outputs": [
    {
     "data": {
      "text/html": [
       "<div>\n",
       "<style scoped>\n",
       "    .dataframe tbody tr th:only-of-type {\n",
       "        vertical-align: middle;\n",
       "    }\n",
       "\n",
       "    .dataframe tbody tr th {\n",
       "        vertical-align: top;\n",
       "    }\n",
       "\n",
       "    .dataframe thead th {\n",
       "        text-align: right;\n",
       "    }\n",
       "</style>\n",
       "<table border=\"1\" class=\"dataframe\">\n",
       "  <thead>\n",
       "    <tr style=\"text-align: right;\">\n",
       "      <th></th>\n",
       "      <th>user_sid</th>\n",
       "      <th>userid</th>\n",
       "      <th>placeid</th>\n",
       "      <th>id</th>\n",
       "      <th>place_sid</th>\n",
       "      <th>date</th>\n",
       "    </tr>\n",
       "  </thead>\n",
       "  <tbody>\n",
       "    <tr>\n",
       "      <th>8282136</th>\n",
       "      <td>55263</td>\n",
       "      <td>2615815</td>\n",
       "      <td>7361926</td>\n",
       "      <td>7361926</td>\n",
       "      <td>480604</td>\n",
       "      <td>2011-07-02 02:33:01+00:00</td>\n",
       "    </tr>\n",
       "    <tr>\n",
       "      <th>8282196</th>\n",
       "      <td>55263</td>\n",
       "      <td>2615815</td>\n",
       "      <td>7361973</td>\n",
       "      <td>7361973</td>\n",
       "      <td>480605</td>\n",
       "      <td>2011-07-02 11:38:43+00:00</td>\n",
       "    </tr>\n",
       "    <tr>\n",
       "      <th>8282135</th>\n",
       "      <td>55263</td>\n",
       "      <td>2615815</td>\n",
       "      <td>7361926</td>\n",
       "      <td>7361926</td>\n",
       "      <td>480604</td>\n",
       "      <td>2011-07-03 02:46:12+00:00</td>\n",
       "    </tr>\n",
       "    <tr>\n",
       "      <th>8282195</th>\n",
       "      <td>55263</td>\n",
       "      <td>2615815</td>\n",
       "      <td>7361973</td>\n",
       "      <td>7361973</td>\n",
       "      <td>480605</td>\n",
       "      <td>2011-07-03 10:53:14+00:00</td>\n",
       "    </tr>\n",
       "    <tr>\n",
       "      <th>8282134</th>\n",
       "      <td>55263</td>\n",
       "      <td>2615815</td>\n",
       "      <td>7361926</td>\n",
       "      <td>7361926</td>\n",
       "      <td>480604</td>\n",
       "      <td>2011-07-03 23:47:06+00:00</td>\n",
       "    </tr>\n",
       "  </tbody>\n",
       "</table>\n",
       "</div>"
      ],
      "text/plain": [
       "         user_sid   userid  placeid       id  place_sid  \\\n",
       "8282136     55263  2615815  7361926  7361926     480604   \n",
       "8282196     55263  2615815  7361973  7361973     480605   \n",
       "8282135     55263  2615815  7361926  7361926     480604   \n",
       "8282195     55263  2615815  7361973  7361973     480605   \n",
       "8282134     55263  2615815  7361926  7361926     480604   \n",
       "\n",
       "                             date  \n",
       "8282136 2011-07-02 02:33:01+00:00  \n",
       "8282196 2011-07-02 11:38:43+00:00  \n",
       "8282135 2011-07-03 02:46:12+00:00  \n",
       "8282195 2011-07-03 10:53:14+00:00  \n",
       "8282134 2011-07-03 23:47:06+00:00  "
      ]
     },
     "execution_count": 27,
     "metadata": {},
     "output_type": "execute_result"
    }
   ],
   "source": [
    "user_checkins.tail()"
   ]
  },
  {
   "cell_type": "code",
   "execution_count": 28,
   "metadata": {},
   "outputs": [],
   "source": [
    "from collections import defaultdict"
   ]
  },
  {
   "cell_type": "code",
   "execution_count": 29,
   "metadata": {},
   "outputs": [],
   "source": [
    "user_poi_seq = defaultdict(lambda: [])\n",
    "user_date_seq = defaultdict(lambda: [])"
   ]
  },
  {
   "cell_type": "code",
   "execution_count": 30,
   "metadata": {},
   "outputs": [],
   "source": [
    "for user_sid, place_sid, date in zip(users_checkins['user_sid'], users_checkins['place_sid'], users_checkins['date']):\n",
    "    user_poi_seq[user_sid].append(place_sid)\n",
    "    user_date_seq[user_sid].append(date)"
   ]
  },
  {
   "cell_type": "markdown",
   "metadata": {},
   "source": [
    "Generamos secuencias de puntos de interes visitados por usuarios de un largo predefinido para entrenar el modelo de embeddings"
   ]
  },
  {
   "cell_type": "code",
   "execution_count": 31,
   "metadata": {},
   "outputs": [],
   "source": [
    "from random import sample\n",
    "\n",
    "poi_sequence_dataset = []\n",
    "\n",
    "for user_sid, sequence in user_poi_seq.items():\n",
    "    if len(sequence) < SEQUENCE_LENGTH: continue\n",
    "\n",
    "    candidate_indexes = list(range(0, len(sequence) - SEQUENCE_LENGTH, SEQUENCE_LENGTH))\n",
    "\n",
    "    n_sequences = min(len(candidate_indexes), MAX_SEQUENCES_PER_USER)\n",
    "    start_indexes = sample(candidate_indexes, n_sequences)\n",
    "\n",
    "    for idx in start_indexes:\n",
    "        new_seq = sequence[idx:idx + SEQUENCE_LENGTH]\n",
    "        poi_sequence_dataset.append(new_seq) \n",
    "    "
   ]
  },
  {
   "cell_type": "code",
   "execution_count": 32,
   "metadata": {},
   "outputs": [],
   "source": [
    "def split_list(input, frac=0.5):\n",
    "    split_index = int(len(input) * frac)\n",
    "    return input[:split_index], input[split_index:]"
   ]
  },
  {
   "cell_type": "markdown",
   "metadata": {},
   "source": [
    "## Split de Datos\n",
    "\n",
    "Realizamos separacion en train / test / split de 80 / 10 / 10"
   ]
  },
  {
   "cell_type": "code",
   "execution_count": 33,
   "metadata": {},
   "outputs": [],
   "source": [
    "train_poi_sequence, rest = split_list(poi_sequence_dataset, 0.8)\n",
    "test_poi_sequence, val_poi_sequence = split_list(rest)"
   ]
  },
  {
   "cell_type": "code",
   "execution_count": 34,
   "metadata": {},
   "outputs": [],
   "source": [
    "def split_history_target(sequences):\n",
    "    history = [ seq[:-1] for seq in sequences]\n",
    "    targets = [ seq[-1] for seq in sequences]\n",
    "    return history, targets"
   ]
  },
  {
   "cell_type": "code",
   "execution_count": 35,
   "metadata": {},
   "outputs": [],
   "source": [
    "train_seq_history, train_seq_target = split_history_target(train_poi_sequence)\n",
    "test_seq_history, test_seq_target = split_history_target(test_poi_sequence)\n",
    "val_seq_history, val_seq_target = split_history_target(val_poi_sequence)"
   ]
  },
  {
   "cell_type": "code",
   "execution_count": 36,
   "metadata": {},
   "outputs": [
    {
     "name": "stdout",
     "output_type": "stream",
     "text": [
      "Total pois incluidos en dataset: 478639\n",
      "Porcentaje de POIs que se usaran en el modelo 99.56524361958608\n"
     ]
    }
   ],
   "source": [
    "unique_pois = { poi for sequence in  poi_sequence_dataset  for poi in sequence }\n",
    "\n",
    "print(\"Total pois incluidos en dataset:\", len(unique_pois))\n",
    "print(\"Porcentaje de POIs que se usaran en el modelo\",  len(unique_pois) * 100 / len(pois))"
   ]
  },
  {
   "cell_type": "code",
   "execution_count": 37,
   "metadata": {},
   "outputs": [
    {
     "name": "stdout",
     "output_type": "stream",
     "text": [
      "Total Train 414903\n",
      "Total Test  51863\n",
      "Total Val   51863\n"
     ]
    }
   ],
   "source": [
    "print(\"Total Train\", len(train_seq_history))\n",
    "print(\"Total Test \", len(test_seq_history))\n",
    "print(\"Total Val  \", len(val_seq_history))"
   ]
  },
  {
   "cell_type": "markdown",
   "metadata": {},
   "source": [
    "Ya tenemos nuestros datos listos para entrenar!"
   ]
  },
  {
   "cell_type": "markdown",
   "metadata": {},
   "source": [
    "# Modelo"
   ]
  },
  {
   "cell_type": "code",
   "execution_count": 92,
   "metadata": {},
   "outputs": [],
   "source": [
    "class EmbeddingModel(nn.Module):\n",
    "    def __init__(self, vocab_size=None, emb_dim=None, hidden_dim=None, sample_length=None):\n",
    "        super(EmbeddingModel, self).__init__()\n",
    "        \n",
    "        self.emb = nn.Embedding(vocab_size, emb_dim)\n",
    "        self.hidden = nn.Linear(sample_length * emb_dim, hidden_dim)\n",
    "        self.hidden_activation = nn.ReLU()\n",
    "        self.output = nn.Linear(hidden_dim, vocab_size)\n",
    "        self.output_activation = nn.LogSoftmax(dim=-1)\n",
    "\n",
    "    def forward(self, xs):\n",
    "        batch_size = xs.size()[0]\n",
    "\n",
    "        # embed and merge\n",
    "        xs = self.emb(xs)\n",
    "        xs = torch.reshape(xs, (batch_size, -1))\n",
    "\n",
    "        # hidden layer\n",
    "        hidden = self.hidden(xs)\n",
    "        hidden = self.hidden_activation(hidden)\n",
    "\n",
    "        # output log probabilities\n",
    "        output_logits = self.output(hidden)\n",
    "        output_log_probs = self.output_activation(output_logits)\n",
    "        \n",
    "        return output_log_probs\n",
    "\n",
    "    def predict(self, xs):\n",
    "        return torch.argmax(self.forward(xs))"
   ]
  },
  {
   "cell_type": "code",
   "execution_count": null,
   "metadata": {},
   "outputs": [],
   "source": [
    "class Trainer:\n",
    "    def __init__(self, model):\n",
    "        "
   ]
  },
  {
   "cell_type": "code",
   "execution_count": 61,
   "metadata": {},
   "outputs": [],
   "source": [
    "from torch.utils.data import DataLoader\n",
    "\n",
    "def dataset_to_tensors(sequences, targets):\n",
    "    return [[torch.tensor(x), torch.tensor(y)] for x, y in zip(sequences, targets)]\n",
    "\n",
    "\n",
    "train_tensors = dataset_to_tensors(train_seq_history, train_seq_target)\n",
    "train_dataloader = DataLoader(train_tensors, batch_size=BATCH_SIZE, shuffle=True)\n",
    "\n",
    "test_tensors = dataset_to_tensors(test_seq_history, test_seq_target)\n",
    "test_dataloader = DataLoader(test_tensors, batch_size=BATCH_SIZE, shuffle=True)\n",
    "\n",
    "val_tensors = dataset_to_tensors(val_seq_history, val_seq_target)\n",
    "val_dataloader = DataLoader(val_tensors, batch_size=BATCH_SIZE, shuffle=True)"
   ]
  },
  {
   "cell_type": "code",
   "execution_count": 108,
   "metadata": {},
   "outputs": [
    {
     "name": "stdout",
     "output_type": "stream",
     "text": [
      "Initializing model ...\n",
      "Beginning training ...\n"
     ]
    },
    {
     "ename": "KeyboardInterrupt",
     "evalue": "",
     "output_type": "error",
     "traceback": [
      "\u001b[0;31m---------------------------------------------------------------------------\u001b[0m",
      "\u001b[0;31mKeyboardInterrupt\u001b[0m                         Traceback (most recent call last)",
      "Cell \u001b[0;32mIn[108], line 56\u001b[0m\n\u001b[1;32m     53\u001b[0m xs, ys \u001b[39m=\u001b[39m xs\u001b[39m.\u001b[39mto(device), ys\u001b[39m.\u001b[39mto(device)\n\u001b[1;32m     55\u001b[0m \u001b[39m# Get the averaged batch loss\u001b[39;00m\n\u001b[0;32m---> 56\u001b[0m output \u001b[39m=\u001b[39m loss(lm(xs), ys)\n\u001b[1;32m     58\u001b[0m \u001b[39m# Run the backward pass (calculate gradients)\u001b[39;00m\n\u001b[1;32m     59\u001b[0m output\u001b[39m.\u001b[39mbackward()\n",
      "File \u001b[0;32m/mnt/shared/Documents/proyecto-recsys/venv/lib/python3.10/site-packages/torch/nn/modules/module.py:1190\u001b[0m, in \u001b[0;36mModule._call_impl\u001b[0;34m(self, *input, **kwargs)\u001b[0m\n\u001b[1;32m   1186\u001b[0m \u001b[39m# If we don't have any hooks, we want to skip the rest of the logic in\u001b[39;00m\n\u001b[1;32m   1187\u001b[0m \u001b[39m# this function, and just call forward.\u001b[39;00m\n\u001b[1;32m   1188\u001b[0m \u001b[39mif\u001b[39;00m \u001b[39mnot\u001b[39;00m (\u001b[39mself\u001b[39m\u001b[39m.\u001b[39m_backward_hooks \u001b[39mor\u001b[39;00m \u001b[39mself\u001b[39m\u001b[39m.\u001b[39m_forward_hooks \u001b[39mor\u001b[39;00m \u001b[39mself\u001b[39m\u001b[39m.\u001b[39m_forward_pre_hooks \u001b[39mor\u001b[39;00m _global_backward_hooks\n\u001b[1;32m   1189\u001b[0m         \u001b[39mor\u001b[39;00m _global_forward_hooks \u001b[39mor\u001b[39;00m _global_forward_pre_hooks):\n\u001b[0;32m-> 1190\u001b[0m     \u001b[39mreturn\u001b[39;00m forward_call(\u001b[39m*\u001b[39;49m\u001b[39minput\u001b[39;49m, \u001b[39m*\u001b[39;49m\u001b[39m*\u001b[39;49mkwargs)\n\u001b[1;32m   1191\u001b[0m \u001b[39m# Do not call functions when jit is used\u001b[39;00m\n\u001b[1;32m   1192\u001b[0m full_backward_hooks, non_full_backward_hooks \u001b[39m=\u001b[39m [], []\n",
      "Cell \u001b[0;32mIn[92], line 23\u001b[0m, in \u001b[0;36mEmbeddingModel.forward\u001b[0;34m(self, xs)\u001b[0m\n\u001b[1;32m     20\u001b[0m hidden \u001b[39m=\u001b[39m \u001b[39mself\u001b[39m\u001b[39m.\u001b[39mhidden_activation(hidden)\n\u001b[1;32m     22\u001b[0m \u001b[39m# output log probabilities\u001b[39;00m\n\u001b[0;32m---> 23\u001b[0m output_logits \u001b[39m=\u001b[39m \u001b[39mself\u001b[39;49m\u001b[39m.\u001b[39;49moutput(hidden)\n\u001b[1;32m     24\u001b[0m output_log_probs \u001b[39m=\u001b[39m \u001b[39mself\u001b[39m\u001b[39m.\u001b[39moutput_activation(output_logits)\n\u001b[1;32m     26\u001b[0m \u001b[39mreturn\u001b[39;00m output_log_probs\n",
      "File \u001b[0;32m/mnt/shared/Documents/proyecto-recsys/venv/lib/python3.10/site-packages/torch/nn/modules/module.py:1190\u001b[0m, in \u001b[0;36mModule._call_impl\u001b[0;34m(self, *input, **kwargs)\u001b[0m\n\u001b[1;32m   1186\u001b[0m \u001b[39m# If we don't have any hooks, we want to skip the rest of the logic in\u001b[39;00m\n\u001b[1;32m   1187\u001b[0m \u001b[39m# this function, and just call forward.\u001b[39;00m\n\u001b[1;32m   1188\u001b[0m \u001b[39mif\u001b[39;00m \u001b[39mnot\u001b[39;00m (\u001b[39mself\u001b[39m\u001b[39m.\u001b[39m_backward_hooks \u001b[39mor\u001b[39;00m \u001b[39mself\u001b[39m\u001b[39m.\u001b[39m_forward_hooks \u001b[39mor\u001b[39;00m \u001b[39mself\u001b[39m\u001b[39m.\u001b[39m_forward_pre_hooks \u001b[39mor\u001b[39;00m _global_backward_hooks\n\u001b[1;32m   1189\u001b[0m         \u001b[39mor\u001b[39;00m _global_forward_hooks \u001b[39mor\u001b[39;00m _global_forward_pre_hooks):\n\u001b[0;32m-> 1190\u001b[0m     \u001b[39mreturn\u001b[39;00m forward_call(\u001b[39m*\u001b[39;49m\u001b[39minput\u001b[39;49m, \u001b[39m*\u001b[39;49m\u001b[39m*\u001b[39;49mkwargs)\n\u001b[1;32m   1191\u001b[0m \u001b[39m# Do not call functions when jit is used\u001b[39;00m\n\u001b[1;32m   1192\u001b[0m full_backward_hooks, non_full_backward_hooks \u001b[39m=\u001b[39m [], []\n",
      "File \u001b[0;32m/mnt/shared/Documents/proyecto-recsys/venv/lib/python3.10/site-packages/torch/nn/modules/linear.py:114\u001b[0m, in \u001b[0;36mLinear.forward\u001b[0;34m(self, input)\u001b[0m\n\u001b[1;32m    113\u001b[0m \u001b[39mdef\u001b[39;00m \u001b[39mforward\u001b[39m(\u001b[39mself\u001b[39m, \u001b[39minput\u001b[39m: Tensor) \u001b[39m-\u001b[39m\u001b[39m>\u001b[39m Tensor:\n\u001b[0;32m--> 114\u001b[0m     \u001b[39mreturn\u001b[39;00m F\u001b[39m.\u001b[39;49mlinear(\u001b[39minput\u001b[39;49m, \u001b[39mself\u001b[39;49m\u001b[39m.\u001b[39;49mweight, \u001b[39mself\u001b[39;49m\u001b[39m.\u001b[39;49mbias)\n",
      "\u001b[0;31mKeyboardInterrupt\u001b[0m: "
     ]
    }
   ],
   "source": [
    "\n",
    "# Globals\n",
    "device = torch.device(\"cuda:0\" if torch.cuda.is_available() else \"cpu\")\n",
    "loss = nn.NLLLoss()\n",
    "\n",
    "# Training Parameters\n",
    "print_every = 200\n",
    "test_every = 10000 # 2000\n",
    "adjust_every = 15000 # 500\n",
    "num_iterations = int(1e7)\n",
    "epsilon_0 = 1e-3\n",
    "r = 1e-8\n",
    "\n",
    "# Tensorboard-related\n",
    "# experiment_name = Path('act-{}_emb-{}_hidden-{}_sample-{}_batch-{}_optim-{}_lr-{}_adjust-every-{}'.format(\n",
    "#     'relu',\n",
    "#     emb_dim,\n",
    "#     hidden_dim,\n",
    "#     sample_length,\n",
    "#     batch_size,\n",
    "#     'sgd',\n",
    "#     epsilon_0,\n",
    "#     adjust_every\n",
    "# ))\n",
    "# experiment_path = Path('run') / experiment_name\n",
    "# writer = SummaryWriter(experiment_path)\n",
    "\n",
    "# Get the dataset\n",
    "\n",
    "# Create the model\n",
    "print(\"Initializing model ...\")\n",
    "lm = EmbeddingModel(\n",
    "    vocab_size=len(pois),\n",
    "    emb_dim=EMBEDDING_DIM,\n",
    "    hidden_dim=HIDDEN_DIM,\n",
    "    sample_length=SEQUENCE_LENGTH - 1\n",
    ")\n",
    "\n",
    "\n",
    "lm.to(device)\n",
    "optimizer = optim.SGD(lm.parameters(), lr=epsilon_0) # optim.Adam(lm.parameters(), amsgrad=True)\n",
    "\n",
    "losses = []\n",
    "\n",
    "train_iter = iter(train_dataloader)\n",
    "\n",
    "print(\"Beginning training ...\")\n",
    "for i in range(num_iterations):    \n",
    "    # Zero the parameter gradients\n",
    "    optimizer.zero_grad()\n",
    "    \n",
    "    # Get the next batch\n",
    "    xs, ys = next(train_iter)\n",
    "    xs, ys = xs.to(device), ys.to(device)\n",
    "\n",
    "    # Get the averaged batch loss\n",
    "    output = loss(lm(xs), ys)\n",
    "\n",
    "    # Run the backward pass (calculate gradients)\n",
    "    output.backward()\n",
    "\n",
    "    # Update the model\n",
    "    optimizer.step()\n",
    "\n",
    "    # Save and print statistics\n",
    "    losses.append(output.item())\n",
    "\n",
    "    if i % print_every == (print_every - 1):\n",
    "        # Get average loss\n",
    "        avg_loss = sum(losses) / len(losses)\n",
    "        losses = []\n",
    "\n",
    "        # Compute perplexity\n",
    "        perp = math.exp(avg_loss)\n",
    "\n",
    "        # Print and log the train loss\n",
    "        print(\"({}) : {}\".format((i + 1), perp))\n",
    "        # writer.add_scalar('Training Loss', perp, i)\n",
    "\n",
    "    if i % test_every == (test_every - 1):\n",
    "        print(\"\\nEvaluating model on test set ...\")\n",
    "        \n",
    "        lm.eval()\n",
    "\n",
    "        with torch.no_grad():\n",
    "            test_iter = iter(test_dataloader)\n",
    "\n",
    "            test_losses = []            \n",
    "            for xs, ys in tqdm.tqdm(test_iter, total=len(test_iter)):\n",
    "                xs, ys = xs.to(device), ys.to(device)\n",
    "                output = loss(lm(xs), ys)\n",
    "                test_losses.append(output.item())\n",
    "\n",
    "\n",
    "        avg_test_loss = sum(test_losses) / len(test_losses)\n",
    "        test_losses = []\n",
    "\n",
    "        # Compute perplexity\n",
    "        test_perp = math.exp(avg_test_loss)\n",
    "\n",
    "        # Print and log the test loss\n",
    "        print(\"Average Test Loss: {}\\n\".format(test_perp))\n",
    "        # writer.add_scalar('Test Loss', test_perp, i)\n",
    "                \n",
    "        lm.train()\n",
    "\n",
    "    # Update the learning rate every iteration, just as in the paper\n",
    "    if i % adjust_every == (adjust_every - 1):\n",
    "        for g in optimizer.param_groups:\n",
    "            g['lr'] = epsilon_0 / (1 + r * (i / adjust_every))"
   ]
  },
  {
   "cell_type": "code",
   "execution_count": null,
   "metadata": {},
   "outputs": [],
   "source": []
  }
 ],
 "metadata": {
  "kernelspec": {
   "display_name": "venv",
   "language": "python",
   "name": "python3"
  },
  "language_info": {
   "codemirror_mode": {
    "name": "ipython",
    "version": 3
   },
   "file_extension": ".py",
   "mimetype": "text/x-python",
   "name": "python",
   "nbconvert_exporter": "python",
   "pygments_lexer": "ipython3",
   "version": "3.10.7"
  },
  "orig_nbformat": 4,
  "vscode": {
   "interpreter": {
    "hash": "5d0f3f363c2ee98fd619740d6785905f65271fae303a875a61ead58f40aa4677"
   }
  }
 },
 "nbformat": 4,
 "nbformat_minor": 2
}
