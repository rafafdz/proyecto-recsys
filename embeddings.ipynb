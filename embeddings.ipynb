{
 "cells": [
  {
   "cell_type": "markdown",
   "metadata": {},
   "source": [
    "#  Librerías"
   ]
  },
  {
   "cell_type": "markdown",
   "metadata": {},
   "source": [
    "### Librerías pesadas\n",
    "Para ejecutar solo una vez"
   ]
  },
  {
   "cell_type": "code",
   "execution_count": 21,
   "metadata": {},
   "outputs": [],
   "source": [
    "import torch\n",
    "import pandas as pd\n",
    "import numpy as np"
   ]
  },
  {
   "cell_type": "markdown",
   "metadata": {},
   "source": [
    "### Librerías livianas\n",
    "Para ejecutar múltiples veces"
   ]
  },
  {
   "cell_type": "code",
   "execution_count": null,
   "metadata": {},
   "outputs": [],
   "source": []
  },
  {
   "cell_type": "markdown",
   "metadata": {},
   "source": [
    "# Gowalla Dataset"
   ]
  },
  {
   "cell_type": "code",
   "execution_count": 22,
   "metadata": {},
   "outputs": [
    {
     "name": "stdout",
     "output_type": "stream",
     "text": [
      "Already Downloaded\n"
     ]
    }
   ],
   "source": [
    "! ./download-gowalla.sh"
   ]
  },
  {
   "cell_type": "markdown",
   "metadata": {},
   "source": [
    "### Cargar Datos"
   ]
  },
  {
   "cell_type": "code",
   "execution_count": 23,
   "metadata": {},
   "outputs": [],
   "source": [
    "users    = pd.read_csv('download/gowalla/gowalla_userinfo.csv')\n",
    "friends  = pd.read_csv('download/gowalla/gowalla_friendship.csv')\n",
    "checkins = pd.read_csv('download/gowalla/gowalla_checkins.csv')\n",
    "pois_1   = pd.read_csv('download/gowalla/gowalla_spots_subset1.csv', encoding='iso-8859-1')\n",
    "pois_2   = pd.read_csv('download/gowalla/gowalla_spots_subset2.csv', encoding='iso-8859-1')\n",
    "pois     = pd.concat((pois_1, pois_2), ignore_index=True)\n"
   ]
  },
  {
   "cell_type": "markdown",
   "metadata": {},
   "source": [
    "## Limpiar Datos"
   ]
  },
  {
   "cell_type": "code",
   "execution_count": 24,
   "metadata": {},
   "outputs": [
    {
     "data": {
      "text/html": [
       "<div>\n",
       "<style scoped>\n",
       "    .dataframe tbody tr th:only-of-type {\n",
       "        vertical-align: middle;\n",
       "    }\n",
       "\n",
       "    .dataframe tbody tr th {\n",
       "        vertical-align: top;\n",
       "    }\n",
       "\n",
       "    .dataframe thead th {\n",
       "        text-align: right;\n",
       "    }\n",
       "</style>\n",
       "<table border=\"1\" class=\"dataframe\">\n",
       "  <thead>\n",
       "    <tr style=\"text-align: right;\">\n",
       "      <th></th>\n",
       "      <th>id</th>\n",
       "      <th>bookmarked_spots_count</th>\n",
       "      <th>challenge_pin_count</th>\n",
       "      <th>country_pin_count</th>\n",
       "      <th>highlights_count</th>\n",
       "      <th>items_count</th>\n",
       "      <th>photos_count</th>\n",
       "      <th>pins_count</th>\n",
       "      <th>province_pin_count</th>\n",
       "      <th>region_pin_count</th>\n",
       "      <th>state_pin_count</th>\n",
       "      <th>trips_count</th>\n",
       "      <th>friends_count</th>\n",
       "      <th>stamps_count</th>\n",
       "      <th>checkin_num</th>\n",
       "      <th>places_num</th>\n",
       "    </tr>\n",
       "  </thead>\n",
       "  <tbody>\n",
       "    <tr>\n",
       "      <th>2100</th>\n",
       "      <td>3920</td>\n",
       "      <td>0</td>\n",
       "      <td>1</td>\n",
       "      <td>3</td>\n",
       "      <td>0</td>\n",
       "      <td>6</td>\n",
       "      <td>0</td>\n",
       "      <td>4</td>\n",
       "      <td>0</td>\n",
       "      <td>3</td>\n",
       "      <td>0</td>\n",
       "      <td>0</td>\n",
       "      <td>19</td>\n",
       "      <td>3</td>\n",
       "      <td>4</td>\n",
       "      <td>3</td>\n",
       "    </tr>\n",
       "    <tr>\n",
       "      <th>202482</th>\n",
       "      <td>1440236</td>\n",
       "      <td>0</td>\n",
       "      <td>5</td>\n",
       "      <td>1</td>\n",
       "      <td>0</td>\n",
       "      <td>4</td>\n",
       "      <td>1</td>\n",
       "      <td>6</td>\n",
       "      <td>0</td>\n",
       "      <td>1</td>\n",
       "      <td>0</td>\n",
       "      <td>0</td>\n",
       "      <td>6</td>\n",
       "      <td>27</td>\n",
       "      <td>34</td>\n",
       "      <td>27</td>\n",
       "    </tr>\n",
       "    <tr>\n",
       "      <th>171850</th>\n",
       "      <td>496925</td>\n",
       "      <td>1</td>\n",
       "      <td>1</td>\n",
       "      <td>0</td>\n",
       "      <td>1</td>\n",
       "      <td>3</td>\n",
       "      <td>0</td>\n",
       "      <td>1</td>\n",
       "      <td>0</td>\n",
       "      <td>0</td>\n",
       "      <td>0</td>\n",
       "      <td>1</td>\n",
       "      <td>8</td>\n",
       "      <td>0</td>\n",
       "      <td>0</td>\n",
       "      <td>0</td>\n",
       "    </tr>\n",
       "    <tr>\n",
       "      <th>189327</th>\n",
       "      <td>1034316</td>\n",
       "      <td>0</td>\n",
       "      <td>3</td>\n",
       "      <td>1</td>\n",
       "      <td>0</td>\n",
       "      <td>2</td>\n",
       "      <td>0</td>\n",
       "      <td>5</td>\n",
       "      <td>0</td>\n",
       "      <td>2</td>\n",
       "      <td>1</td>\n",
       "      <td>0</td>\n",
       "      <td>14</td>\n",
       "      <td>12</td>\n",
       "      <td>12</td>\n",
       "      <td>12</td>\n",
       "    </tr>\n",
       "    <tr>\n",
       "      <th>43067</th>\n",
       "      <td>91361</td>\n",
       "      <td>0</td>\n",
       "      <td>1</td>\n",
       "      <td>1</td>\n",
       "      <td>0</td>\n",
       "      <td>6</td>\n",
       "      <td>0</td>\n",
       "      <td>2</td>\n",
       "      <td>0</td>\n",
       "      <td>1</td>\n",
       "      <td>0</td>\n",
       "      <td>0</td>\n",
       "      <td>45</td>\n",
       "      <td>1</td>\n",
       "      <td>1</td>\n",
       "      <td>1</td>\n",
       "    </tr>\n",
       "  </tbody>\n",
       "</table>\n",
       "</div>"
      ],
      "text/plain": [
       "             id  bookmarked_spots_count  challenge_pin_count  \\\n",
       "2100       3920                       0                    1   \n",
       "202482  1440236                       0                    5   \n",
       "171850   496925                       1                    1   \n",
       "189327  1034316                       0                    3   \n",
       "43067     91361                       0                    1   \n",
       "\n",
       "        country_pin_count  highlights_count  items_count  photos_count  \\\n",
       "2100                    3                 0            6             0   \n",
       "202482                  1                 0            4             1   \n",
       "171850                  0                 1            3             0   \n",
       "189327                  1                 0            2             0   \n",
       "43067                   1                 0            6             0   \n",
       "\n",
       "        pins_count  province_pin_count  region_pin_count  state_pin_count  \\\n",
       "2100             4                   0                 3                0   \n",
       "202482           6                   0                 1                0   \n",
       "171850           1                   0                 0                0   \n",
       "189327           5                   0                 2                1   \n",
       "43067            2                   0                 1                0   \n",
       "\n",
       "        trips_count  friends_count  stamps_count  checkin_num  places_num  \n",
       "2100              0             19             3            4           3  \n",
       "202482            0              6            27           34          27  \n",
       "171850            1              8             0            0           0  \n",
       "189327            0             14            12           12          12  \n",
       "43067             0             45             1            1           1  "
      ]
     },
     "execution_count": 24,
     "metadata": {},
     "output_type": "execute_result"
    }
   ],
   "source": [
    "users.sample(5)"
   ]
  },
  {
   "cell_type": "code",
   "execution_count": 25,
   "metadata": {},
   "outputs": [],
   "source": [
    "users = users[['id']]"
   ]
  },
  {
   "cell_type": "code",
   "execution_count": 26,
   "metadata": {},
   "outputs": [
    {
     "data": {
      "text/html": [
       "<div>\n",
       "<style scoped>\n",
       "    .dataframe tbody tr th:only-of-type {\n",
       "        vertical-align: middle;\n",
       "    }\n",
       "\n",
       "    .dataframe tbody tr th {\n",
       "        vertical-align: top;\n",
       "    }\n",
       "\n",
       "    .dataframe thead th {\n",
       "        text-align: right;\n",
       "    }\n",
       "</style>\n",
       "<table border=\"1\" class=\"dataframe\">\n",
       "  <thead>\n",
       "    <tr style=\"text-align: right;\">\n",
       "      <th></th>\n",
       "      <th>userid1</th>\n",
       "      <th>userid2</th>\n",
       "    </tr>\n",
       "  </thead>\n",
       "  <tbody>\n",
       "    <tr>\n",
       "      <th>3298653</th>\n",
       "      <td>1491154</td>\n",
       "      <td>2512993</td>\n",
       "    </tr>\n",
       "    <tr>\n",
       "      <th>2639042</th>\n",
       "      <td>290177</td>\n",
       "      <td>244335</td>\n",
       "    </tr>\n",
       "    <tr>\n",
       "      <th>1516833</th>\n",
       "      <td>2223743</td>\n",
       "      <td>1045591</td>\n",
       "    </tr>\n",
       "    <tr>\n",
       "      <th>386752</th>\n",
       "      <td>17385</td>\n",
       "      <td>54290</td>\n",
       "    </tr>\n",
       "    <tr>\n",
       "      <th>3791490</th>\n",
       "      <td>674283</td>\n",
       "      <td>2447831</td>\n",
       "    </tr>\n",
       "  </tbody>\n",
       "</table>\n",
       "</div>"
      ],
      "text/plain": [
       "         userid1  userid2\n",
       "3298653  1491154  2512993\n",
       "2639042   290177   244335\n",
       "1516833  2223743  1045591\n",
       "386752     17385    54290\n",
       "3791490   674283  2447831"
      ]
     },
     "execution_count": 26,
     "metadata": {},
     "output_type": "execute_result"
    }
   ],
   "source": [
    "friends.sample(5)"
   ]
  },
  {
   "cell_type": "code",
   "execution_count": 27,
   "metadata": {},
   "outputs": [
    {
     "data": {
      "text/html": [
       "<div>\n",
       "<style scoped>\n",
       "    .dataframe tbody tr th:only-of-type {\n",
       "        vertical-align: middle;\n",
       "    }\n",
       "\n",
       "    .dataframe tbody tr th {\n",
       "        vertical-align: top;\n",
       "    }\n",
       "\n",
       "    .dataframe thead th {\n",
       "        text-align: right;\n",
       "    }\n",
       "</style>\n",
       "<table border=\"1\" class=\"dataframe\">\n",
       "  <thead>\n",
       "    <tr style=\"text-align: right;\">\n",
       "      <th></th>\n",
       "      <th>userid</th>\n",
       "      <th>placeid</th>\n",
       "      <th>datetime</th>\n",
       "    </tr>\n",
       "  </thead>\n",
       "  <tbody>\n",
       "    <tr>\n",
       "      <th>12864224</th>\n",
       "      <td>7710</td>\n",
       "      <td>39590</td>\n",
       "      <td>2009-12-27T02:36:09Z</td>\n",
       "    </tr>\n",
       "    <tr>\n",
       "      <th>10301539</th>\n",
       "      <td>4696</td>\n",
       "      <td>44850</td>\n",
       "      <td>2010-01-04T01:41:48Z</td>\n",
       "    </tr>\n",
       "    <tr>\n",
       "      <th>1064212</th>\n",
       "      <td>1173</td>\n",
       "      <td>32752</td>\n",
       "      <td>2011-06-17T20:37:16Z</td>\n",
       "    </tr>\n",
       "    <tr>\n",
       "      <th>2186108</th>\n",
       "      <td>79509</td>\n",
       "      <td>667397</td>\n",
       "      <td>2010-09-22T15:20:57Z</td>\n",
       "    </tr>\n",
       "    <tr>\n",
       "      <th>6795026</th>\n",
       "      <td>1315453</td>\n",
       "      <td>4523219</td>\n",
       "      <td>2010-10-26T10:32:26Z</td>\n",
       "    </tr>\n",
       "  </tbody>\n",
       "</table>\n",
       "</div>"
      ],
      "text/plain": [
       "           userid  placeid              datetime\n",
       "12864224     7710    39590  2009-12-27T02:36:09Z\n",
       "10301539     4696    44850  2010-01-04T01:41:48Z\n",
       "1064212      1173    32752  2011-06-17T20:37:16Z\n",
       "2186108     79509   667397  2010-09-22T15:20:57Z\n",
       "6795026   1315453  4523219  2010-10-26T10:32:26Z"
      ]
     },
     "execution_count": 27,
     "metadata": {},
     "output_type": "execute_result"
    }
   ],
   "source": [
    "checkins.sample(5)"
   ]
  },
  {
   "cell_type": "code",
   "execution_count": 28,
   "metadata": {},
   "outputs": [
    {
     "data": {
      "text/html": [
       "<div>\n",
       "<style scoped>\n",
       "    .dataframe tbody tr th:only-of-type {\n",
       "        vertical-align: middle;\n",
       "    }\n",
       "\n",
       "    .dataframe tbody tr th {\n",
       "        vertical-align: top;\n",
       "    }\n",
       "\n",
       "    .dataframe thead th {\n",
       "        text-align: right;\n",
       "    }\n",
       "</style>\n",
       "<table border=\"1\" class=\"dataframe\">\n",
       "  <thead>\n",
       "    <tr style=\"text-align: right;\">\n",
       "      <th></th>\n",
       "      <th>id</th>\n",
       "      <th>created_at</th>\n",
       "      <th>lng</th>\n",
       "      <th>lat</th>\n",
       "      <th>photos_count</th>\n",
       "      <th>checkins_count</th>\n",
       "      <th>users_count</th>\n",
       "      <th>radius_meters</th>\n",
       "      <th>highlights_count</th>\n",
       "      <th>items_count</th>\n",
       "      <th>max_items_count</th>\n",
       "      <th>spot_categories</th>\n",
       "      <th>name</th>\n",
       "      <th>city_state</th>\n",
       "      <th>Unnamed: 5</th>\n",
       "      <th>Unnamed: 6</th>\n",
       "    </tr>\n",
       "  </thead>\n",
       "  <tbody>\n",
       "    <tr>\n",
       "      <th>1576636</th>\n",
       "      <td>3840367</td>\n",
       "      <td>2010-09-16T19:03:44Z</td>\n",
       "      <td>-118.397191</td>\n",
       "      <td>34.067259</td>\n",
       "      <td>0.0</td>\n",
       "      <td>1.0</td>\n",
       "      <td>1.0</td>\n",
       "      <td>75.0</td>\n",
       "      <td>0.0</td>\n",
       "      <td>0.0</td>\n",
       "      <td>10.0</td>\n",
       "      <td>[{'url': '/categories/366', 'name': 'Wedding'}]</td>\n",
       "      <td>NaN</td>\n",
       "      <td>NaN</td>\n",
       "      <td>NaN</td>\n",
       "      <td>NaN</td>\n",
       "    </tr>\n",
       "    <tr>\n",
       "      <th>229706</th>\n",
       "      <td>258113</td>\n",
       "      <td>2009-12-23T16:50:36Z</td>\n",
       "      <td>-122.347295</td>\n",
       "      <td>37.578458</td>\n",
       "      <td>1.0</td>\n",
       "      <td>21.0</td>\n",
       "      <td>8.0</td>\n",
       "      <td>75.0</td>\n",
       "      <td>0.0</td>\n",
       "      <td>1.0</td>\n",
       "      <td>10.0</td>\n",
       "      <td>[{'url': '/categories/117', 'name': 'Salon &amp; B...</td>\n",
       "      <td>NaN</td>\n",
       "      <td>NaN</td>\n",
       "      <td>NaN</td>\n",
       "      <td>NaN</td>\n",
       "    </tr>\n",
       "    <tr>\n",
       "      <th>1827170</th>\n",
       "      <td>6406215</td>\n",
       "      <td>2010-11-10T09:52:58Z</td>\n",
       "      <td>39.172296</td>\n",
       "      <td>21.559358</td>\n",
       "      <td>4.0</td>\n",
       "      <td>48.0</td>\n",
       "      <td>43.0</td>\n",
       "      <td>75.0</td>\n",
       "      <td>0.0</td>\n",
       "      <td>2.0</td>\n",
       "      <td>10.0</td>\n",
       "      <td>[{'url': '/categories/36', 'name': 'Technology'}]</td>\n",
       "      <td>NaN</td>\n",
       "      <td>NaN</td>\n",
       "      <td>NaN</td>\n",
       "      <td>NaN</td>\n",
       "    </tr>\n",
       "    <tr>\n",
       "      <th>2496099</th>\n",
       "      <td>7249934</td>\n",
       "      <td>2011-04-18T14:19:04Z</td>\n",
       "      <td>114.959955</td>\n",
       "      <td>4.960580</td>\n",
       "      <td>0.0</td>\n",
       "      <td>2.0</td>\n",
       "      <td>1.0</td>\n",
       "      <td>35.0</td>\n",
       "      <td>0.0</td>\n",
       "      <td>0.0</td>\n",
       "      <td>10.0</td>\n",
       "      <td>[{'url': '/categories/89', 'name': 'Craftsman'}]</td>\n",
       "      <td>NaN</td>\n",
       "      <td>NaN</td>\n",
       "      <td>NaN</td>\n",
       "      <td>NaN</td>\n",
       "    </tr>\n",
       "    <tr>\n",
       "      <th>2263441</th>\n",
       "      <td>6948667</td>\n",
       "      <td>2011-02-19T12:59:31Z</td>\n",
       "      <td>139.013055</td>\n",
       "      <td>34.753333</td>\n",
       "      <td>1.0</td>\n",
       "      <td>2.0</td>\n",
       "      <td>1.0</td>\n",
       "      <td>100.0</td>\n",
       "      <td>0.0</td>\n",
       "      <td>0.0</td>\n",
       "      <td>10.0</td>\n",
       "      <td>[{'url': '/categories/48', 'name': 'Resort'}]</td>\n",
       "      <td>NaN</td>\n",
       "      <td>NaN</td>\n",
       "      <td>NaN</td>\n",
       "      <td>NaN</td>\n",
       "    </tr>\n",
       "  </tbody>\n",
       "</table>\n",
       "</div>"
      ],
      "text/plain": [
       "              id            created_at         lng        lat  photos_count  \\\n",
       "1576636  3840367  2010-09-16T19:03:44Z -118.397191  34.067259           0.0   \n",
       "229706    258113  2009-12-23T16:50:36Z -122.347295  37.578458           1.0   \n",
       "1827170  6406215  2010-11-10T09:52:58Z   39.172296  21.559358           4.0   \n",
       "2496099  7249934  2011-04-18T14:19:04Z  114.959955   4.960580           0.0   \n",
       "2263441  6948667  2011-02-19T12:59:31Z  139.013055  34.753333           1.0   \n",
       "\n",
       "         checkins_count  users_count  radius_meters  highlights_count  \\\n",
       "1576636             1.0          1.0           75.0               0.0   \n",
       "229706             21.0          8.0           75.0               0.0   \n",
       "1827170            48.0         43.0           75.0               0.0   \n",
       "2496099             2.0          1.0           35.0               0.0   \n",
       "2263441             2.0          1.0          100.0               0.0   \n",
       "\n",
       "         items_count  max_items_count  \\\n",
       "1576636          0.0             10.0   \n",
       "229706           1.0             10.0   \n",
       "1827170          2.0             10.0   \n",
       "2496099          0.0             10.0   \n",
       "2263441          0.0             10.0   \n",
       "\n",
       "                                           spot_categories name city_state  \\\n",
       "1576636    [{'url': '/categories/366', 'name': 'Wedding'}]  NaN        NaN   \n",
       "229706   [{'url': '/categories/117', 'name': 'Salon & B...  NaN        NaN   \n",
       "1827170  [{'url': '/categories/36', 'name': 'Technology'}]  NaN        NaN   \n",
       "2496099   [{'url': '/categories/89', 'name': 'Craftsman'}]  NaN        NaN   \n",
       "2263441      [{'url': '/categories/48', 'name': 'Resort'}]  NaN        NaN   \n",
       "\n",
       "        Unnamed: 5 Unnamed: 6  \n",
       "1576636        NaN        NaN  \n",
       "229706         NaN        NaN  \n",
       "1827170        NaN        NaN  \n",
       "2496099        NaN        NaN  \n",
       "2263441        NaN        NaN  "
      ]
     },
     "execution_count": 28,
     "metadata": {},
     "output_type": "execute_result"
    }
   ],
   "source": [
    "pois.sample(5)"
   ]
  },
  {
   "cell_type": "code",
   "execution_count": 29,
   "metadata": {},
   "outputs": [],
   "source": [
    "pois = pois[['id', 'lat', 'lng']]"
   ]
  },
  {
   "cell_type": "markdown",
   "metadata": {},
   "source": [
    "### Samplear Datos para Ahorrar Memoria"
   ]
  },
  {
   "cell_type": "code",
   "execution_count": 30,
   "metadata": {},
   "outputs": [
    {
     "name": "stdout",
     "output_type": "stream",
     "text": [
      "Current users 407533\n",
      "Reduced users 81507\n",
      "Current checkins 36001959\n",
      "Reduced checkins 7116275\n",
      "Current POIs 2845888\n",
      "Reduced POIs 1448301\n"
     ]
    }
   ],
   "source": [
    "USER_FRAC = 0.2\n",
    "print('Current users', len(users))\n",
    "users = users.sample(frac=USER_FRAC).reset_index(drop=True)\n",
    "print('Reduced users', len(users))\n",
    "\n",
    "# Eliminamos los checkins de los usuarios borrados al hacer un inner join\n",
    "print('Current checkins', len(checkins))\n",
    "checkins = pd.merge(checkins, users, how='inner', left_on='userid', right_on='id', copy=False)[checkins.columns]\n",
    "checkins = checkins.reset_index(drop=True)\n",
    "print('Reduced checkins', len(checkins))\n",
    "\n",
    "# Eliminamos los POI que no se encuentran en ningún checkin\n",
    "print('Current POIs', len(pois))\n",
    "pois = pd.merge(pois, checkins[['placeid']], how='inner', left_on='id', right_on='placeid', copy=False).drop_duplicates()[pois.columns]\n",
    "pois = pois.reset_index(drop=True)\n",
    "print('Reduced POIs', len(pois))"
   ]
  },
  {
   "cell_type": "markdown",
   "metadata": {},
   "source": [
    "### Agregar Datos"
   ]
  },
  {
   "cell_type": "markdown",
   "metadata": {},
   "source": [
    "Agregamos ids secuenciales a los puntos de interes. Serán usados como sus ids únicos"
   ]
  },
  {
   "cell_type": "code",
   "execution_count": 31,
   "metadata": {},
   "outputs": [],
   "source": [
    "pois['place_sid'] = pois.index"
   ]
  },
  {
   "cell_type": "code",
   "execution_count": 32,
   "metadata": {},
   "outputs": [
    {
     "data": {
      "text/html": [
       "<div>\n",
       "<style scoped>\n",
       "    .dataframe tbody tr th:only-of-type {\n",
       "        vertical-align: middle;\n",
       "    }\n",
       "\n",
       "    .dataframe tbody tr th {\n",
       "        vertical-align: top;\n",
       "    }\n",
       "\n",
       "    .dataframe thead th {\n",
       "        text-align: right;\n",
       "    }\n",
       "</style>\n",
       "<table border=\"1\" class=\"dataframe\">\n",
       "  <thead>\n",
       "    <tr style=\"text-align: right;\">\n",
       "      <th></th>\n",
       "      <th>id</th>\n",
       "      <th>lat</th>\n",
       "      <th>lng</th>\n",
       "      <th>place_sid</th>\n",
       "    </tr>\n",
       "  </thead>\n",
       "  <tbody>\n",
       "    <tr>\n",
       "      <th>0</th>\n",
       "      <td>8904</td>\n",
       "      <td>39.052318</td>\n",
       "      <td>-94.607499</td>\n",
       "      <td>0</td>\n",
       "    </tr>\n",
       "    <tr>\n",
       "      <th>1</th>\n",
       "      <td>8932</td>\n",
       "      <td>32.927662</td>\n",
       "      <td>-97.254356</td>\n",
       "      <td>1</td>\n",
       "    </tr>\n",
       "    <tr>\n",
       "      <th>2</th>\n",
       "      <td>8936</td>\n",
       "      <td>39.053318</td>\n",
       "      <td>-94.591995</td>\n",
       "      <td>2</td>\n",
       "    </tr>\n",
       "    <tr>\n",
       "      <th>3</th>\n",
       "      <td>8938</td>\n",
       "      <td>39.052824</td>\n",
       "      <td>-94.590311</td>\n",
       "      <td>3</td>\n",
       "    </tr>\n",
       "    <tr>\n",
       "      <th>4</th>\n",
       "      <td>8947</td>\n",
       "      <td>37.331880</td>\n",
       "      <td>-122.029631</td>\n",
       "      <td>4</td>\n",
       "    </tr>\n",
       "  </tbody>\n",
       "</table>\n",
       "</div>"
      ],
      "text/plain": [
       "     id        lat         lng  place_sid\n",
       "0  8904  39.052318  -94.607499          0\n",
       "1  8932  32.927662  -97.254356          1\n",
       "2  8936  39.053318  -94.591995          2\n",
       "3  8938  39.052824  -94.590311          3\n",
       "4  8947  37.331880 -122.029631          4"
      ]
     },
     "execution_count": 32,
     "metadata": {},
     "output_type": "execute_result"
    }
   ],
   "source": [
    "pois.head()"
   ]
  },
  {
   "cell_type": "code",
   "execution_count": 33,
   "metadata": {},
   "outputs": [
    {
     "data": {
      "text/html": [
       "<div>\n",
       "<style scoped>\n",
       "    .dataframe tbody tr th:only-of-type {\n",
       "        vertical-align: middle;\n",
       "    }\n",
       "\n",
       "    .dataframe tbody tr th {\n",
       "        vertical-align: top;\n",
       "    }\n",
       "\n",
       "    .dataframe thead th {\n",
       "        text-align: right;\n",
       "    }\n",
       "</style>\n",
       "<table border=\"1\" class=\"dataframe\">\n",
       "  <thead>\n",
       "    <tr style=\"text-align: right;\">\n",
       "      <th></th>\n",
       "      <th>id</th>\n",
       "    </tr>\n",
       "  </thead>\n",
       "  <tbody>\n",
       "    <tr>\n",
       "      <th>0</th>\n",
       "      <td>2481254</td>\n",
       "    </tr>\n",
       "    <tr>\n",
       "      <th>1</th>\n",
       "      <td>2666671</td>\n",
       "    </tr>\n",
       "    <tr>\n",
       "      <th>2</th>\n",
       "      <td>203535</td>\n",
       "    </tr>\n",
       "    <tr>\n",
       "      <th>3</th>\n",
       "      <td>2290244</td>\n",
       "    </tr>\n",
       "    <tr>\n",
       "      <th>4</th>\n",
       "      <td>319470</td>\n",
       "    </tr>\n",
       "  </tbody>\n",
       "</table>\n",
       "</div>"
      ],
      "text/plain": [
       "        id\n",
       "0  2481254\n",
       "1  2666671\n",
       "2   203535\n",
       "3  2290244\n",
       "4   319470"
      ]
     },
     "execution_count": 33,
     "metadata": {},
     "output_type": "execute_result"
    }
   ],
   "source": [
    "users.head()"
   ]
  },
  {
   "cell_type": "code",
   "execution_count": 34,
   "metadata": {},
   "outputs": [],
   "source": [
    "users['user_sid'] = users.index "
   ]
  },
  {
   "cell_type": "code",
   "execution_count": 35,
   "metadata": {},
   "outputs": [],
   "source": [
    "checkins = pd.merge(pois, checkins, left_on='id', right_on='placeid', copy=False).drop('id', axis=1)"
   ]
  },
  {
   "cell_type": "code",
   "execution_count": 36,
   "metadata": {},
   "outputs": [],
   "source": [
    "users_checkins = pd.merge(users, checkins, left_on='id', right_on='userid', copy=False).drop('id', axis=1)"
   ]
  },
  {
   "cell_type": "code",
   "execution_count": 37,
   "metadata": {},
   "outputs": [],
   "source": [
    "users_checkins['date'] = pd.to_datetime(users_checkins['datetime'])\n",
    "users_checkins = users_checkins.drop('datetime', axis=1)\n",
    "users_checkins.sort_values(by=['user_sid', 'date'], inplace=True)"
   ]
  },
  {
   "cell_type": "code",
   "execution_count": 40,
   "metadata": {},
   "outputs": [],
   "source": [
    "from collections import defaultdict"
   ]
  },
  {
   "cell_type": "code",
   "execution_count": 47,
   "metadata": {},
   "outputs": [],
   "source": [
    "user_poi_seq = defaultdict(lambda: [])\n",
    "user_date_seq = defaultdict(lambda: [])"
   ]
  },
  {
   "cell_type": "code",
   "execution_count": 48,
   "metadata": {},
   "outputs": [],
   "source": [
    "for user_sid, place_sid, date in zip(users_checkins['user_sid'], users_checkins['place_sid'], users_checkins['date']):\n",
    "    user_poi_seq[user_sid].append(place_sid)\n",
    "    user_date_seq[user_sid].append(date)"
   ]
  },
  {
   "cell_type": "code",
   "execution_count": 54,
   "metadata": {},
   "outputs": [],
   "source": [
    "sizes = pd.DataFrame([len(seq) for seq in user_poi_seq.values()])"
   ]
  },
  {
   "cell_type": "code",
   "execution_count": 64,
   "metadata": {},
   "outputs": [],
   "source": [
    "from random import sample"
   ]
  },
  {
   "cell_type": "markdown",
   "metadata": {},
   "source": [
    "Generamos secuencias de puntos de interes visitados por usuarios de un largo predefinido para entrenar el modelo de embeddings"
   ]
  },
  {
   "cell_type": "code",
   "execution_count": 104,
   "metadata": {},
   "outputs": [],
   "source": [
    "MAX_SEQUENCES_PER_USER = 200\n",
    "SEQUENCE_LENGTH = 12\n",
    "\n",
    "poi_sequence_dataset = []\n",
    "\n",
    "for user_sid, sequence in user_poi_seq.items():\n",
    "    if len(sequence) < SEQUENCE_LENGTH: continue\n",
    "\n",
    "    candidate_indexes = list(range(0, len(sequence) - SEQUENCE_LENGTH, SEQUENCE_LENGTH))\n",
    "\n",
    "    n_sequences = min(len(candidate_indexes), MAX_SEQUENCES_PER_USER)\n",
    "    start_indexes = sample(candidate_indexes, n_sequences)\n",
    "\n",
    "    for idx in start_indexes:\n",
    "        new_seq = sequence[idx:idx + SEQUENCE_LENGTH]\n",
    "        poi_sequence_dataset.append(new_seq) \n",
    "    "
   ]
  },
  {
   "cell_type": "code",
   "execution_count": 105,
   "metadata": {},
   "outputs": [],
   "source": [
    "def split_list(input, frac=0.5):\n",
    "    split_index = int(len(input) * frac)\n",
    "    return input[:split_index], input[split_index:]"
   ]
  },
  {
   "cell_type": "markdown",
   "metadata": {},
   "source": [
    "Realizamos separacion en train / test / split de 80 / 10 / 10"
   ]
  },
  {
   "cell_type": "code",
   "execution_count": 106,
   "metadata": {},
   "outputs": [],
   "source": [
    "train_poi_sequence, rest = split_list(poi_sequence_dataset, 0.8)\n",
    "test_poi_sequence, val_poi_sequence = split_list(rest)"
   ]
  },
  {
   "cell_type": "code",
   "execution_count": 108,
   "metadata": {},
   "outputs": [],
   "source": [
    "def split_history_target(sequences):\n",
    "    history = [ seq[:-1] for seq in sequences]\n",
    "    targets = [ seq[-1] for seq in sequences]\n",
    "    return history, targets"
   ]
  },
  {
   "cell_type": "code",
   "execution_count": 109,
   "metadata": {},
   "outputs": [],
   "source": [
    "train_seq_history, train_seq_target = split_history_target(train_poi_sequence)\n",
    "test_seq_history, test_seq_target = split_history_target(test_poi_sequence)\n",
    "val_seq_history, val_seq_target = split_history_target(val_poi_sequence)"
   ]
  },
  {
   "cell_type": "code",
   "execution_count": 111,
   "metadata": {},
   "outputs": [],
   "source": [
    "q = { poi for sequence in  poi_sequence_dataset  for poi in sequence }"
   ]
  }
 ],
 "metadata": {
  "kernelspec": {
   "display_name": "venv",
   "language": "python",
   "name": "python3"
  },
  "language_info": {
   "codemirror_mode": {
    "name": "ipython",
    "version": 3
   },
   "file_extension": ".py",
   "mimetype": "text/x-python",
   "name": "python",
   "nbconvert_exporter": "python",
   "pygments_lexer": "ipython3",
   "version": "3.10.7"
  },
  "orig_nbformat": 4,
  "vscode": {
   "interpreter": {
    "hash": "5d0f3f363c2ee98fd619740d6785905f65271fae303a875a61ead58f40aa4677"
   }
  }
 },
 "nbformat": 4,
 "nbformat_minor": 2
}
